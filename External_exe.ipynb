{
  "nbformat": 4,
  "nbformat_minor": 0,
  "metadata": {
    "colab": {
      "name": "External_exe.ipynb",
      "provenance": [],
      "authorship_tag": "ABX9TyPzEzh+xJH71jM/o+qbHF58",
      "include_colab_link": true
    },
    "kernelspec": {
      "name": "python3",
      "display_name": "Python 3"
    }
  },
  "cells": [
    {
      "cell_type": "markdown",
      "metadata": {
        "id": "view-in-github",
        "colab_type": "text"
      },
      "source": [
        "<a href=\"https://colab.research.google.com/github/BatoolMM/fastai/blob/master/External_exe.ipynb\" target=\"_parent\"><img src=\"https://colab.research.google.com/assets/colab-badge.svg\" alt=\"Open In Colab\"/></a>"
      ]
    },
    {
      "cell_type": "markdown",
      "metadata": {
        "id": "XCyeTyrBwrQ8",
        "colab_type": "text"
      },
      "source": [
        "# **Malak' Exersizes** "
      ]
    },
    {
      "cell_type": "code",
      "metadata": {
        "id": "CLptfKBSdGaY",
        "colab_type": "code",
        "colab": {
          "base_uri": "https://localhost:8080/",
          "height": 51
        },
        "outputId": "9395c802-9566-4e58-90a4-e6ec639fcef0"
      },
      "source": [
        "Normal_range = range(60, 120)\n",
        "glucose = int(input('what is your glucose reading?:'))\n",
        "\n",
        "if glucose in Normal_range:\n",
        "  print('Normal')\n",
        "elif glucose < 60:\n",
        "  print('Low')\n",
        "else:\n",
        "  print('High')"
      ],
      "execution_count": 2,
      "outputs": [
        {
          "output_type": "stream",
          "text": [
            "what is your glucose reading?:66\n",
            "Normal\n"
          ],
          "name": "stdout"
        }
      ]
    },
    {
      "cell_type": "code",
      "metadata": {
        "id": "PfOMeXfWw5_J",
        "colab_type": "code",
        "colab": {
          "base_uri": "https://localhost:8080/",
          "height": 51
        },
        "outputId": "a51b0664-928c-4944-d71a-dfc2e4b64dd7"
      },
      "source": [
        "normal_range = range(60,120)\n",
        "glucose = int(input(\"what is your glucose reading? \"))\n",
        "\n",
        "if glucose in normal_range:\n",
        "   print(\"Your glucose level is in the normal range\")\n",
        "else:\n",
        "   print(\"Your glucose level i is not the normal range\")\n",
        "  "
      ],
      "execution_count": 3,
      "outputs": [
        {
          "output_type": "stream",
          "text": [
            "what is your glucose reading? 44\n",
            "Your glucose level i is not the normal range\n"
          ],
          "name": "stdout"
        }
      ]
    },
    {
      "cell_type": "code",
      "metadata": {
        "id": "6vGwY1J7w6p1",
        "colab_type": "code",
        "colab": {
          "base_uri": "https://localhost:8080/",
          "height": 51
        },
        "outputId": "f75bf334-3b91-40ae-95ed-50d188ed69a6"
      },
      "source": [
        "glucose = input(\"what is your glucose reading? \")\n",
        "\n",
        "if int(glucose) in range(60,120):\n",
        "   print(f\"Your glucose level {glucose} is in the normal range 60-120\")\n",
        "else:\n",
        "   print(f\"Your glucose level {glucose} is not the normal range 60-120\")"
      ],
      "execution_count": 4,
      "outputs": [
        {
          "output_type": "stream",
          "text": [
            "what is your glucose reading? 130\n",
            "Your glucose level 130 is not the normal range 60-120\n"
          ],
          "name": "stdout"
        }
      ]
    },
    {
      "cell_type": "markdown",
      "metadata": {
        "id": "YxFqHWvZxoCv",
        "colab_type": "text"
      },
      "source": [
        "# **Workshop's Exersizes**"
      ]
    },
    {
      "cell_type": "code",
      "metadata": {
        "id": "IIWRSoj8w6zN",
        "colab_type": "code",
        "colab": {
          "base_uri": "https://localhost:8080/",
          "height": 34
        },
        "outputId": "fbe795b4-e6c2-4197-d053-28716e3f913d"
      },
      "source": [
        "def seq_avg(x,y):\n",
        "  return (x+y)/2\n",
        "lambda x,y: (x+y)/2"
      ],
      "execution_count": 5,
      "outputs": [
        {
          "output_type": "execute_result",
          "data": {
            "text/plain": [
              "<function __main__.<lambda>>"
            ]
          },
          "metadata": {
            "tags": []
          },
          "execution_count": 5
        }
      ]
    },
    {
      "cell_type": "code",
      "metadata": {
        "id": "B0KjcI7Jkecc",
        "colab_type": "code",
        "colab": {}
      },
      "source": [
        "def seq_avg2(seq:list)-> float:\n",
        "  '''docstring: return the average of the list\n",
        "  >>> seq([2,6])\n",
        "  3.5\n",
        "  '''\n",
        "  return sum(seq)/len(seq)\n"
      ],
      "execution_count": 6,
      "outputs": []
    },
    {
      "cell_type": "code",
      "metadata": {
        "id": "wBDM77pBw7Uy",
        "colab_type": "code",
        "colab": {
          "base_uri": "https://localhost:8080/",
          "height": 34
        },
        "outputId": "ad88d352-b233-42cb-c2e4-f758c0895c6c"
      },
      "source": [
        "x = [3,4,5,3,2]\n",
        "seq_avg2(x)\n"
      ],
      "execution_count": 7,
      "outputs": [
        {
          "output_type": "execute_result",
          "data": {
            "text/plain": [
              "3.4"
            ]
          },
          "metadata": {
            "tags": []
          },
          "execution_count": 7
        }
      ]
    },
    {
      "cell_type": "code",
      "metadata": {
        "id": "ZcSGjLOC1i9s",
        "colab_type": "code",
        "colab": {
          "base_uri": "https://localhost:8080/",
          "height": 35
        },
        "outputId": "ae7c0919-c8f5-4bdc-9008-9b5239b2d61b"
      },
      "source": [
        "seq_avg2.__doc__\n",
        "#dunder doc , sphinx or doctest will make pdf out of the docstring and test the docstring examples "
      ],
      "execution_count": 8,
      "outputs": [
        {
          "output_type": "execute_result",
          "data": {
            "application/vnd.google.colaboratory.intrinsic+json": {
              "type": "string"
            },
            "text/plain": [
              "'docstring: return the average of the list\\n  >>> seq([2,6])\\n  3.5\\n  '"
            ]
          },
          "metadata": {
            "tags": []
          },
          "execution_count": 8
        }
      ]
    },
    {
      "cell_type": "code",
      "metadata": {
        "id": "hNiV3tAHw7fZ",
        "colab_type": "code",
        "colab": {
          "base_uri": "https://localhost:8080/",
          "height": 136
        },
        "outputId": "f3bf12d5-dba9-45c2-b9ab-dc440b31300a"
      },
      "source": [
        "help(seq_avg2)"
      ],
      "execution_count": 9,
      "outputs": [
        {
          "output_type": "stream",
          "text": [
            "Help on function seq_avg2 in module __main__:\n",
            "\n",
            "seq_avg2(seq:list) -> float\n",
            "    docstring: return the average of the list\n",
            "    >>> seq([2,6])\n",
            "    3.5\n",
            "\n"
          ],
          "name": "stdout"
        }
      ]
    },
    {
      "cell_type": "code",
      "metadata": {
        "id": "3Fm-v2HMw7p9",
        "colab_type": "code",
        "colab": {}
      },
      "source": [
        "def subgroup_apply(data, agg_func = seq_avg2):\n",
        "  return agg_func(data)"
      ],
      "execution_count": 12,
      "outputs": []
    },
    {
      "cell_type": "code",
      "metadata": {
        "id": "NUpmWmhSxaCN",
        "colab_type": "code",
        "colab": {
          "base_uri": "https://localhost:8080/",
          "height": 51
        },
        "outputId": "ae776332-8123-4b67-aec7-bbf2720ffaea"
      },
      "source": [
        "x = [3,5,7,3]\n",
        "print(f'the result of subgroup_apply(x) is {subgroup_apply(x)}')\n",
        "print(f'the result of subgroup_apply(x, sum) is {subgroup_apply(x, sum)}')"
      ],
      "execution_count": 13,
      "outputs": [
        {
          "output_type": "stream",
          "text": [
            "the result of subgroup_apply(x) is 4.5\n",
            "the result of subgroup_apply(x, sum) is 18\n"
          ],
          "name": "stdout"
        }
      ]
    }
  ]
}