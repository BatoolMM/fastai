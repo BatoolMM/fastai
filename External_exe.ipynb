{
  "nbformat": 4,
  "nbformat_minor": 0,
  "metadata": {
    "colab": {
      "name": "External_exe.ipynb",
      "provenance": [],
      "authorship_tag": "ABX9TyMsavQARPNmqfB5S4RDCbxT",
      "include_colab_link": true
    },
    "kernelspec": {
      "name": "python3",
      "display_name": "Python 3"
    },
    "accelerator": "GPU"
  },
  "cells": [
    {
      "cell_type": "markdown",
      "metadata": {
        "id": "view-in-github",
        "colab_type": "text"
      },
      "source": [
        "<a href=\"https://colab.research.google.com/github/BatoolMM/fastai/blob/master/External_exe.ipynb\" target=\"_parent\"><img src=\"https://colab.research.google.com/assets/colab-badge.svg\" alt=\"Open In Colab\"/></a>"
      ]
    },
    {
      "cell_type": "markdown",
      "metadata": {
        "id": "XCyeTyrBwrQ8",
        "colab_type": "text"
      },
      "source": [
        "# **Malak' Exersizes** "
      ]
    },
    {
      "cell_type": "code",
      "metadata": {
        "id": "CLptfKBSdGaY",
        "colab_type": "code",
        "colab": {
          "base_uri": "https://localhost:8080/",
          "height": 51
        },
        "outputId": "26d2d5f7-8339-4f4f-8a23-b9b3b160f6f2"
      },
      "source": [
        "Normal_range = range(60, 120)\n",
        "glucose = int(input('what is your glucose reading?:'))\n",
        "\n",
        "if glucose in Normal_range:\n",
        "  print('Normal')\n",
        "elif glucose < 60:\n",
        "  print('Low')\n",
        "else:\n",
        "  print('High')"
      ],
      "execution_count": 1,
      "outputs": [
        {
          "output_type": "stream",
          "text": [
            "what is your glucose reading?:50\n",
            "Low\n"
          ],
          "name": "stdout"
        }
      ]
    },
    {
      "cell_type": "code",
      "metadata": {
        "id": "PfOMeXfWw5_J",
        "colab_type": "code",
        "colab": {
          "base_uri": "https://localhost:8080/",
          "height": 51
        },
        "outputId": "28c5061e-91ad-49cd-a3dc-f0f969c53560"
      },
      "source": [
        "normal_range = range(60,120)\n",
        "glucose = int(input(\"what is your glucose reading? \"))\n",
        "\n",
        "if glucose in normal_range:\n",
        "   print(\"Your glucose level is in the normal range\")\n",
        "else:\n",
        "   print(\"Your glucose level i is not the normal range\")\n",
        "  "
      ],
      "execution_count": 2,
      "outputs": [
        {
          "output_type": "stream",
          "text": [
            "what is your glucose reading? 120\n",
            "Your glucose level i is not the normal range\n"
          ],
          "name": "stdout"
        }
      ]
    },
    {
      "cell_type": "code",
      "metadata": {
        "id": "6vGwY1J7w6p1",
        "colab_type": "code",
        "colab": {
          "base_uri": "https://localhost:8080/",
          "height": 51
        },
        "outputId": "a99ed0c5-cc28-425e-e3fd-d14b896f8239"
      },
      "source": [
        "glucose = input(\"what is your glucose reading? \")\n",
        "\n",
        "if int(glucose) in range(60,120):\n",
        "   print(f\"Your glucose level {glucose} is in the normal range 60-120\")\n",
        "else:\n",
        "   print(f\"Your glucose level {glucose} is not the normal range 60-120\")"
      ],
      "execution_count": 3,
      "outputs": [
        {
          "output_type": "stream",
          "text": [
            "what is your glucose reading? 140\n",
            "Your glucose level 140 is not the normal range 60-120\n"
          ],
          "name": "stdout"
        }
      ]
    },
    {
      "cell_type": "markdown",
      "metadata": {
        "id": "YxFqHWvZxoCv",
        "colab_type": "text"
      },
      "source": [
        "# **Workshop's Exersizes**"
      ]
    },
    {
      "cell_type": "code",
      "metadata": {
        "id": "IIWRSoj8w6zN",
        "colab_type": "code",
        "colab": {
          "base_uri": "https://localhost:8080/",
          "height": 34
        },
        "outputId": "ec05545a-87be-4d96-b1bb-90ef11fdbde4"
      },
      "source": [
        "def seq_avg(x,y):\n",
        "  return (x+y)/2\n",
        "lambda x,y: (x+y)/2"
      ],
      "execution_count": 4,
      "outputs": [
        {
          "output_type": "execute_result",
          "data": {
            "text/plain": [
              "<function __main__.<lambda>>"
            ]
          },
          "metadata": {
            "tags": []
          },
          "execution_count": 4
        }
      ]
    },
    {
      "cell_type": "code",
      "metadata": {
        "id": "B0KjcI7Jkecc",
        "colab_type": "code",
        "colab": {}
      },
      "source": [
        "def seq_avg2(seq:list)-> float:\n",
        "  '''docstring: return the average of the list\n",
        "  >>> seq([2,6])\n",
        "  3.5\n",
        "  '''\n",
        "  return sum(seq)/len(seq)\n"
      ],
      "execution_count": 5,
      "outputs": []
    },
    {
      "cell_type": "code",
      "metadata": {
        "id": "wBDM77pBw7Uy",
        "colab_type": "code",
        "colab": {
          "base_uri": "https://localhost:8080/",
          "height": 34
        },
        "outputId": "3ad7cf4a-9da4-4b48-b957-3f4ae40ab2df"
      },
      "source": [
        "x = [3,4,5,3,2]\n",
        "seq_avg2(x)\n"
      ],
      "execution_count": 6,
      "outputs": [
        {
          "output_type": "execute_result",
          "data": {
            "text/plain": [
              "3.4"
            ]
          },
          "metadata": {
            "tags": []
          },
          "execution_count": 6
        }
      ]
    },
    {
      "cell_type": "code",
      "metadata": {
        "id": "ZcSGjLOC1i9s",
        "colab_type": "code",
        "colab": {
          "base_uri": "https://localhost:8080/",
          "height": 35
        },
        "outputId": "31e18c20-a40f-47c4-dd95-753a11c878fc"
      },
      "source": [
        "seq_avg2.__doc__\n",
        "#dunder doc , sphinx or doctest will make pdf out of the docstring and test the docstring examples "
      ],
      "execution_count": 7,
      "outputs": [
        {
          "output_type": "execute_result",
          "data": {
            "application/vnd.google.colaboratory.intrinsic+json": {
              "type": "string"
            },
            "text/plain": [
              "'docstring: return the average of the list\\n  >>> seq([2,6])\\n  3.5\\n  '"
            ]
          },
          "metadata": {
            "tags": []
          },
          "execution_count": 7
        }
      ]
    },
    {
      "cell_type": "code",
      "metadata": {
        "id": "hNiV3tAHw7fZ",
        "colab_type": "code",
        "colab": {
          "base_uri": "https://localhost:8080/",
          "height": 136
        },
        "outputId": "e3aea926-7393-4d14-ec53-c3835229e6e0"
      },
      "source": [
        "help(seq_avg2)"
      ],
      "execution_count": 8,
      "outputs": [
        {
          "output_type": "stream",
          "text": [
            "Help on function seq_avg2 in module __main__:\n",
            "\n",
            "seq_avg2(seq:list) -> float\n",
            "    docstring: return the average of the list\n",
            "    >>> seq([2,6])\n",
            "    3.5\n",
            "\n"
          ],
          "name": "stdout"
        }
      ]
    },
    {
      "cell_type": "code",
      "metadata": {
        "id": "3Fm-v2HMw7p9",
        "colab_type": "code",
        "colab": {}
      },
      "source": [
        "def subgroup_apply(data, agg_func = seq_avg2):\n",
        "  return agg_func(data)"
      ],
      "execution_count": 9,
      "outputs": []
    },
    {
      "cell_type": "code",
      "metadata": {
        "id": "NUpmWmhSxaCN",
        "colab_type": "code",
        "colab": {
          "base_uri": "https://localhost:8080/",
          "height": 51
        },
        "outputId": "d4bd8529-779c-4c83-e640-fd4ec91f8109"
      },
      "source": [
        "x = [3,5,7,3]\n",
        "print(f'the result of subgroup_apply(x) is {subgroup_apply(x)}')\n",
        "print(f'the result of subgroup_apply(x, sum) is {subgroup_apply(x, sum)}')"
      ],
      "execution_count": 10,
      "outputs": [
        {
          "output_type": "stream",
          "text": [
            "the result of subgroup_apply(x) is 4.5\n",
            "the result of subgroup_apply(x, sum) is 18\n"
          ],
          "name": "stdout"
        }
      ]
    },
    {
      "cell_type": "code",
      "metadata": {
        "id": "M8WQY_nj9-1C",
        "colab_type": "code",
        "colab": {
          "base_uri": "https://localhost:8080/",
          "height": 34
        },
        "outputId": "468b03e2-56ca-4a6e-c49d-15bc141b9337"
      },
      "source": [
        "id(x)"
      ],
      "execution_count": 11,
      "outputs": [
        {
          "output_type": "execute_result",
          "data": {
            "text/plain": [
              "140433174165768"
            ]
          },
          "metadata": {
            "tags": []
          },
          "execution_count": 11
        }
      ]
    },
    {
      "cell_type": "code",
      "metadata": {
        "id": "JKhQh5Pe-Asj",
        "colab_type": "code",
        "colab": {
          "base_uri": "https://localhost:8080/",
          "height": 34
        },
        "outputId": "22d16c57-dd2d-4723-99e0-8bc9d8068820"
      },
      "source": [
        "import sys\n",
        "\n",
        "y = sys.getrefcount(x)\n",
        "y\n",
        "\n",
        "#from the local namespace and global namespace\n"
      ],
      "execution_count": 14,
      "outputs": [
        {
          "output_type": "execute_result",
          "data": {
            "text/plain": [
              "2"
            ]
          },
          "metadata": {
            "tags": []
          },
          "execution_count": 14
        }
      ]
    },
    {
      "cell_type": "code",
      "metadata": {
        "id": "q4MYFPiL-A5j",
        "colab_type": "code",
        "colab": {
          "base_uri": "https://localhost:8080/",
          "height": 34
        },
        "outputId": "87ddc187-fdd4-469a-840d-282824799ac6"
      },
      "source": [
        "x.append(6)\n",
        "x"
      ],
      "execution_count": 16,
      "outputs": [
        {
          "output_type": "execute_result",
          "data": {
            "text/plain": [
              "[3, 5, 7, 3, 6, 6]"
            ]
          },
          "metadata": {
            "tags": []
          },
          "execution_count": 16
        }
      ]
    },
    {
      "cell_type": "code",
      "metadata": {
        "id": "6ripXtGL-BHI",
        "colab_type": "code",
        "colab": {
          "base_uri": "https://localhost:8080/",
          "height": 34
        },
        "outputId": "e35f7419-8fea-45cc-a6b8-e87cc7c629ff"
      },
      "source": [
        "id(x)"
      ],
      "execution_count": 17,
      "outputs": [
        {
          "output_type": "execute_result",
          "data": {
            "text/plain": [
              "140433174165768"
            ]
          },
          "metadata": {
            "tags": []
          },
          "execution_count": 17
        }
      ]
    },
    {
      "cell_type": "code",
      "metadata": {
        "id": "mLJrT_Gc-BTv",
        "colab_type": "code",
        "colab": {}
      },
      "source": [
        "dir()"
      ],
      "execution_count": null,
      "outputs": []
    },
    {
      "cell_type": "code",
      "metadata": {
        "id": "qIYtLXnC-BiC",
        "colab_type": "code",
        "colab": {}
      },
      "source": [
        "class Cup:\n",
        "  def __init__(self, amount, ingred):\n",
        "    self.amount = amount\n",
        "    self.ingred = ingred\n",
        "  def human_readable(self):\n",
        "    return f'{self.amount:.1f} cups of {self.ingred}'\n"
      ],
      "execution_count": 57,
      "outputs": []
    },
    {
      "cell_type": "code",
      "metadata": {
        "id": "ckyHYMsX-BvD",
        "colab_type": "code",
        "colab": {}
      },
      "source": [
        "sugar = Cup(0.532, 'sugar')\n",
        "#dir(c)\n"
      ],
      "execution_count": 58,
      "outputs": []
    },
    {
      "cell_type": "code",
      "metadata": {
        "id": "WhA0BymW-B9W",
        "colab_type": "code",
        "colab": {
          "base_uri": "https://localhost:8080/",
          "height": 35
        },
        "outputId": "03f779e8-e90a-47e9-83af-8946fc2d28ab"
      },
      "source": [
        "res = sugar.human_readable()\n",
        "res"
      ],
      "execution_count": 59,
      "outputs": [
        {
          "output_type": "execute_result",
          "data": {
            "application/vnd.google.colaboratory.intrinsic+json": {
              "type": "string"
            },
            "text/plain": [
              "'0.5 cups of sugar'"
            ]
          },
          "metadata": {
            "tags": []
          },
          "execution_count": 59
        }
      ]
    },
    {
      "cell_type": "code",
      "metadata": {
        "id": "j9A0k1R3-CKC",
        "colab_type": "code",
        "colab": {}
      },
      "source": [
        "class Cup:\n",
        "  def __init__(self, num, dem, ingred):\n",
        "    self.num = num\n",
        "    self.dem = dem\n",
        "    self._ingred = ingred\n",
        "  def human_readable(self):\n",
        "    return f'{self.num:.0f}/{self.dem:.0f} cups of {self._ingred}'"
      ],
      "execution_count": 70,
      "outputs": []
    },
    {
      "cell_type": "code",
      "metadata": {
        "id": "hAP9v2q0-CWY",
        "colab_type": "code",
        "colab": {
          "base_uri": "https://localhost:8080/",
          "height": 35
        },
        "outputId": "bd9a157e-ad82-4b7e-c3c5-87e2e906e9fe"
      },
      "source": [
        "sugar = Cup(2,3, 'sugar')\n",
        "res = sugar.human_readable()\n",
        "res"
      ],
      "execution_count": 71,
      "outputs": [
        {
          "output_type": "execute_result",
          "data": {
            "application/vnd.google.colaboratory.intrinsic+json": {
              "type": "string"
            },
            "text/plain": [
              "'2/3 cups of sugar'"
            ]
          },
          "metadata": {
            "tags": []
          },
          "execution_count": 71
        }
      ]
    },
    {
      "cell_type": "code",
      "metadata": {
        "id": "BPO9JqEt-Cm9",
        "colab_type": "code",
        "colab": {
          "base_uri": "https://localhost:8080/",
          "height": 35
        },
        "outputId": "f0b79ff2-1d83-4c65-b1a3-5e724a0dd877"
      },
      "source": [
        "sugar._ingred"
      ],
      "execution_count": 67,
      "outputs": [
        {
          "output_type": "execute_result",
          "data": {
            "application/vnd.google.colaboratory.intrinsic+json": {
              "type": "string"
            },
            "text/plain": [
              "'sugar'"
            ]
          },
          "metadata": {
            "tags": []
          },
          "execution_count": 67
        }
      ]
    },
    {
      "cell_type": "code",
      "metadata": {
        "id": "UhBKWawn-C-z",
        "colab_type": "code",
        "colab": {}
      },
      "source": [
        "from dataclasses import dataclass\n",
        "import typing\n",
        "\n",
        "@dataclass\n",
        "class Measurement:\n",
        "  def __init__(self, num, dem, ingred):\n",
        "    self.num = num\n",
        "    self.dem = dem\n",
        "    self._ingred = ingred\n",
        "\n",
        "\n",
        "class Cup(Measurement):\n",
        "  def human_readable(self):\n",
        "    return f'{self.num:.0f}/{self.dem:.0f} cups of {self._ingred}'\n",
        "\n",
        "@property\n",
        "class Tablespoon(Measurement) :\n",
        "  def human_readable(self):\n",
        "    return f'{self.num:.0f}/{self.dem:.0f} tablespoon of {seld._ingred}'\n",
        "\n"
      ],
      "execution_count": 74,
      "outputs": []
    },
    {
      "cell_type": "code",
      "metadata": {
        "id": "kAXXqI6ehGFq",
        "colab_type": "code",
        "colab": {}
      },
      "source": [
        "from dataclasses import dataclass\n",
        "import typing\n",
        "import fractions\n",
        "\n",
        "@dataclass\n",
        "class Measurement:\n",
        "  def __init__(self, num, dem, ingred):\n",
        "    self.amount = fractions.Fraction(num/dem)\n",
        "    self._ingred = ingred\n",
        "\n",
        "  def human_readable(self):\n",
        "    return f'{self.amount} {self.mname} of {self._ingred}'\n",
        "\n",
        "class Cup(Measurement):\n",
        "  mname = 'cup'\n",
        "\n",
        "@property\n",
        "class Tablespoon(Measurement) :\n",
        "  mname ='tbs'\n"
      ],
      "execution_count": 82,
      "outputs": []
    },
    {
      "cell_type": "code",
      "metadata": {
        "id": "gvjyywIAiHgX",
        "colab_type": "code",
        "colab": {
          "base_uri": "https://localhost:8080/",
          "height": 35
        },
        "outputId": "636b652d-42e5-4c7d-d09b-ff8fbf312482"
      },
      "source": [
        "c = Cup(3,4, 'salt')\n",
        "a = c.human_readable()\n",
        "a"
      ],
      "execution_count": 83,
      "outputs": [
        {
          "output_type": "execute_result",
          "data": {
            "application/vnd.google.colaboratory.intrinsic+json": {
              "type": "string"
            },
            "text/plain": [
              "'3/4 cup of salt'"
            ]
          },
          "metadata": {
            "tags": []
          },
          "execution_count": 83
        }
      ]
    },
    {
      "cell_type": "code",
      "metadata": {
        "id": "64shknUDjI-R",
        "colab_type": "code",
        "colab": {}
      },
      "source": [
        ""
      ],
      "execution_count": null,
      "outputs": []
    },
    {
      "cell_type": "code",
      "metadata": {
        "id": "MBOj5gIpjJl1",
        "colab_type": "code",
        "colab": {}
      },
      "source": [
        ""
      ],
      "execution_count": null,
      "outputs": []
    }
  ]
}