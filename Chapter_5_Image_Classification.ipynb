{
  "nbformat": 4,
  "nbformat_minor": 0,
  "metadata": {
    "colab": {
      "name": "Chapter 5_Image_Classification.ipynb",
      "provenance": [],
      "authorship_tag": "ABX9TyPvrqbvc5iotObwJH1uMzAN",
      "include_colab_link": true
    },
    "kernelspec": {
      "name": "python3",
      "display_name": "Python 3"
    }
  },
  "cells": [
    {
      "cell_type": "markdown",
      "metadata": {
        "id": "view-in-github",
        "colab_type": "text"
      },
      "source": [
        "<a href=\"https://colab.research.google.com/github/BatoolMM/fastai/blob/master/Chapter_5_Image_Classification.ipynb\" target=\"_parent\"><img src=\"https://colab.research.google.com/assets/colab-badge.svg\" alt=\"Open In Colab\"/></a>"
      ]
    },
    {
      "cell_type": "markdown",
      "metadata": {
        "id": "0Xc176TUEdu5"
      },
      "source": [
        "\n",
        "## **Chapter 5: Image Classification**\n"
      ]
    },
    {
      "cell_type": "code",
      "metadata": {
        "id": "ehmMdnRwAKqR"
      },
      "source": [
        "!pip install -Uqq fastbook\n",
        "!pip install fastcore==1.0.9\n",
        "!pip install utils"
      ],
      "execution_count": null,
      "outputs": []
    },
    {
      "cell_type": "code",
      "metadata": {
        "id": "EHSowlbUEs-A"
      },
      "source": [
        "from utils import *\n",
        "from fastai.vision.all import *\n",
        "from fastai.vision.widgets import ImageClassifierCleaner\n",
        "import matplotlib.pyplot as plt"
      ],
      "execution_count": null,
      "outputs": []
    }
  ]
}