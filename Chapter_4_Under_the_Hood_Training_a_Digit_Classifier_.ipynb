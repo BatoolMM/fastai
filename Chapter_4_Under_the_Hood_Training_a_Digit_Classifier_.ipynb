{
  "nbformat": 4,
  "nbformat_minor": 0,
  "metadata": {
    "colab": {
      "name": "Chapter 4. Under the Hood: Training a Digit Classifier .ipynb",
      "provenance": [],
      "authorship_tag": "ABX9TyNYL50kHTRM/45ndM6+32KV",
      "include_colab_link": true
    },
    "kernelspec": {
      "name": "python3",
      "display_name": "Python 3"
    },
    "accelerator": "GPU"
  },
  "cells": [
    {
      "cell_type": "markdown",
      "metadata": {
        "id": "view-in-github",
        "colab_type": "text"
      },
      "source": [
        "<a href=\"https://colab.research.google.com/github/BatoolMM/fastai/blob/master/Chapter_4_Under_the_Hood_Training_a_Digit_Classifier_.ipynb\" target=\"_parent\"><img src=\"https://colab.research.google.com/assets/colab-badge.svg\" alt=\"Open In Colab\"/></a>"
      ]
    },
    {
      "cell_type": "markdown",
      "metadata": {
        "id": "4jY9bfHsr8J2"
      },
      "source": [
        "# **Chapter 4. Under the Hood: Training a Digit Classifier**"
      ]
    },
    {
      "cell_type": "code",
      "metadata": {
        "id": "XIOrwrPaMSgu",
        "outputId": "631c9d6f-5ae8-4974-fcbe-b36a045d2735",
        "colab": {
          "base_uri": "https://localhost:8080/",
          "height": 836
        }
      },
      "source": [
        "!pip install -Uqq fastbook\n",
        "!pip install fastcore\n",
        "!pip install fastai\n",
        "!pip install utils"
      ],
      "execution_count": 81,
      "outputs": [
        {
          "output_type": "stream",
          "text": [
            "Requirement already satisfied: fastcore in /usr/local/lib/python3.6/dist-packages (1.2.0)\n",
            "Requirement already satisfied: packaging in /usr/local/lib/python3.6/dist-packages (from fastcore) (20.4)\n",
            "Requirement already satisfied: pip in /usr/local/lib/python3.6/dist-packages (from fastcore) (19.3.1)\n",
            "Requirement already satisfied: six in /usr/local/lib/python3.6/dist-packages (from packaging->fastcore) (1.15.0)\n",
            "Requirement already satisfied: pyparsing>=2.0.2 in /usr/local/lib/python3.6/dist-packages (from packaging->fastcore) (2.4.7)\n",
            "Requirement already satisfied: fastai in /usr/local/lib/python3.6/dist-packages (2.0.16)\n",
            "Requirement already satisfied: scikit-learn in /usr/local/lib/python3.6/dist-packages (from fastai) (0.22.2.post1)\n",
            "Requirement already satisfied: pyyaml in /usr/local/lib/python3.6/dist-packages (from fastai) (3.13)\n",
            "Requirement already satisfied: torch>=1.6.0 in /usr/local/lib/python3.6/dist-packages (from fastai) (1.6.0+cu101)\n",
            "Requirement already satisfied: spacy in /usr/local/lib/python3.6/dist-packages (from fastai) (2.2.4)\n",
            "Requirement already satisfied: torchvision>=0.7 in /usr/local/lib/python3.6/dist-packages (from fastai) (0.7.0+cu101)\n",
            "Requirement already satisfied: fastprogress>=0.2.4 in /usr/local/lib/python3.6/dist-packages (from fastai) (1.0.0)\n",
            "Requirement already satisfied: pip in /usr/local/lib/python3.6/dist-packages (from fastai) (19.3.1)\n",
            "Requirement already satisfied: matplotlib in /usr/local/lib/python3.6/dist-packages (from fastai) (3.2.2)\n",
            "Requirement already satisfied: requests in /usr/local/lib/python3.6/dist-packages (from fastai) (2.23.0)\n",
            "Requirement already satisfied: scipy in /usr/local/lib/python3.6/dist-packages (from fastai) (1.4.1)\n",
            "Requirement already satisfied: pillow in /usr/local/lib/python3.6/dist-packages (from fastai) (7.0.0)\n",
            "Requirement already satisfied: fastcore>=1.1.0 in /usr/local/lib/python3.6/dist-packages (from fastai) (1.2.0)\n",
            "Requirement already satisfied: packaging in /usr/local/lib/python3.6/dist-packages (from fastai) (20.4)\n",
            "Requirement already satisfied: pandas in /usr/local/lib/python3.6/dist-packages (from fastai) (1.1.2)\n",
            "Requirement already satisfied: numpy>=1.11.0 in /usr/local/lib/python3.6/dist-packages (from scikit-learn->fastai) (1.18.5)\n",
            "Requirement already satisfied: joblib>=0.11 in /usr/local/lib/python3.6/dist-packages (from scikit-learn->fastai) (0.16.0)\n",
            "Requirement already satisfied: future in /usr/local/lib/python3.6/dist-packages (from torch>=1.6.0->fastai) (0.16.0)\n",
            "Requirement already satisfied: cymem<2.1.0,>=2.0.2 in /usr/local/lib/python3.6/dist-packages (from spacy->fastai) (2.0.3)\n",
            "Requirement already satisfied: srsly<1.1.0,>=1.0.2 in /usr/local/lib/python3.6/dist-packages (from spacy->fastai) (1.0.2)\n",
            "Requirement already satisfied: preshed<3.1.0,>=3.0.2 in /usr/local/lib/python3.6/dist-packages (from spacy->fastai) (3.0.2)\n",
            "Requirement already satisfied: blis<0.5.0,>=0.4.0 in /usr/local/lib/python3.6/dist-packages (from spacy->fastai) (0.4.1)\n",
            "Requirement already satisfied: wasabi<1.1.0,>=0.4.0 in /usr/local/lib/python3.6/dist-packages (from spacy->fastai) (0.8.0)\n",
            "Requirement already satisfied: setuptools in /usr/local/lib/python3.6/dist-packages (from spacy->fastai) (50.3.0)\n",
            "Requirement already satisfied: catalogue<1.1.0,>=0.0.7 in /usr/local/lib/python3.6/dist-packages (from spacy->fastai) (1.0.0)\n",
            "Requirement already satisfied: thinc==7.4.0 in /usr/local/lib/python3.6/dist-packages (from spacy->fastai) (7.4.0)\n",
            "Requirement already satisfied: plac<1.2.0,>=0.9.6 in /usr/local/lib/python3.6/dist-packages (from spacy->fastai) (1.1.3)\n",
            "Requirement already satisfied: tqdm<5.0.0,>=4.38.0 in /usr/local/lib/python3.6/dist-packages (from spacy->fastai) (4.41.1)\n",
            "Requirement already satisfied: murmurhash<1.1.0,>=0.28.0 in /usr/local/lib/python3.6/dist-packages (from spacy->fastai) (1.0.2)\n",
            "Requirement already satisfied: cycler>=0.10 in /usr/local/lib/python3.6/dist-packages (from matplotlib->fastai) (0.10.0)\n",
            "Requirement already satisfied: kiwisolver>=1.0.1 in /usr/local/lib/python3.6/dist-packages (from matplotlib->fastai) (1.2.0)\n",
            "Requirement already satisfied: pyparsing!=2.0.4,!=2.1.2,!=2.1.6,>=2.0.1 in /usr/local/lib/python3.6/dist-packages (from matplotlib->fastai) (2.4.7)\n",
            "Requirement already satisfied: python-dateutil>=2.1 in /usr/local/lib/python3.6/dist-packages (from matplotlib->fastai) (2.8.1)\n",
            "Requirement already satisfied: certifi>=2017.4.17 in /usr/local/lib/python3.6/dist-packages (from requests->fastai) (2020.6.20)\n",
            "Requirement already satisfied: urllib3!=1.25.0,!=1.25.1,<1.26,>=1.21.1 in /usr/local/lib/python3.6/dist-packages (from requests->fastai) (1.24.3)\n",
            "Requirement already satisfied: idna<3,>=2.5 in /usr/local/lib/python3.6/dist-packages (from requests->fastai) (2.10)\n",
            "Requirement already satisfied: chardet<4,>=3.0.2 in /usr/local/lib/python3.6/dist-packages (from requests->fastai) (3.0.4)\n",
            "Requirement already satisfied: six in /usr/local/lib/python3.6/dist-packages (from packaging->fastai) (1.15.0)\n",
            "Requirement already satisfied: pytz>=2017.2 in /usr/local/lib/python3.6/dist-packages (from pandas->fastai) (2018.9)\n",
            "Requirement already satisfied: importlib-metadata>=0.20; python_version < \"3.8\" in /usr/local/lib/python3.6/dist-packages (from catalogue<1.1.0,>=0.0.7->spacy->fastai) (2.0.0)\n",
            "Requirement already satisfied: zipp>=0.5 in /usr/local/lib/python3.6/dist-packages (from importlib-metadata>=0.20; python_version < \"3.8\"->catalogue<1.1.0,>=0.0.7->spacy->fastai) (3.2.0)\n",
            "Requirement already satisfied: utils in /usr/local/lib/python3.6/dist-packages (1.0.1)\n"
          ],
          "name": "stdout"
        }
      ]
    },
    {
      "cell_type": "code",
      "metadata": {
        "id": "8fTSPY9QMW-U"
      },
      "source": [
        "from utils import *\n",
        "from fastai.vision.all import *\n",
        "from fastai.vision.widgets import ImageClassifierCleaner"
      ],
      "execution_count": 82,
      "outputs": []
    },
    {
      "cell_type": "code",
      "metadata": {
        "id": "v9J8qOwNMv-N"
      },
      "source": [
        "?download_images"
      ],
      "execution_count": 83,
      "outputs": []
    },
    {
      "cell_type": "code",
      "metadata": {
        "id": "AiSIbvFHNW13"
      },
      "source": [
        "path = untar_data(URLs.MNIST_SAMPLE)"
      ],
      "execution_count": 84,
      "outputs": []
    },
    {
      "cell_type": "code",
      "metadata": {
        "id": "VXMpM0L_rzUt",
        "outputId": "eb9e6673-e9c9-4c17-c01d-3bdd88934dd4",
        "colab": {
          "base_uri": "https://localhost:8080/",
          "height": 54
        }
      },
      "source": [
        "path.ls()"
      ],
      "execution_count": 85,
      "outputs": [
        {
          "output_type": "execute_result",
          "data": {
            "text/plain": [
              "(#3) [Path('/root/.fastai/data/mnist_sample/valid'),Path('/root/.fastai/data/mnist_sample/train'),Path('/root/.fastai/data/mnist_sample/labels.csv')]"
            ]
          },
          "metadata": {
            "tags": []
          },
          "execution_count": 85
        }
      ]
    },
    {
      "cell_type": "code",
      "metadata": {
        "id": "Vi3I9qVvr052",
        "outputId": "0fa3e4a5-8848-4e39-870e-c826c23d986e",
        "colab": {
          "base_uri": "https://localhost:8080/",
          "height": 54
        }
      },
      "source": [
        "(path/'train'/'7').ls()"
      ],
      "execution_count": 86,
      "outputs": [
        {
          "output_type": "execute_result",
          "data": {
            "text/plain": [
              "(#6265) [Path('/root/.fastai/data/mnist_sample/train/7/33681.png'),Path('/root/.fastai/data/mnist_sample/train/7/40214.png'),Path('/root/.fastai/data/mnist_sample/train/7/3788.png'),Path('/root/.fastai/data/mnist_sample/train/7/42544.png'),Path('/root/.fastai/data/mnist_sample/train/7/47325.png'),Path('/root/.fastai/data/mnist_sample/train/7/6147.png'),Path('/root/.fastai/data/mnist_sample/train/7/617.png'),Path('/root/.fastai/data/mnist_sample/train/7/51138.png'),Path('/root/.fastai/data/mnist_sample/train/7/56567.png'),Path('/root/.fastai/data/mnist_sample/train/7/37835.png')...]"
            ]
          },
          "metadata": {
            "tags": []
          },
          "execution_count": 86
        }
      ]
    },
    {
      "cell_type": "code",
      "metadata": {
        "id": "q4JQGp7Rtgi7",
        "outputId": "5aa6eb74-2ad1-48df-a836-6ed9a73b897f",
        "colab": {
          "base_uri": "https://localhost:8080/",
          "height": 54
        }
      },
      "source": [
        "threes = (path/'train'/'3').ls().sorted()\n",
        "sevens = (path/'train'/'7').ls().sorted()\n",
        "threes"
      ],
      "execution_count": 87,
      "outputs": [
        {
          "output_type": "execute_result",
          "data": {
            "text/plain": [
              "(#6131) [Path('/root/.fastai/data/mnist_sample/train/3/10.png'),Path('/root/.fastai/data/mnist_sample/train/3/10000.png'),Path('/root/.fastai/data/mnist_sample/train/3/10011.png'),Path('/root/.fastai/data/mnist_sample/train/3/10031.png'),Path('/root/.fastai/data/mnist_sample/train/3/10034.png'),Path('/root/.fastai/data/mnist_sample/train/3/10042.png'),Path('/root/.fastai/data/mnist_sample/train/3/10052.png'),Path('/root/.fastai/data/mnist_sample/train/3/1007.png'),Path('/root/.fastai/data/mnist_sample/train/3/10074.png'),Path('/root/.fastai/data/mnist_sample/train/3/10091.png')...]"
            ]
          },
          "metadata": {
            "tags": []
          },
          "execution_count": 87
        }
      ]
    },
    {
      "cell_type": "code",
      "metadata": {
        "id": "Uc9jnJzssM_y",
        "outputId": "882a2b92-3b6e-46f8-f1e7-3cf8db0d6c51",
        "colab": {
          "base_uri": "https://localhost:8080/",
          "height": 119
        }
      },
      "source": [
        "tensor_threes = [tensor(Image.open(i)) for i in threes]\n",
        "tensor_sevens = [tensor(Image.open(i)) for i in sevens]\n",
        "tensor_threes[1][4:10,4:10]"
      ],
      "execution_count": 88,
      "outputs": [
        {
          "output_type": "execute_result",
          "data": {
            "text/plain": [
              "tensor([[  0,   0,   0,   0,   0,   0],\n",
              "        [  0,   0,   0,   0,   0,  29],\n",
              "        [  0,   0,   0,  48, 166, 224],\n",
              "        [  0,  93, 244, 249, 253, 187],\n",
              "        [  0, 107, 253, 253, 230,  48],\n",
              "        [  0,   3,  20,  20,  15,   0]], dtype=torch.uint8)"
            ]
          },
          "metadata": {
            "tags": []
          },
          "execution_count": 88
        }
      ]
    },
    {
      "cell_type": "code",
      "metadata": {
        "id": "zqm3TRwWtE7a",
        "outputId": "dba9c316-92fb-49fc-8c61-538bebb1c515",
        "colab": {
          "base_uri": "https://localhost:8080/",
          "height": 102
        }
      },
      "source": [
        "show_image(tensor_sevens[1])"
      ],
      "execution_count": 89,
      "outputs": [
        {
          "output_type": "execute_result",
          "data": {
            "text/plain": [
              "<matplotlib.axes._subplots.AxesSubplot at 0x7f1693d39e48>"
            ]
          },
          "metadata": {
            "tags": []
          },
          "execution_count": 89
        },
        {
          "output_type": "display_data",
          "data": {
            "image/png": "[encoded data removed]",
            "text/plain": [
              "<Figure size 72x72 with 1 Axes>"
            ]
          },
          "metadata": {
            "tags": [],
            "needs_background": "light"
          }
        }
      ]
    },
    {
      "cell_type": "code",
      "metadata": {
        "id": "84qRS0M1u6Ww"
      },
      "source": [
        "stacked_threes = torch.stack(tensor_threes).float()/255\n",
        "stacked_sevens = torch.stack(tensor_sevens).float()/255"
      ],
      "execution_count": 90,
      "outputs": []
    },
    {
      "cell_type": "code",
      "metadata": {
        "id": "Zfx8uXM3wmQ7",
        "outputId": "de21be26-169b-4403-ca0c-8b43ec790b83",
        "colab": {
          "base_uri": "https://localhost:8080/",
          "height": 102
        }
      },
      "source": [
        "show_image(stacked_threes.mean(0))"
      ],
      "execution_count": 91,
      "outputs": [
        {
          "output_type": "execute_result",
          "data": {
            "text/plain": [
              "<matplotlib.axes._subplots.AxesSubplot at 0x7f16938cae80>"
            ]
          },
          "metadata": {
            "tags": []
          },
          "execution_count": 91
        },
        {
          "output_type": "display_data",
          "data": {
            "image/png": "[encoded data removed]",
            "text/plain": [
              "<Figure size 72x72 with 1 Axes>"
            ]
          },
          "metadata": {
            "tags": [],
            "needs_background": "light"
          }
        }
      ]
    },
    {
      "cell_type": "code",
      "metadata": {
        "id": "tFDnZoS0_xUP",
        "outputId": "0bc62945-025a-4332-c180-c411b6189a48",
        "colab": {
          "base_uri": "https://localhost:8080/",
          "height": 34
        }
      },
      "source": [
        "abs_three_tomeanthree = (stacked_threes.mean(0) - stacked_threes[1]).abs().mean()\n",
        "rmse_three_tomeanthree = ((stacked_threes.mean(0) - stacked_threes[1])**2).mean().sqrt()\n",
        "abs_three_tomeanthree, rmse_three_tomeanthree"
      ],
      "execution_count": 92,
      "outputs": [
        {
          "output_type": "execute_result",
          "data": {
            "text/plain": [
              "(tensor(0.1114), tensor(0.2021))"
            ]
          },
          "metadata": {
            "tags": []
          },
          "execution_count": 92
        }
      ]
    },
    {
      "cell_type": "code",
      "metadata": {
        "id": "oTDyRW0ZBDkX",
        "outputId": "77589f41-b28f-4624-f472-0efeae0e26e5",
        "colab": {
          "base_uri": "https://localhost:8080/",
          "height": 34
        }
      },
      "source": [
        "abs_three_tomeanseven = (stacked_sevens.mean(0) - stacked_threes[1]).abs().mean()\n",
        "rmse_three_tomeanseven = ((stacked_sevens.mean(0) - stacked_threes[1])**2).mean().sqrt()\n",
        "abs_three_tomeanseven, rmse_three_tomeanseven"
      ],
      "execution_count": 93,
      "outputs": [
        {
          "output_type": "execute_result",
          "data": {
            "text/plain": [
              "(tensor(0.1586), tensor(0.3021))"
            ]
          },
          "metadata": {
            "tags": []
          },
          "execution_count": 93
        }
      ]
    },
    {
      "cell_type": "code",
      "metadata": {
        "id": "cHkYStU4Et4U",
        "outputId": "d21266c6-20a4-4c06-f742-014f5e8cf3a6",
        "colab": {
          "base_uri": "https://localhost:8080/",
          "height": 34
        }
      },
      "source": [
        "#in pytorch\n",
        "\n",
        "abs_three_tomeanseven = F.l1_loss(stacked_sevens.mean(0), stacked_threes[1])\n",
        "rmse_three_tomeanseven = F.mse_loss(stacked_sevens.mean(0) , stacked_threes[1]).sqrt()\n",
        "abs_three_tomeanseven, rmse_three_tomeanseven"
      ],
      "execution_count": 94,
      "outputs": [
        {
          "output_type": "execute_result",
          "data": {
            "text/plain": [
              "(tensor(0.1586), tensor(0.3021))"
            ]
          },
          "metadata": {
            "tags": []
          },
          "execution_count": 94
        }
      ]
    },
    {
      "cell_type": "markdown",
      "metadata": {
        "id": "qTI3FvuvVdtm"
      },
      "source": [
        "## **Validation set**"
      ]
    },
    {
      "cell_type": "code",
      "metadata": {
        "id": "VX_e6CJiVdAC",
        "outputId": "5c131950-26b9-4de7-9479-63afee38e8b5",
        "colab": {
          "base_uri": "https://localhost:8080/",
          "height": 54
        }
      },
      "source": [
        "(path/'valid').ls()"
      ],
      "execution_count": 95,
      "outputs": [
        {
          "output_type": "execute_result",
          "data": {
            "text/plain": [
              "(#2) [Path('/root/.fastai/data/mnist_sample/valid/7'),Path('/root/.fastai/data/mnist_sample/valid/3')]"
            ]
          },
          "metadata": {
            "tags": []
          },
          "execution_count": 95
        }
      ]
    },
    {
      "cell_type": "code",
      "metadata": {
        "id": "9Am4zjR1GuTi",
        "outputId": "c7cbcfb7-6a03-4b4f-a236-9d0b8f9ae5a4",
        "colab": {
          "base_uri": "https://localhost:8080/",
          "height": 34
        }
      },
      "source": [
        "valid_three = torch.stack([tensor(Image.open(i)) for i in (path/'valid'/'3').ls()])\n",
        "valid_three = valid_three.float()/255\n",
        "valid_seven = torch.stack([tensor(Image.open(i)) for i in (path/'valid'/'7').ls()])\n",
        "valid_seven = valid_seven.float()/225\n",
        "valid_three.shape,valid_seven.shape"
      ],
      "execution_count": 96,
      "outputs": [
        {
          "output_type": "execute_result",
          "data": {
            "text/plain": [
              "(torch.Size([1010, 28, 28]), torch.Size([1028, 28, 28]))"
            ]
          },
          "metadata": {
            "tags": []
          },
          "execution_count": 96
        }
      ]
    },
    {
      "cell_type": "code",
      "metadata": {
        "id": "E-908Z3DWEOh",
        "outputId": "0068ed3c-9d27-4f36-aa46-b0885a67d4cb",
        "colab": {
          "base_uri": "https://localhost:8080/",
          "height": 51
        }
      },
      "source": [
        "mean_seven = stacked_sevens.mean(0)\n",
        "mean_three = stacked_threes.mean(0)\n",
        "#without broadcasting\n",
        "(valid_seven - mean_three).abs().mean(), (valid_seven - mean_three).abs().mean().shape\n",
        "\n",
        "#with broadcasting\n",
        "(valid_seven - mean_three).abs().mean((-1,-2)), (valid_seven - mean_three).abs().mean((-1,-2)).shape"
      ],
      "execution_count": 97,
      "outputs": [
        {
          "output_type": "execute_result",
          "data": {
            "text/plain": [
              "(tensor([0.1634, 0.1872, 0.1801,  ..., 0.1995, 0.1434, 0.1712]),\n",
              " torch.Size([1028]))"
            ]
          },
          "metadata": {
            "tags": []
          },
          "execution_count": 97
        }
      ]
    },
    {
      "cell_type": "code",
      "metadata": {
        "id": "MuR-A3yjXxn5",
        "outputId": "5a2b7f35-58b4-490c-bbd6-35aaaecd2ccf",
        "colab": {
          "base_uri": "https://localhost:8080/",
          "height": 51
        }
      },
      "source": [
        "def mnist_l1_loss(a, b):\n",
        "  return (a - b).abs().mean((-1, -2))\n",
        "\n",
        "mnist_l1_loss(valid_seven, mean_three,), mnist_l1_loss(valid_seven, mean_three).shape"
      ],
      "execution_count": 98,
      "outputs": [
        {
          "output_type": "execute_result",
          "data": {
            "text/plain": [
              "(tensor([0.1634, 0.1872, 0.1801,  ..., 0.1995, 0.1434, 0.1712]),\n",
              " torch.Size([1028]))"
            ]
          },
          "metadata": {
            "tags": []
          },
          "execution_count": 98
        }
      ]
    },
    {
      "cell_type": "code",
      "metadata": {
        "id": "E53lo5xSYm0-",
        "outputId": "7a68c73c-b627-4932-975c-973732b3c66a",
        "colab": {
          "base_uri": "https://localhost:8080/",
          "height": 51
        }
      },
      "source": [
        "def is_three(x):\n",
        "  mean_seven = stacked_sevens.mean(0)\n",
        "  mean_three = stacked_threes.mean(0)\n",
        "  return mnist_l1_loss(x, mean_three) < mnist_l1_loss(x, mean_seven)\n",
        "\n",
        "is_three(valid_three), is_three(valid_three).float()"
      ],
      "execution_count": 99,
      "outputs": [
        {
          "output_type": "execute_result",
          "data": {
            "text/plain": [
              "(tensor([True, True, True,  ..., True, True, True]),\n",
              " tensor([1., 1., 1.,  ..., 1., 1., 1.]))"
            ]
          },
          "metadata": {
            "tags": []
          },
          "execution_count": 99
        }
      ]
    },
    {
      "cell_type": "code",
      "metadata": {
        "id": "DPsx1bBgbkJf",
        "outputId": "06f4a8d3-99fb-43e5-80f8-0bb3567553f5",
        "colab": {
          "base_uri": "https://localhost:8080/",
          "height": 34
        }
      },
      "source": [
        "accuracy_3 = is_three(valid_three).float().mean()\n",
        "accuracy_7 = (1 - is_three(valid_seven).float()).mean()\n",
        "accuracy_3, accuracy_7"
      ],
      "execution_count": 100,
      "outputs": [
        {
          "output_type": "execute_result",
          "data": {
            "text/plain": [
              "(tensor(0.9168), tensor(0.9864))"
            ]
          },
          "metadata": {
            "tags": []
          },
          "execution_count": 100
        }
      ]
    },
    {
      "cell_type": "markdown",
      "metadata": {
        "id": "HUPXLHpaZuWC"
      },
      "source": [
        "## **Gradient descent**"
      ]
    },
    {
      "cell_type": "code",
      "metadata": {
        "id": "pAVhC76VdBrW",
        "outputId": "f5971e4a-cbc8-46da-e1c0-8d312bbe1c69",
        "colab": {
          "base_uri": "https://localhost:8080/",
          "height": 279
        }
      },
      "source": [
        "def f(x):\n",
        "  return x**2\n",
        "\n",
        "def plot_function(f, tx=None, ty=None, title=None, min=-2, max=2, figsize=(6,4)):\n",
        "    x = torch.linspace(min,max)\n",
        "    fig,ax = plt.subplots(figsize=figsize)\n",
        "    ax.plot(x,f(x))\n",
        "    if tx is not None: ax.set_xlabel(tx)\n",
        "    if ty is not None: ax.set_ylabel(ty)\n",
        "    if title is not None: ax.set_title(title)\n",
        "\n",
        "plot_function(f,'x', 'x**2')"
      ],
      "execution_count": 101,
      "outputs": [
        {
          "output_type": "display_data",
          "data": {
            "image/png": "[encoded data removed]",
            "text/plain": [
              "<Figure size 432x288 with 1 Axes>"
            ]
          },
          "metadata": {
            "tags": [],
            "needs_background": "light"
          }
        }
      ]
    },
    {
      "cell_type": "code",
      "metadata": {
        "id": "qHX2fKcYZ_qE",
        "outputId": "bba3de76-2a9a-4110-dd57-eea50642b3f8",
        "colab": {
          "base_uri": "https://localhost:8080/",
          "height": 296
        }
      },
      "source": [
        "plot_function(f,'x', 'x**2')\n",
        "plt.scatter(-1.5, f(-1.5), color='red')"
      ],
      "execution_count": 102,
      "outputs": [
        {
          "output_type": "execute_result",
          "data": {
            "text/plain": [
              "<matplotlib.collections.PathCollection at 0x7f1693505cf8>"
            ]
          },
          "metadata": {
            "tags": []
          },
          "execution_count": 102
        },
        {
          "output_type": "display_data",
          "data": {
            "image/png": "[encoded data removed]",
            "text/plain": [
              "<Figure size 432x288 with 1 Axes>"
            ]
          },
          "metadata": {
            "tags": [],
            "needs_background": "light"
          }
        }
      ]
    },
    {
      "cell_type": "code",
      "metadata": {
        "id": "EPo6mcWIbqEm"
      },
      "source": [
        "def f(x):\n",
        "  return x**2"
      ],
      "execution_count": 103,
      "outputs": []
    },
    {
      "cell_type": "code",
      "metadata": {
        "id": "HmXJgyQ9cbbc",
        "outputId": "57110000-d141-4fe9-cd34-dfff7b370777",
        "colab": {
          "base_uri": "https://localhost:8080/",
          "height": 34
        }
      },
      "source": [
        "der_x_3 = tensor(3.).requires_grad_()\n",
        "der_x_3"
      ],
      "execution_count": 104,
      "outputs": [
        {
          "output_type": "execute_result",
          "data": {
            "text/plain": [
              "tensor(3., requires_grad=True)"
            ]
          },
          "metadata": {
            "tags": []
          },
          "execution_count": 104
        }
      ]
    },
    {
      "cell_type": "code",
      "metadata": {
        "id": "iUVIXuSHc0xP",
        "outputId": "67e2f1ba-c2db-4b01-e46f-51738ebec682",
        "colab": {
          "base_uri": "https://localhost:8080/",
          "height": 34
        }
      },
      "source": [
        "der_f = f(der_x_3)\n",
        "der_f"
      ],
      "execution_count": 105,
      "outputs": [
        {
          "output_type": "execute_result",
          "data": {
            "text/plain": [
              "tensor(9., grad_fn=<PowBackward0>)"
            ]
          },
          "metadata": {
            "tags": []
          },
          "execution_count": 105
        }
      ]
    },
    {
      "cell_type": "code",
      "metadata": {
        "id": "vEcP5_DTc5yO",
        "outputId": "f87f1a91-a5cb-4b06-aa41-bc5177439ee8",
        "colab": {
          "base_uri": "https://localhost:8080/",
          "height": 34
        }
      },
      "source": [
        "der_f.backward()\n",
        "der_x_3.grad"
      ],
      "execution_count": 106,
      "outputs": [
        {
          "output_type": "execute_result",
          "data": {
            "text/plain": [
              "tensor(6.)"
            ]
          },
          "metadata": {
            "tags": []
          },
          "execution_count": 106
        }
      ]
    },
    {
      "cell_type": "markdown",
      "metadata": {
        "id": "vrApM218ouv6"
      },
      "source": [
        "## **Roller coaster**"
      ]
    },
    {
      "cell_type": "code",
      "metadata": {
        "id": "pLpKA0fjeLP1",
        "outputId": "f926bc70-ade3-4b63-925c-6fa31aecffe8",
        "colab": {
          "base_uri": "https://localhost:8080/",
          "height": 51
        }
      },
      "source": [
        "time = torch.arange(20.)\n",
        "time"
      ],
      "execution_count": 107,
      "outputs": [
        {
          "output_type": "execute_result",
          "data": {
            "text/plain": [
              "tensor([ 0.,  1.,  2.,  3.,  4.,  5.,  6.,  7.,  8.,  9., 10., 11., 12., 13.,\n",
              "        14., 15., 16., 17., 18., 19.])"
            ]
          },
          "metadata": {
            "tags": []
          },
          "execution_count": 107
        }
      ]
    },
    {
      "cell_type": "code",
      "metadata": {
        "id": "GwSF7m6UpU63",
        "outputId": "5433715c-40e1-4e45-e373-f0703a004725",
        "colab": {
          "base_uri": "https://localhost:8080/",
          "height": 68
        }
      },
      "source": [
        "#original speed\n",
        "speed = torch.randn(20)*3 + 0.75*(time-9.5)**2 + 1\n",
        "speed"
      ],
      "execution_count": 108,
      "outputs": [
        {
          "output_type": "execute_result",
          "data": {
            "text/plain": [
              "tensor([66.1143, 53.6049, 43.5756, 30.1400, 17.3563, 13.8264, 11.5663,  8.3209,\n",
              "         5.3578,  2.4086,  1.0273,  3.7305,  2.2552, 11.5627, 13.1747, 22.0237,\n",
              "        31.2278, 50.0045, 54.3663, 65.2280])"
            ]
          },
          "metadata": {
            "tags": []
          },
          "execution_count": 108
        }
      ]
    },
    {
      "cell_type": "code",
      "metadata": {
        "id": "uKhOj2Uepk6R",
        "outputId": "58f8340f-b8de-4e13-a204-d5319bb9ef4d",
        "colab": {
          "base_uri": "https://localhost:8080/",
          "height": 282
        }
      },
      "source": [
        "plt.scatter(time, speed)"
      ],
      "execution_count": 109,
      "outputs": [
        {
          "output_type": "execute_result",
          "data": {
            "text/plain": [
              "<matplotlib.collections.PathCollection at 0x7f1687cb0630>"
            ]
          },
          "metadata": {
            "tags": []
          },
          "execution_count": 109
        },
        {
          "output_type": "display_data",
          "data": {
            "image/png": "[encoded data removed]",
            "text/plain": [
              "<Figure size 432x288 with 1 Axes>"
            ]
          },
          "metadata": {
            "tags": [],
            "needs_background": "light"
          }
        }
      ]
    },
    {
      "cell_type": "code",
      "metadata": {
        "id": "RmElq5lApssO"
      },
      "source": [
        "#the equation\n",
        "def f(t, params):\n",
        "  a,b,c = params\n",
        "  return a*(t**2) + (b*t) + c"
      ],
      "execution_count": 110,
      "outputs": []
    },
    {
      "cell_type": "code",
      "metadata": {
        "id": "bG201HezqOkq",
        "outputId": "0ee558fa-db3e-48af-83d0-e1b44851842c",
        "colab": {
          "base_uri": "https://localhost:8080/",
          "height": 34
        }
      },
      "source": [
        "#initi the weights\n",
        "params = torch.randn(3).requires_grad_()\n",
        "params"
      ],
      "execution_count": 111,
      "outputs": [
        {
          "output_type": "execute_result",
          "data": {
            "text/plain": [
              "tensor([ 1.3034, -1.2774,  0.9681], requires_grad=True)"
            ]
          },
          "metadata": {
            "tags": []
          },
          "execution_count": 111
        }
      ]
    },
    {
      "cell_type": "code",
      "metadata": {
        "id": "Q_B-lSnfqbjb"
      },
      "source": [
        "#define loss function\n",
        "def mse(preds, targets):\n",
        "  return ((targets - preds)**2).mean()"
      ],
      "execution_count": 112,
      "outputs": []
    },
    {
      "cell_type": "code",
      "metadata": {
        "id": "JgceL3ybrFVd",
        "outputId": "92d36d81-04fb-469d-ed29-e091ec8648dd",
        "colab": {
          "base_uri": "https://localhost:8080/",
          "height": 85
        }
      },
      "source": [
        "#check the weights with function and lose function\n",
        "preds = f(time, params)\n",
        "preds"
      ],
      "execution_count": 113,
      "outputs": [
        {
          "output_type": "execute_result",
          "data": {
            "text/plain": [
              "tensor([  0.9681,   0.9941,   3.6270,   8.8668,  16.7136,  27.1672,  40.2277,\n",
              "         55.8951,  74.1693,  95.0505, 118.5386, 144.6336, 173.3355, 204.6442,\n",
              "        238.5599, 275.0825, 314.2119, 355.9483, 400.2916, 447.2417],\n",
              "       grad_fn=<AddBackward0>)"
            ]
          },
          "metadata": {
            "tags": []
          },
          "execution_count": 113
        }
      ]
    },
    {
      "cell_type": "code",
      "metadata": {
        "id": "nt9D4l0QsUW5",
        "outputId": "dd023ca1-8da3-4205-f5e3-3bc458dfd858",
        "colab": {
          "base_uri": "https://localhost:8080/",
          "height": 34
        }
      },
      "source": [
        "loss = mse(preds, speed)\n",
        "loss "
      ],
      "execution_count": 114,
      "outputs": [
        {
          "output_type": "execute_result",
          "data": {
            "text/plain": [
              "tensor(33998.5117, grad_fn=<MeanBackward0>)"
            ]
          },
          "metadata": {
            "tags": []
          },
          "execution_count": 114
        }
      ]
    },
    {
      "cell_type": "code",
      "metadata": {
        "id": "wre5I789t9f3",
        "outputId": "0e121927-b60f-48df-950f-86b4a4265157",
        "colab": {
          "base_uri": "https://localhost:8080/",
          "height": 269
        }
      },
      "source": [
        "def show_pred(preds, plot=None):\n",
        "  if plot is None:\n",
        "    plot = plt.subplots()[1]\n",
        "    plot.scatter(time, speed)\n",
        "    plot.scatter(time, to_np(preds), color ='red')\n",
        "    plot.set_ylim(-300, 100)\n",
        "\n",
        "show_pred(preds)"
      ],
      "execution_count": 115,
      "outputs": [
        {
          "output_type": "display_data",
          "data": {
            "image/png": "[encoded data removed]",
            "text/plain": [
              "<Figure size 432x288 with 1 Axes>"
            ]
          },
          "metadata": {
            "tags": [],
            "needs_background": "light"
          }
        }
      ]
    },
    {
      "cell_type": "code",
      "metadata": {
        "id": "GchC7y-jvV9x",
        "outputId": "1164fd63-8673-4642-ddef-09727e076e01",
        "colab": {
          "base_uri": "https://localhost:8080/",
          "height": 34
        }
      },
      "source": [
        "loss.backward()\n",
        "params.grad"
      ],
      "execution_count": 116,
      "outputs": [
        {
          "output_type": "execute_result",
          "data": {
            "text/plain": [
              "tensor([61321.9219,  3921.0115,   248.9296])"
            ]
          },
          "metadata": {
            "tags": []
          },
          "execution_count": 116
        }
      ]
    },
    {
      "cell_type": "code",
      "metadata": {
        "id": "0A6qzG0HwKpJ"
      },
      "source": [
        " lr = 1e-5\n",
        "params.data -= lr *params.grad.data\n",
        "params.grad = None"
      ],
      "execution_count": 117,
      "outputs": []
    },
    {
      "cell_type": "code",
      "metadata": {
        "id": "Q9lS0cYZw0dy",
        "outputId": "51e44667-5c0e-4c2f-bb70-4b5c450e6f08",
        "colab": {
          "base_uri": "https://localhost:8080/",
          "height": 34
        }
      },
      "source": [
        "preds = f(time, params)\n",
        "mse(preds, speed)"
      ],
      "execution_count": 118,
      "outputs": [
        {
          "output_type": "execute_result",
          "data": {
            "text/plain": [
              "tensor(6906.9248, grad_fn=<MeanBackward0>)"
            ]
          },
          "metadata": {
            "tags": []
          },
          "execution_count": 118
        }
      ]
    },
    {
      "cell_type": "code",
      "metadata": {
        "id": "lA946aqqxG6n",
        "outputId": "2bb727cd-9749-4d79-bc35-096c96c5dbb9",
        "colab": {
          "base_uri": "https://localhost:8080/",
          "height": 269
        }
      },
      "source": [
        "show_pred(preds)"
      ],
      "execution_count": 119,
      "outputs": [
        {
          "output_type": "display_data",
          "data": {
            "image/png": "[encoded data removed]",
            "text/plain": [
              "<Figure size 432x288 with 1 Axes>"
            ]
          },
          "metadata": {
            "tags": [],
            "needs_background": "light"
          }
        }
      ]
    },
    {
      "cell_type": "code",
      "metadata": {
        "id": "Oa7M_4Ck1D7s",
        "outputId": "dd60840c-9685-416f-cc2c-17dc89c9b895",
        "colab": {
          "base_uri": "https://localhost:8080/",
          "height": 34
        }
      },
      "source": [
        "params"
      ],
      "execution_count": 120,
      "outputs": [
        {
          "output_type": "execute_result",
          "data": {
            "text/plain": [
              "tensor([ 0.6902, -1.3166,  0.9656], requires_grad=True)"
            ]
          },
          "metadata": {
            "tags": []
          },
          "execution_count": 120
        }
      ]
    },
    {
      "cell_type": "code",
      "metadata": {
        "id": "7QohxomH6j6C",
        "outputId": "27e24c00-0981-4241-9f41-cfe8fdd3ad7d",
        "colab": {
          "base_uri": "https://localhost:8080/",
          "height": 34
        }
      },
      "source": [
        "params.data"
      ],
      "execution_count": 121,
      "outputs": [
        {
          "output_type": "execute_result",
          "data": {
            "text/plain": [
              "tensor([ 0.6902, -1.3166,  0.9656])"
            ]
          },
          "metadata": {
            "tags": []
          },
          "execution_count": 121
        }
      ]
    },
    {
      "cell_type": "code",
      "metadata": {
        "id": "3IYCJDly6l20"
      },
      "source": [
        "def apply_steps(params, prt=True):\n",
        "  preds = f(time, params)\n",
        "  loss = mse(preds, speed)\n",
        "  loss.backward()\n",
        "  lr = 1e-5\n",
        "  params.data -= lr * params.grad.data\n",
        "  params.grad = None\n",
        "  if prt:\n",
        "    print(loss.item())\n",
        "  return preds"
      ],
      "execution_count": 122,
      "outputs": []
    },
    {
      "cell_type": "code",
      "metadata": {
        "id": "iH0tKncy8wtv",
        "outputId": "3dc3c998-061c-45f3-91da-99a9907ebeac",
        "colab": {
          "base_uri": "https://localhost:8080/",
          "height": 187
        }
      },
      "source": [
        "for i in range(10):\n",
        "  apply_steps(params)"
      ],
      "execution_count": 123,
      "outputs": [
        {
          "output_type": "stream",
          "text": [
            "6906.9248046875\n",
            "1780.3668212890625\n",
            "810.2601928710938\n",
            "626.6813354492188\n",
            "591.9376831054688\n",
            "585.3579711914062\n",
            "584.107666015625\n",
            "583.8660888671875\n",
            "583.8153076171875\n",
            "583.8006591796875\n"
          ],
          "name": "stdout"
        }
      ]
    },
    {
      "cell_type": "markdown",
      "metadata": {
        "id": "1NpCrr5pEwbF"
      },
      "source": [
        "## **The MNIST Loss Function**"
      ]
    },
    {
      "cell_type": "code",
      "metadata": {
        "id": "GGDJIhMv_WN9",
        "outputId": "38d38850-3123-4408-df0d-2fc7c295d3e5",
        "colab": {
          "base_uri": "https://localhost:8080/",
          "height": 68
        }
      },
      "source": [
        "# make the training into vector\n",
        "train_x = torch.cat([stacked_threes, stacked_sevens]).view(-1, 28*28)\n",
        "train_x.shape, stacked_threes.shape, stacked_sevens.shape"
      ],
      "execution_count": 124,
      "outputs": [
        {
          "output_type": "execute_result",
          "data": {
            "text/plain": [
              "(torch.Size([12396, 784]),\n",
              " torch.Size([6131, 28, 28]),\n",
              " torch.Size([6265, 28, 28]))"
            ]
          },
          "metadata": {
            "tags": []
          },
          "execution_count": 124
        }
      ]
    },
    {
      "cell_type": "code",
      "metadata": {
        "id": "1jNaUDS4Fc3p",
        "outputId": "c1222513-4a3a-4eeb-8661-82b615a5edb0",
        "colab": {
          "base_uri": "https://localhost:8080/",
          "height": 34
        }
      },
      "source": [
        "train_y = tensor([1]*len(threes) + [0]*len(sevens)).unsqueeze(1)\n",
        "train_y.shape"
      ],
      "execution_count": 125,
      "outputs": [
        {
          "output_type": "execute_result",
          "data": {
            "text/plain": [
              "torch.Size([12396, 1])"
            ]
          },
          "metadata": {
            "tags": []
          },
          "execution_count": 125
        }
      ]
    },
    {
      "cell_type": "code",
      "metadata": {
        "id": "ShRiY-hLG1tC",
        "outputId": "0200b448-e2ce-4b8e-c54b-bc3b8b8ccf3c",
        "colab": {
          "base_uri": "https://localhost:8080/",
          "height": 136
        }
      },
      "source": [
        "train_y"
      ],
      "execution_count": 126,
      "outputs": [
        {
          "output_type": "execute_result",
          "data": {
            "text/plain": [
              "tensor([[1],\n",
              "        [1],\n",
              "        [1],\n",
              "        ...,\n",
              "        [0],\n",
              "        [0],\n",
              "        [0]])"
            ]
          },
          "metadata": {
            "tags": []
          },
          "execution_count": 126
        }
      ]
    },
    {
      "cell_type": "code",
      "metadata": {
        "id": "rNWznu4bHdtU",
        "outputId": "c4a9e777-6880-427a-ada9-9ac32ba24f73",
        "colab": {
          "base_uri": "https://localhost:8080/",
          "height": 34
        }
      },
      "source": [
        "dset = list(zip(train_x, train_y))\n",
        "x,y = dset[0]\n",
        "x.shape, y.shape"
      ],
      "execution_count": 127,
      "outputs": [
        {
          "output_type": "execute_result",
          "data": {
            "text/plain": [
              "(torch.Size([784]), torch.Size([1]))"
            ]
          },
          "metadata": {
            "tags": []
          },
          "execution_count": 127
        }
      ]
    },
    {
      "cell_type": "code",
      "metadata": {
        "id": "F3gNP2GSJhVn",
        "outputId": "a33a53f8-7ac8-48a0-cab8-eb7765d6b9cf",
        "colab": {
          "base_uri": "https://localhost:8080/",
          "height": 34
        }
      },
      "source": [
        "valid_x = torch.cat([valid_three, valid_seven]).view(-1, 28*28)\n",
        "valid_y = tensor([1]*len(valid_three) + [0]*len(valid_seven)).unsqueeze(1)\n",
        "valid_dset = list(zip(valid_x, valid_y))\n",
        "valid_x.shape, valid_y.shape"
      ],
      "execution_count": 128,
      "outputs": [
        {
          "output_type": "execute_result",
          "data": {
            "text/plain": [
              "(torch.Size([2038, 784]), torch.Size([2038, 1]))"
            ]
          },
          "metadata": {
            "tags": []
          },
          "execution_count": 128
        }
      ]
    },
    {
      "cell_type": "code",
      "metadata": {
        "id": "es3z8HAdRDBR"
      },
      "source": [
        "def init(size, sd=1):\n",
        "  return (torch.randn(size)*sd).requires_grad_()"
      ],
      "execution_count": 129,
      "outputs": []
    },
    {
      "cell_type": "code",
      "metadata": {
        "id": "d0jIj0TgR6Zb",
        "outputId": "7059bcf5-4305-43c0-99fc-84e5787ae18b",
        "colab": {
          "base_uri": "https://localhost:8080/",
          "height": 34
        }
      },
      "source": [
        "weights = init((28*28, 1))\n",
        "bias = init(1)\n",
        "weights.shape, bias.shape"
      ],
      "execution_count": 130,
      "outputs": [
        {
          "output_type": "execute_result",
          "data": {
            "text/plain": [
              "(torch.Size([784, 1]), torch.Size([1]))"
            ]
          },
          "metadata": {
            "tags": []
          },
          "execution_count": 130
        }
      ]
    },
    {
      "cell_type": "code",
      "metadata": {
        "id": "edtuJf8-SVzA",
        "outputId": "87691a31-b5e6-4269-adb1-d4b30e1947fb",
        "colab": {
          "base_uri": "https://localhost:8080/",
          "height": 34
        }
      },
      "source": [
        "pred = (train_x[0]*weights.T).sum() + bias\n",
        "pred"
      ],
      "execution_count": 131,
      "outputs": [
        {
          "output_type": "execute_result",
          "data": {
            "text/plain": [
              "tensor([4.1402], grad_fn=<AddBackward0>)"
            ]
          },
          "metadata": {
            "tags": []
          },
          "execution_count": 131
        }
      ]
    },
    {
      "cell_type": "code",
      "metadata": {
        "id": "ky3EweOQTRaS"
      },
      "source": [
        "def linear(train_x):\n",
        "  return train_x @ weights + bias\n",
        "\n",
        "pred = linear(train_x)"
      ],
      "execution_count": 132,
      "outputs": []
    },
    {
      "cell_type": "code",
      "metadata": {
        "id": "bRrJ-iT2bqyI",
        "outputId": "ec5f0ece-8968-4bde-bb84-edc50ba52815",
        "colab": {
          "base_uri": "https://localhost:8080/",
          "height": 34
        }
      },
      "source": [
        "pred.shape"
      ],
      "execution_count": 133,
      "outputs": [
        {
          "output_type": "execute_result",
          "data": {
            "text/plain": [
              "torch.Size([12396, 1])"
            ]
          },
          "metadata": {
            "tags": []
          },
          "execution_count": 133
        }
      ]
    },
    {
      "cell_type": "code",
      "metadata": {
        "id": "IjbWLuDwbyi2",
        "outputId": "488525d5-a92a-4e78-fbfa-c95ca25678da",
        "colab": {
          "base_uri": "https://localhost:8080/",
          "height": 136
        }
      },
      "source": [
        "pred"
      ],
      "execution_count": 134,
      "outputs": [
        {
          "output_type": "execute_result",
          "data": {
            "text/plain": [
              "tensor([[  4.1402],\n",
              "        [-10.3916],\n",
              "        [ -4.8323],\n",
              "        ...,\n",
              "        [ -1.7522],\n",
              "        [-12.3659],\n",
              "        [ -8.7766]], grad_fn=<AddBackward0>)"
            ]
          },
          "metadata": {
            "tags": []
          },
          "execution_count": 134
        }
      ]
    },
    {
      "cell_type": "code",
      "metadata": {
        "id": "QfuodXT8cA-Q",
        "outputId": "a395c546-63f6-4245-f228-29f3806175a3",
        "colab": {
          "base_uri": "https://localhost:8080/",
          "height": 136
        }
      },
      "source": [
        "train_y"
      ],
      "execution_count": 135,
      "outputs": [
        {
          "output_type": "execute_result",
          "data": {
            "text/plain": [
              "tensor([[1],\n",
              "        [1],\n",
              "        [1],\n",
              "        ...,\n",
              "        [0],\n",
              "        [0],\n",
              "        [0]])"
            ]
          },
          "metadata": {
            "tags": []
          },
          "execution_count": 135
        }
      ]
    },
    {
      "cell_type": "code",
      "metadata": {
        "id": "lF4PrWk2cRXY",
        "outputId": "86333ce6-5870-41dd-deb2-8589a809589c",
        "colab": {
          "base_uri": "https://localhost:8080/",
          "height": 34
        }
      },
      "source": [
        "pred[1]"
      ],
      "execution_count": 136,
      "outputs": [
        {
          "output_type": "execute_result",
          "data": {
            "text/plain": [
              "tensor([-10.3916], grad_fn=<SelectBackward>)"
            ]
          },
          "metadata": {
            "tags": []
          },
          "execution_count": 136
        }
      ]
    },
    {
      "cell_type": "code",
      "metadata": {
        "id": "J3DesLDHcqx_",
        "outputId": "4aff1a2b-0faa-4111-d91b-327aea46ad18",
        "colab": {
          "base_uri": "https://localhost:8080/",
          "height": 34
        }
      },
      "source": [
        "train_y[1]"
      ],
      "execution_count": 137,
      "outputs": [
        {
          "output_type": "execute_result",
          "data": {
            "text/plain": [
              "tensor([1])"
            ]
          },
          "metadata": {
            "tags": []
          },
          "execution_count": 137
        }
      ]
    },
    {
      "cell_type": "code",
      "metadata": {
        "id": "PynHsXCbctTo",
        "outputId": "f1dead76-825b-402a-cd30-ccb4d97d3833",
        "colab": {
          "base_uri": "https://localhost:8080/",
          "height": 136
        }
      },
      "source": [
        "correct_3 = (pred>0).float() == train_y\n",
        "correct_3"
      ],
      "execution_count": 138,
      "outputs": [
        {
          "output_type": "execute_result",
          "data": {
            "text/plain": [
              "tensor([[ True],\n",
              "        [False],\n",
              "        [False],\n",
              "        ...,\n",
              "        [ True],\n",
              "        [ True],\n",
              "        [ True]])"
            ]
          },
          "metadata": {
            "tags": []
          },
          "execution_count": 138
        }
      ]
    },
    {
      "cell_type": "code",
      "metadata": {
        "id": "h5CYW3u_c7-P",
        "outputId": "ebb649bb-3d02-4661-e9ba-294b1aaabf41",
        "colab": {
          "base_uri": "https://localhost:8080/",
          "height": 136
        }
      },
      "source": [
        "correct_7 = (pred<0).float() == train_y\n",
        "correct_7"
      ],
      "execution_count": 139,
      "outputs": [
        {
          "output_type": "execute_result",
          "data": {
            "text/plain": [
              "tensor([[False],\n",
              "        [ True],\n",
              "        [ True],\n",
              "        ...,\n",
              "        [False],\n",
              "        [False],\n",
              "        [False]])"
            ]
          },
          "metadata": {
            "tags": []
          },
          "execution_count": 139
        }
      ]
    },
    {
      "cell_type": "code",
      "metadata": {
        "id": "VmujqY3XdLgN",
        "outputId": "92515208-0efb-4280-9ca0-409cfc71c999",
        "colab": {
          "base_uri": "https://localhost:8080/",
          "height": 34
        }
      },
      "source": [
        "correct_3.float().mean().item()"
      ],
      "execution_count": 140,
      "outputs": [
        {
          "output_type": "execute_result",
          "data": {
            "text/plain": [
              "0.5403355956077576"
            ]
          },
          "metadata": {
            "tags": []
          },
          "execution_count": 140
        }
      ]
    },
    {
      "cell_type": "code",
      "metadata": {
        "id": "gCvaV8gidfWp",
        "outputId": "a7637865-c282-4d5d-9e68-fb8726a6ff7f",
        "colab": {
          "base_uri": "https://localhost:8080/",
          "height": 34
        }
      },
      "source": [
        "correct_7.float().mean().item()"
      ],
      "execution_count": 141,
      "outputs": [
        {
          "output_type": "execute_result",
          "data": {
            "text/plain": [
              "0.45966440439224243"
            ]
          },
          "metadata": {
            "tags": []
          },
          "execution_count": 141
        }
      ]
    },
    {
      "cell_type": "code",
      "metadata": {
        "id": "DTOtCXCbd2DM"
      },
      "source": [
        "#This is the same as running the list comprehension \n",
        "#[b[i] if a[i] else c[i] for i in range(len(a))], \n",
        "#except it works on tensors, at C/CUDA speed. \n",
        "def mnist_loss(train_y, pred):\n",
        "  pred = sigmoid(pred)\n",
        "  loss = torch.where(train_y == 1, 1 - pred, pred)"
      ],
      "execution_count": 142,
      "outputs": []
    },
    {
      "cell_type": "code",
      "metadata": {
        "id": "sGOMsZ77N3M8"
      },
      "source": [
        "# 1- init the weights, bias \n",
        "weights = init((28*28, 1))\n",
        "bias = init(1)\n",
        "\n",
        "# 2- lets define model \n",
        "def linear(train_x):\n",
        "  params = weights, bias\n",
        "  return (train_x @ weights) + bias\n",
        "\n",
        "# 3- loss function:\n",
        "def mnist_loss(pred, train_y):\n",
        "  pred = pred.sigmoid()\n",
        "  return torch.where(train_y ==1, 1-pred, pred).mean()\n",
        "\n",
        "# 4- create dataloader for tain_dset and valid_dset\n",
        "dl_train = DataLoader(dset, batch_size=256)\n",
        "dl_valid = DataLoader(valid_dset, batch_size=256)\n",
        "\n",
        "# 5- calculate gardient\n",
        "def calcu_gradient(model, train_x, train_y):\n",
        "  pred = model(train_x)\n",
        "  loss = mnist_loss(pred, train_y)\n",
        "  loss.backward()\n",
        "\n",
        "# 6- added zero grad to rest , weights.grad.zero_(), bias.grad.zero_() in function\n",
        "\n",
        "def train_epoch(model, lr, params, dset):\n",
        "  for train_x, train_y in dset:\n",
        "    calcu_gradient(model, train_x, train_y)\n",
        "    for p in params:\n",
        "      p.data -= p.grad *lr\n",
        "      p.grad.zero_()\n",
        "\n",
        "# 7- define accuracy function\n",
        "def mnist_accuracy(train_y, pred):\n",
        "  pred = linear(train_x)\n",
        "  pred = pred.sigmoid()\n",
        "  correct = (pred>0.5) == train_y\n",
        "  return correct.float().mean()\n",
        "\n",
        "# 8- define vlaidation function\n",
        "def validate_epch(model, valid_dset):\n",
        "  acc = [mnist_accuracy(yb ,linear(xb)) for xb, yb in valid_dset]\n",
        "  return round(torch.stack(acc).mean().item(),4)\n"
      ],
      "execution_count": 143,
      "outputs": []
    },
    {
      "cell_type": "code",
      "metadata": {
        "id": "5MoZUBGQkpUP"
      },
      "source": [
        "params = weights, bias\n",
        "train_epoch(linear, 1, params, dset)"
      ],
      "execution_count": 144,
      "outputs": []
    },
    {
      "cell_type": "code",
      "metadata": {
        "id": "oHfAgvcwN3j3",
        "outputId": "1cacfcde-08ab-4768-b78f-0bc0c48d13f4",
        "colab": {
          "base_uri": "https://localhost:8080/",
          "height": 357
        }
      },
      "source": [
        "params = weights, bias\n",
        "for i in range(20):\n",
        "  train_epoch(linear, 0.01, params, dset[:20])\n",
        "  print(validate_epch(linear, dset[:20]), sep=\" \")\n"
      ],
      "execution_count": 145,
      "outputs": [
        {
          "output_type": "stream",
          "text": [
            "0.0012\n",
            "0.0012\n",
            "0.0012\n",
            "0.0012\n",
            "0.0012\n",
            "0.0013\n",
            "0.0013\n",
            "0.0013\n",
            "0.0013\n",
            "0.0013\n",
            "0.0013\n",
            "0.0013\n",
            "0.0013\n",
            "0.0013\n",
            "0.0013\n",
            "0.0013\n",
            "0.0013\n",
            "0.0013\n",
            "0.0013\n",
            "0.0013\n"
          ],
          "name": "stdout"
        }
      ]
    },
    {
      "cell_type": "code",
      "metadata": {
        "id": "FhTBE_d6N3xk",
        "outputId": "257f3cd5-78a5-49f8-f7dd-16aeb30ea28e",
        "colab": {
          "base_uri": "https://localhost:8080/",
          "height": 34
        }
      },
      "source": [
        "# refactoring our code:\n",
        "# nn.Linear does the same thing as our init_params and linear together\n",
        "linear_py = nn.Linear(28*28,1)\n",
        "w, b = linear_py.parameters()\n",
        "w.shape, b.shape"
      ],
      "execution_count": 146,
      "outputs": [
        {
          "output_type": "execute_result",
          "data": {
            "text/plain": [
              "(torch.Size([1, 784]), torch.Size([1]))"
            ]
          },
          "metadata": {
            "tags": []
          },
          "execution_count": 146
        }
      ]
    },
    {
      "cell_type": "code",
      "metadata": {
        "id": "ZZSE0XqwN4EC",
        "outputId": "a0b4ba79-7fb2-4f45-f109-e41b766d3669",
        "colab": {
          "base_uri": "https://localhost:8080/",
          "height": 34
        }
      },
      "source": [
        "# We can create our optimizer by passing in the model’s parameters\n",
        "class BasicOptim:\n",
        "  def __init__(self, params, lr):\n",
        "    self.params = params\n",
        "    self.lr = lr\n",
        "  def step(self, *args, **kwargs):\n",
        "    for p in self.params:\n",
        "      p.data -= p.grad.data * self.lr\n",
        "  def zero_grad(self, *args, **kwargs):\n",
        "    for p in self.params:\n",
        "      p.grad._zero()\n",
        "\n",
        "opt = BasicOptim(linear_py.parameters(),1)\n",
        "opt"
      ],
      "execution_count": 147,
      "outputs": [
        {
          "output_type": "execute_result",
          "data": {
            "text/plain": [
              "<__main__.BasicOptim at 0x7f1692501ac8>"
            ]
          },
          "metadata": {
            "tags": []
          },
          "execution_count": 147
        }
      ]
    },
    {
      "cell_type": "code",
      "metadata": {
        "id": "rj2My68HVonO",
        "outputId": "a5852d0c-72ac-4f8e-bb24-154adf9eb302",
        "colab": {
          "base_uri": "https://localhost:8080/",
          "height": 34
        }
      },
      "source": [
        "def train_epoch(model, dset):\n",
        "  for train_x, train_y in dset:\n",
        "    calcu_gradient(model, train_x, train_y)\n",
        "    opt.step()\n",
        "    opt.zero_grad()\n",
        "\n",
        "def train_model(model, epoch, dset):\n",
        "  for i in range(epoch):\n",
        "    train_epoch(model, dset)\n",
        "    return print(validate_epch(model, dset), end=\" \")\n",
        "\n",
        "train_model(linear_py, 20, dset[:30])\n"
      ],
      "execution_count": 148,
      "outputs": [
        {
          "output_type": "stream",
          "text": [
            "0.0013 "
          ],
          "name": "stdout"
        }
      ]
    },
    {
      "cell_type": "code",
      "metadata": {
        "id": "Mwlq8ffelMOM",
        "outputId": "9acc4d64-eb41-4beb-b05f-3d719e3931eb",
        "colab": {
          "base_uri": "https://localhost:8080/",
          "height": 34
        }
      },
      "source": [
        "# fastai provides the SGD class that, by default, does the same thing as our BasicOptim\n",
        "linear_model = nn.Linear(28*28, 1)\n",
        "opt = SGD(linear_model.parameters(), 1)\n",
        "train_model(linear_model, 20, dset[:50])"
      ],
      "execution_count": 149,
      "outputs": [
        {
          "output_type": "stream",
          "text": [
            "0.0013 "
          ],
          "name": "stdout"
        }
      ]
    },
    {
      "cell_type": "code",
      "metadata": {
        "id": "tqkI2FJrmPTg"
      },
      "source": [
        "#fastai also provides Learner.fit, which we can use instead of train_model.\n",
        "dl = DataLoader(dset, batch_size=256)\n",
        "valid_dl = DataLoader(valid_dset, batch_size=256)\n",
        "\n",
        "def mnist_loss(predictions, targets):\n",
        "    predictions = predictions.sigmoid()\n",
        "    return torch.where(targets==1, 1-predictions, predictions).mean()\n",
        "\n",
        "def mnist_accuracy(xb, yb):\n",
        "    preds = xb.sigmoid()\n",
        "    correct = (preds>0.5) == yb\n",
        "    return correct.float().mean()\n",
        "\n",
        "\n",
        "dls = DataLoaders(dl, valid_dl)\n",
        "learn = Learner(dls, nn.Linear(28*28, 1), \n",
        "                opt_func = SGD, \n",
        "                lr = 1, \n",
        "                loss_func=mnist_loss, \n",
        "                metrics=mnist_accuracy)"
      ],
      "execution_count": 150,
      "outputs": []
    },
    {
      "cell_type": "code",
      "metadata": {
        "id": "If_ImqG5vfPK",
        "outputId": "c99635ac-3894-43e2-f4f7-ae1d85c0c729",
        "colab": {
          "base_uri": "https://localhost:8080/",
          "height": 359
        }
      },
      "source": [
        "learn.fit(10, lr=lr)"
      ],
      "execution_count": 151,
      "outputs": [
        {
          "output_type": "display_data",
          "data": {
            "text/html": [
              "<table border=\"1\" class=\"dataframe\">\n",
              "  <thead>\n",
              "    <tr style=\"text-align: left;\">\n",
              "      <th>epoch</th>\n",
              "      <th>train_loss</th>\n",
              "      <th>valid_loss</th>\n",
              "      <th>mnist_accuracy</th>\n",
              "      <th>time</th>\n",
              "    </tr>\n",
              "  </thead>\n",
              "  <tbody>\n",
              "    <tr>\n",
              "      <td>0</td>\n",
              "      <td>0.491823</td>\n",
              "      <td>0.489582</td>\n",
              "      <td>0.604514</td>\n",
              "      <td>00:00</td>\n",
              "    </tr>\n",
              "    <tr>\n",
              "      <td>1</td>\n",
              "      <td>0.491683</td>\n",
              "      <td>0.489364</td>\n",
              "      <td>0.606968</td>\n",
              "      <td>00:00</td>\n",
              "    </tr>\n",
              "    <tr>\n",
              "      <td>2</td>\n",
              "      <td>0.491522</td>\n",
              "      <td>0.489146</td>\n",
              "      <td>0.609912</td>\n",
              "      <td>00:00</td>\n",
              "    </tr>\n",
              "    <tr>\n",
              "      <td>3</td>\n",
              "      <td>0.491347</td>\n",
              "      <td>0.488928</td>\n",
              "      <td>0.611384</td>\n",
              "      <td>00:00</td>\n",
              "    </tr>\n",
              "    <tr>\n",
              "      <td>4</td>\n",
              "      <td>0.491163</td>\n",
              "      <td>0.488711</td>\n",
              "      <td>0.614818</td>\n",
              "      <td>00:00</td>\n",
              "    </tr>\n",
              "    <tr>\n",
              "      <td>5</td>\n",
              "      <td>0.490975</td>\n",
              "      <td>0.488493</td>\n",
              "      <td>0.615800</td>\n",
              "      <td>00:00</td>\n",
              "    </tr>\n",
              "    <tr>\n",
              "      <td>6</td>\n",
              "      <td>0.490785</td>\n",
              "      <td>0.488275</td>\n",
              "      <td>0.617272</td>\n",
              "      <td>00:00</td>\n",
              "    </tr>\n",
              "    <tr>\n",
              "      <td>7</td>\n",
              "      <td>0.490595</td>\n",
              "      <td>0.488057</td>\n",
              "      <td>0.620707</td>\n",
              "      <td>00:00</td>\n",
              "    </tr>\n",
              "    <tr>\n",
              "      <td>8</td>\n",
              "      <td>0.490403</td>\n",
              "      <td>0.487840</td>\n",
              "      <td>0.623651</td>\n",
              "      <td>00:00</td>\n",
              "    </tr>\n",
              "    <tr>\n",
              "      <td>9</td>\n",
              "      <td>0.490212</td>\n",
              "      <td>0.487622</td>\n",
              "      <td>0.624632</td>\n",
              "      <td>00:00</td>\n",
              "    </tr>\n",
              "  </tbody>\n",
              "</table>"
            ],
            "text/plain": [
              "<IPython.core.display.HTML object>"
            ]
          },
          "metadata": {
            "tags": []
          }
        }
      ]
    },
    {
      "cell_type": "code",
      "metadata": {
        "id": "KPPLun2nxR6H"
      },
      "source": [
        "def simple_net(xb):\n",
        "  res = xb @ w1 + b1\n",
        "  res = res.max(tensor(0.0))\n",
        "  res = xb @ w2 + b2\n",
        "  return res \n",
        "\n",
        "\n",
        "w1 = init((28*28, 30))\n",
        "b1 = init(30)\n",
        "w2 = init(30, 1)\n",
        "b2 = init(1)\n",
        "\n",
        "simple_net = nn.Sequential(\n",
        "    nn.Linear(28*28,30),\n",
        "    nn.ReLU(),\n",
        "    nn.Linear(30,1)\n",
        ")\n",
        "\n",
        "learn = Learner(dls, simple_net, lr = 0.1, opt_func=SGD, \n",
        "                loss_func=mnist_loss, metrics=mnist_accuracy)\n",
        "\n",
        "learn.fit(50, lr=lr)"
      ],
      "execution_count": null,
      "outputs": []
    },
    {
      "cell_type": "code",
      "metadata": {
        "id": "AkWxjqDqxRdn",
        "outputId": "1f609874-8bc2-4926-c8f4-9420b7a4000f",
        "colab": {
          "base_uri": "https://localhost:8080/",
          "height": 144
        }
      },
      "source": [
        "doc(L.itemgot)"
      ],
      "execution_count": 164,
      "outputs": [
        {
          "output_type": "display_data",
          "data": {
            "text/html": [
              "<h4 id=\"L.itemgot\" class=\"doc_header\"><code>L.itemgot</code><a href=\"https://github.com/fastai/fastcore/tree/master/fastcore/foundation.py#L353\" class=\"source_link\" style=\"float:right\">[source]</a></h4><blockquote><p><code>L.itemgot</code>(<strong>*<code>idxs</code></strong>)</p>\n",
              "</blockquote>\n",
              "<p>Create new <code>L</code> with item <code>idx</code> of all <code>items</code></p>\n",
              "<p><a href=\"https://fastcore.fast.ai/foundation#L.itemgot\" target=\"_blank\" rel=\"noreferrer noopener\">Show in docs</a></p>\n"
            ],
            "text/plain": [
              "<IPython.core.display.HTML object>"
            ]
          },
          "metadata": {
            "tags": []
          }
        }
      ]
    },
    {
      "cell_type": "code",
      "metadata": {
        "id": "FItnETNVN0Zj",
        "outputId": "ade19ed0-48aa-4447-eb05-39c2873936c2",
        "colab": {
          "base_uri": "https://localhost:8080/",
          "height": 282
        }
      },
      "source": [
        "plt.plot(L(learn.recorder.values).itemgot(2))"
      ],
      "execution_count": 167,
      "outputs": [
        {
          "output_type": "execute_result",
          "data": {
            "text/plain": [
              "[<matplotlib.lines.Line2D at 0x7f1686eee908>]"
            ]
          },
          "metadata": {
            "tags": []
          },
          "execution_count": 167
        },
        {
          "output_type": "display_data",
          "data": {
            "image/png": "[encoded data removed]",
            "text/plain": [
              "<Figure size 432x288 with 1 Axes>"
            ]
          },
          "metadata": {
            "tags": [],
            "needs_background": "light"
          }
        }
      ]
    },
    {
      "cell_type": "code",
      "metadata": {
        "id": "pke8LtmKP3Qk",
        "outputId": "64ba69bc-8f85-43e9-8bec-88d10c32237d",
        "colab": {
          "base_uri": "https://localhost:8080/",
          "height": 34
        }
      },
      "source": [
        "learn.recorder.values[-1][2]"
      ],
      "execution_count": 168,
      "outputs": [
        {
          "output_type": "execute_result",
          "data": {
            "text/plain": [
              "0.5201177597045898"
            ]
          },
          "metadata": {
            "tags": []
          },
          "execution_count": 168
        }
      ]
    },
    {
      "cell_type": "code",
      "metadata": {
        "id": "DsZYqIRESeUe",
        "outputId": "c9b12375-adb9-4d22-c264-031731d68343",
        "colab": {
          "base_uri": "https://localhost:8080/",
          "height": 34
        }
      },
      "source": [
        "path"
      ],
      "execution_count": 169,
      "outputs": [
        {
          "output_type": "execute_result",
          "data": {
            "text/plain": [
              "Path('/root/.fastai/data/mnist_sample')"
            ]
          },
          "metadata": {
            "tags": []
          },
          "execution_count": 169
        }
      ]
    },
    {
      "cell_type": "code",
      "metadata": {
        "id": "d9HHuBVIQanv",
        "outputId": "5869fe09-f243-4e8c-87c8-79f7dd84ca13",
        "colab": {
          "base_uri": "https://localhost:8080/",
          "height": 80
        }
      },
      "source": [
        "dls = ImageDataLoaders.from_folder(path)\n",
        "learn = cnn_learner(dls, resnet18, pretrained=False,\n",
        "                loss_func=F.cross_entropy, metrics=accuracy)\n",
        "learn.fit_one_cycle(1,0.1)"
      ],
      "execution_count": 175,
      "outputs": [
        {
          "output_type": "display_data",
          "data": {
            "text/html": [
              "<table border=\"1\" class=\"dataframe\">\n",
              "  <thead>\n",
              "    <tr style=\"text-align: left;\">\n",
              "      <th>epoch</th>\n",
              "      <th>train_loss</th>\n",
              "      <th>valid_loss</th>\n",
              "      <th>accuracy</th>\n",
              "      <th>time</th>\n",
              "    </tr>\n",
              "  </thead>\n",
              "  <tbody>\n",
              "    <tr>\n",
              "      <td>0</td>\n",
              "      <td>0.083602</td>\n",
              "      <td>0.008658</td>\n",
              "      <td>0.997056</td>\n",
              "      <td>00:14</td>\n",
              "    </tr>\n",
              "  </tbody>\n",
              "</table>"
            ],
            "text/plain": [
              "<IPython.core.display.HTML object>"
            ]
          },
          "metadata": {
            "tags": []
          }
        }
      ]
    }
  ]
}