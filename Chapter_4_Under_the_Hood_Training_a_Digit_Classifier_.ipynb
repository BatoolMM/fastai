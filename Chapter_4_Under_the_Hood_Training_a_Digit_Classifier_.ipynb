{
  "nbformat": 4,
  "nbformat_minor": 0,
  "metadata": {
    "colab": {
      "name": "Chapter 4. Under the Hood: Training a Digit Classifier .ipynb",
      "provenance": [],
      "authorship_tag": "ABX9TyNdAXKEmDFhs6wUbVoU42vy",
      "include_colab_link": true
    },
    "kernelspec": {
      "name": "python3",
      "display_name": "Python 3"
    },
    "accelerator": "GPU"
  },
  "cells": [
    {
      "cell_type": "markdown",
      "metadata": {
        "id": "view-in-github",
        "colab_type": "text"
      },
      "source": [
        "<a href=\"https://colab.research.google.com/github/BatoolMM/fastai/blob/master/Chapter_4_Under_the_Hood_Training_a_Digit_Classifier_.ipynb\" target=\"_parent\"><img src=\"https://colab.research.google.com/assets/colab-badge.svg\" alt=\"Open In Colab\"/></a>"
      ]
    },
    {
      "cell_type": "markdown",
      "metadata": {
        "id": "4jY9bfHsr8J2"
      },
      "source": [
        "# **Chapter 4. Under the Hood: Training a Digit Classifier**"
      ]
    },
    {
      "cell_type": "code",
      "metadata": {
        "id": "XIOrwrPaMSgu",
        "outputId": "477f983a-f259-4217-971e-e264dc61d62f",
        "colab": {
          "base_uri": "https://localhost:8080/",
          "height": 1000
        }
      },
      "source": [
        "!pip install -Uqq fastbook\n",
        "!pip install fastcore\n",
        "!pip install fastai\n",
        "!pip install utils"
      ],
      "execution_count": 1,
      "outputs": [
        {
          "output_type": "stream",
          "text": [
            "\u001b[?25l\r\u001b[K     |▌                               | 10kB 28.2MB/s eta 0:00:01\r\u001b[K     |█                               | 20kB 2.9MB/s eta 0:00:01\r\u001b[K     |█▍                              | 30kB 3.1MB/s eta 0:00:01\r\u001b[K     |█▉                              | 40kB 3.6MB/s eta 0:00:01\r\u001b[K     |██▎                             | 51kB 3.5MB/s eta 0:00:01\r\u001b[K     |██▊                             | 61kB 3.9MB/s eta 0:00:01\r\u001b[K     |███▏                            | 71kB 4.3MB/s eta 0:00:01\r\u001b[K     |███▋                            | 81kB 4.5MB/s eta 0:00:01\r\u001b[K     |████                            | 92kB 4.3MB/s eta 0:00:01\r\u001b[K     |████▌                           | 102kB 4.6MB/s eta 0:00:01\r\u001b[K     |█████                           | 112kB 4.6MB/s eta 0:00:01\r\u001b[K     |█████▌                          | 122kB 4.6MB/s eta 0:00:01\r\u001b[K     |██████                          | 133kB 4.6MB/s eta 0:00:01\r\u001b[K     |██████▍                         | 143kB 4.6MB/s eta 0:00:01\r\u001b[K     |██████▉                         | 153kB 4.6MB/s eta 0:00:01\r\u001b[K     |███████▎                        | 163kB 4.6MB/s eta 0:00:01\r\u001b[K     |███████▊                        | 174kB 4.6MB/s eta 0:00:01\r\u001b[K     |████████▏                       | 184kB 4.6MB/s eta 0:00:01\r\u001b[K     |████████▋                       | 194kB 4.6MB/s eta 0:00:01\r\u001b[K     |█████████                       | 204kB 4.6MB/s eta 0:00:01\r\u001b[K     |█████████▋                      | 215kB 4.6MB/s eta 0:00:01\r\u001b[K     |██████████                      | 225kB 4.6MB/s eta 0:00:01\r\u001b[K     |██████████▌                     | 235kB 4.6MB/s eta 0:00:01\r\u001b[K     |███████████                     | 245kB 4.6MB/s eta 0:00:01\r\u001b[K     |███████████▍                    | 256kB 4.6MB/s eta 0:00:01\r\u001b[K     |███████████▉                    | 266kB 4.6MB/s eta 0:00:01\r\u001b[K     |████████████▎                   | 276kB 4.6MB/s eta 0:00:01\r\u001b[K     |████████████▊                   | 286kB 4.6MB/s eta 0:00:01\r\u001b[K     |█████████████▏                  | 296kB 4.6MB/s eta 0:00:01\r\u001b[K     |█████████████▋                  | 307kB 4.6MB/s eta 0:00:01\r\u001b[K     |██████████████▏                 | 317kB 4.6MB/s eta 0:00:01\r\u001b[K     |██████████████▋                 | 327kB 4.6MB/s eta 0:00:01\r\u001b[K     |███████████████                 | 337kB 4.6MB/s eta 0:00:01\r\u001b[K     |███████████████▌                | 348kB 4.6MB/s eta 0:00:01\r\u001b[K     |████████████████                | 358kB 4.6MB/s eta 0:00:01\r\u001b[K     |████████████████▍               | 368kB 4.6MB/s eta 0:00:01\r\u001b[K     |████████████████▉               | 378kB 4.6MB/s eta 0:00:01\r\u001b[K     |█████████████████▎              | 389kB 4.6MB/s eta 0:00:01\r\u001b[K     |█████████████████▊              | 399kB 4.6MB/s eta 0:00:01\r\u001b[K     |██████████████████▏             | 409kB 4.6MB/s eta 0:00:01\r\u001b[K     |██████████████████▊             | 419kB 4.6MB/s eta 0:00:01\r\u001b[K     |███████████████████▏            | 430kB 4.6MB/s eta 0:00:01\r\u001b[K     |███████████████████▋            | 440kB 4.6MB/s eta 0:00:01\r\u001b[K     |████████████████████            | 450kB 4.6MB/s eta 0:00:01\r\u001b[K     |████████████████████▌           | 460kB 4.6MB/s eta 0:00:01\r\u001b[K     |█████████████████████           | 471kB 4.6MB/s eta 0:00:01\r\u001b[K     |█████████████████████▍          | 481kB 4.6MB/s eta 0:00:01\r\u001b[K     |█████████████████████▉          | 491kB 4.6MB/s eta 0:00:01\r\u001b[K     |██████████████████████▎         | 501kB 4.6MB/s eta 0:00:01\r\u001b[K     |██████████████████████▊         | 512kB 4.6MB/s eta 0:00:01\r\u001b[K     |███████████████████████▎        | 522kB 4.6MB/s eta 0:00:01\r\u001b[K     |███████████████████████▊        | 532kB 4.6MB/s eta 0:00:01\r\u001b[K     |████████████████████████▏       | 542kB 4.6MB/s eta 0:00:01\r\u001b[K     |████████████████████████▋       | 552kB 4.6MB/s eta 0:00:01\r\u001b[K     |█████████████████████████       | 563kB 4.6MB/s eta 0:00:01\r\u001b[K     |█████████████████████████▌      | 573kB 4.6MB/s eta 0:00:01\r\u001b[K     |██████████████████████████      | 583kB 4.6MB/s eta 0:00:01\r\u001b[K     |██████████████████████████▍     | 593kB 4.6MB/s eta 0:00:01\r\u001b[K     |██████████████████████████▉     | 604kB 4.6MB/s eta 0:00:01\r\u001b[K     |███████████████████████████▎    | 614kB 4.6MB/s eta 0:00:01\r\u001b[K     |███████████████████████████▉    | 624kB 4.6MB/s eta 0:00:01\r\u001b[K     |████████████████████████████▎   | 634kB 4.6MB/s eta 0:00:01\r\u001b[K     |████████████████████████████▊   | 645kB 4.6MB/s eta 0:00:01\r\u001b[K     |█████████████████████████████▏  | 655kB 4.6MB/s eta 0:00:01\r\u001b[K     |█████████████████████████████▋  | 665kB 4.6MB/s eta 0:00:01\r\u001b[K     |██████████████████████████████  | 675kB 4.6MB/s eta 0:00:01\r\u001b[K     |██████████████████████████████▌ | 686kB 4.6MB/s eta 0:00:01\r\u001b[K     |███████████████████████████████ | 696kB 4.6MB/s eta 0:00:01\r\u001b[K     |███████████████████████████████▍| 706kB 4.6MB/s eta 0:00:01\r\u001b[K     |███████████████████████████████▉| 716kB 4.6MB/s eta 0:00:01\r\u001b[K     |████████████████████████████████| 727kB 4.6MB/s \n",
            "\u001b[K     |████████████████████████████████| 194kB 13.4MB/s \n",
            "\u001b[K     |████████████████████████████████| 51kB 7.0MB/s \n",
            "\u001b[K     |████████████████████████████████| 1.0MB 14.9MB/s \n",
            "\u001b[K     |████████████████████████████████| 51kB 7.9MB/s \n",
            "\u001b[K     |████████████████████████████████| 51kB 7.5MB/s \n",
            "\u001b[K     |████████████████████████████████| 92kB 9.9MB/s \n",
            "\u001b[K     |████████████████████████████████| 40kB 6.9MB/s \n",
            "\u001b[K     |████████████████████████████████| 51kB 7.8MB/s \n",
            "\u001b[K     |████████████████████████████████| 61kB 9.5MB/s \n",
            "\u001b[K     |████████████████████████████████| 2.6MB 19.9MB/s \n",
            "\u001b[?25hRequirement already satisfied: fastcore in /usr/local/lib/python3.6/dist-packages (1.2.0)\n",
            "Requirement already satisfied: packaging in /usr/local/lib/python3.6/dist-packages (from fastcore) (20.4)\n",
            "Requirement already satisfied: pip in /usr/local/lib/python3.6/dist-packages (from fastcore) (19.3.1)\n",
            "Requirement already satisfied: six in /usr/local/lib/python3.6/dist-packages (from packaging->fastcore) (1.15.0)\n",
            "Requirement already satisfied: pyparsing>=2.0.2 in /usr/local/lib/python3.6/dist-packages (from packaging->fastcore) (2.4.7)\n",
            "Requirement already satisfied: fastai in /usr/local/lib/python3.6/dist-packages (2.0.16)\n",
            "Requirement already satisfied: scikit-learn in /usr/local/lib/python3.6/dist-packages (from fastai) (0.22.2.post1)\n",
            "Requirement already satisfied: pandas in /usr/local/lib/python3.6/dist-packages (from fastai) (1.1.2)\n",
            "Requirement already satisfied: requests in /usr/local/lib/python3.6/dist-packages (from fastai) (2.23.0)\n",
            "Requirement already satisfied: scipy in /usr/local/lib/python3.6/dist-packages (from fastai) (1.4.1)\n",
            "Requirement already satisfied: matplotlib in /usr/local/lib/python3.6/dist-packages (from fastai) (3.2.2)\n",
            "Requirement already satisfied: packaging in /usr/local/lib/python3.6/dist-packages (from fastai) (20.4)\n",
            "Requirement already satisfied: pip in /usr/local/lib/python3.6/dist-packages (from fastai) (19.3.1)\n",
            "Requirement already satisfied: pillow in /usr/local/lib/python3.6/dist-packages (from fastai) (7.0.0)\n",
            "Requirement already satisfied: spacy in /usr/local/lib/python3.6/dist-packages (from fastai) (2.2.4)\n",
            "Requirement already satisfied: pyyaml in /usr/local/lib/python3.6/dist-packages (from fastai) (3.13)\n",
            "Requirement already satisfied: fastcore>=1.1.0 in /usr/local/lib/python3.6/dist-packages (from fastai) (1.2.0)\n",
            "Requirement already satisfied: torch>=1.6.0 in /usr/local/lib/python3.6/dist-packages (from fastai) (1.6.0+cu101)\n",
            "Requirement already satisfied: fastprogress>=0.2.4 in /usr/local/lib/python3.6/dist-packages (from fastai) (1.0.0)\n",
            "Requirement already satisfied: torchvision>=0.7 in /usr/local/lib/python3.6/dist-packages (from fastai) (0.7.0+cu101)\n",
            "Requirement already satisfied: joblib>=0.11 in /usr/local/lib/python3.6/dist-packages (from scikit-learn->fastai) (0.16.0)\n",
            "Requirement already satisfied: numpy>=1.11.0 in /usr/local/lib/python3.6/dist-packages (from scikit-learn->fastai) (1.18.5)\n",
            "Requirement already satisfied: pytz>=2017.2 in /usr/local/lib/python3.6/dist-packages (from pandas->fastai) (2018.9)\n",
            "Requirement already satisfied: python-dateutil>=2.7.3 in /usr/local/lib/python3.6/dist-packages (from pandas->fastai) (2.8.1)\n",
            "Requirement already satisfied: certifi>=2017.4.17 in /usr/local/lib/python3.6/dist-packages (from requests->fastai) (2020.6.20)\n",
            "Requirement already satisfied: idna<3,>=2.5 in /usr/local/lib/python3.6/dist-packages (from requests->fastai) (2.10)\n",
            "Requirement already satisfied: urllib3!=1.25.0,!=1.25.1,<1.26,>=1.21.1 in /usr/local/lib/python3.6/dist-packages (from requests->fastai) (1.24.3)\n",
            "Requirement already satisfied: chardet<4,>=3.0.2 in /usr/local/lib/python3.6/dist-packages (from requests->fastai) (3.0.4)\n",
            "Requirement already satisfied: cycler>=0.10 in /usr/local/lib/python3.6/dist-packages (from matplotlib->fastai) (0.10.0)\n",
            "Requirement already satisfied: kiwisolver>=1.0.1 in /usr/local/lib/python3.6/dist-packages (from matplotlib->fastai) (1.2.0)\n",
            "Requirement already satisfied: pyparsing!=2.0.4,!=2.1.2,!=2.1.6,>=2.0.1 in /usr/local/lib/python3.6/dist-packages (from matplotlib->fastai) (2.4.7)\n",
            "Requirement already satisfied: six in /usr/local/lib/python3.6/dist-packages (from packaging->fastai) (1.15.0)\n",
            "Requirement already satisfied: wasabi<1.1.0,>=0.4.0 in /usr/local/lib/python3.6/dist-packages (from spacy->fastai) (0.8.0)\n",
            "Requirement already satisfied: murmurhash<1.1.0,>=0.28.0 in /usr/local/lib/python3.6/dist-packages (from spacy->fastai) (1.0.2)\n",
            "Requirement already satisfied: plac<1.2.0,>=0.9.6 in /usr/local/lib/python3.6/dist-packages (from spacy->fastai) (1.1.3)\n",
            "Requirement already satisfied: blis<0.5.0,>=0.4.0 in /usr/local/lib/python3.6/dist-packages (from spacy->fastai) (0.4.1)\n",
            "Requirement already satisfied: thinc==7.4.0 in /usr/local/lib/python3.6/dist-packages (from spacy->fastai) (7.4.0)\n",
            "Requirement already satisfied: catalogue<1.1.0,>=0.0.7 in /usr/local/lib/python3.6/dist-packages (from spacy->fastai) (1.0.0)\n",
            "Requirement already satisfied: preshed<3.1.0,>=3.0.2 in /usr/local/lib/python3.6/dist-packages (from spacy->fastai) (3.0.2)\n",
            "Requirement already satisfied: cymem<2.1.0,>=2.0.2 in /usr/local/lib/python3.6/dist-packages (from spacy->fastai) (2.0.3)\n",
            "Requirement already satisfied: tqdm<5.0.0,>=4.38.0 in /usr/local/lib/python3.6/dist-packages (from spacy->fastai) (4.41.1)\n",
            "Requirement already satisfied: setuptools in /usr/local/lib/python3.6/dist-packages (from spacy->fastai) (50.3.0)\n",
            "Requirement already satisfied: srsly<1.1.0,>=1.0.2 in /usr/local/lib/python3.6/dist-packages (from spacy->fastai) (1.0.2)\n",
            "Requirement already satisfied: future in /usr/local/lib/python3.6/dist-packages (from torch>=1.6.0->fastai) (0.16.0)\n",
            "Requirement already satisfied: importlib-metadata>=0.20; python_version < \"3.8\" in /usr/local/lib/python3.6/dist-packages (from catalogue<1.1.0,>=0.0.7->spacy->fastai) (2.0.0)\n",
            "Requirement already satisfied: zipp>=0.5 in /usr/local/lib/python3.6/dist-packages (from importlib-metadata>=0.20; python_version < \"3.8\"->catalogue<1.1.0,>=0.0.7->spacy->fastai) (3.2.0)\n",
            "Collecting utils\n",
            "  Downloading https://files.pythonhosted.org/packages/55/e6/c2d2b2703e7debc8b501caae0e6f7ead148fd0faa3c8131292a599930029/utils-1.0.1-py2.py3-none-any.whl\n",
            "Installing collected packages: utils\n",
            "Successfully installed utils-1.0.1\n"
          ],
          "name": "stdout"
        }
      ]
    },
    {
      "cell_type": "code",
      "metadata": {
        "id": "8fTSPY9QMW-U"
      },
      "source": [
        "from utils import *\n",
        "from fastai.vision.all import *\n",
        "from fastai.vision.widgets import ImageClassifierCleaner"
      ],
      "execution_count": 2,
      "outputs": []
    },
    {
      "cell_type": "code",
      "metadata": {
        "id": "v9J8qOwNMv-N"
      },
      "source": [
        "?download_images"
      ],
      "execution_count": 3,
      "outputs": []
    },
    {
      "cell_type": "code",
      "metadata": {
        "id": "AiSIbvFHNW13",
        "outputId": "fdceada3-cb0f-4502-c2f0-959436612f08",
        "colab": {
          "base_uri": "https://localhost:8080/",
          "height": 17
        }
      },
      "source": [
        "path = untar_data(URLs.MNIST_SAMPLE)"
      ],
      "execution_count": 4,
      "outputs": [
        {
          "output_type": "display_data",
          "data": {
            "text/html": [
              ""
            ],
            "text/plain": [
              "<IPython.core.display.HTML object>"
            ]
          },
          "metadata": {
            "tags": []
          }
        }
      ]
    },
    {
      "cell_type": "code",
      "metadata": {
        "id": "VXMpM0L_rzUt",
        "outputId": "99e75a72-3f36-4261-9f60-61e4668b5e21",
        "colab": {
          "base_uri": "https://localhost:8080/",
          "height": 54
        }
      },
      "source": [
        "path.ls()"
      ],
      "execution_count": 5,
      "outputs": [
        {
          "output_type": "execute_result",
          "data": {
            "text/plain": [
              "(#3) [Path('/root/.fastai/data/mnist_sample/valid'),Path('/root/.fastai/data/mnist_sample/train'),Path('/root/.fastai/data/mnist_sample/labels.csv')]"
            ]
          },
          "metadata": {
            "tags": []
          },
          "execution_count": 5
        }
      ]
    },
    {
      "cell_type": "code",
      "metadata": {
        "id": "Vi3I9qVvr052",
        "outputId": "528fb9a1-c348-45f6-ff1b-91b8ca0e580a",
        "colab": {
          "base_uri": "https://localhost:8080/",
          "height": 54
        }
      },
      "source": [
        "(path/'train'/'7').ls()"
      ],
      "execution_count": 6,
      "outputs": [
        {
          "output_type": "execute_result",
          "data": {
            "text/plain": [
              "(#6265) [Path('/root/.fastai/data/mnist_sample/train/7/33681.png'),Path('/root/.fastai/data/mnist_sample/train/7/40214.png'),Path('/root/.fastai/data/mnist_sample/train/7/3788.png'),Path('/root/.fastai/data/mnist_sample/train/7/42544.png'),Path('/root/.fastai/data/mnist_sample/train/7/47325.png'),Path('/root/.fastai/data/mnist_sample/train/7/6147.png'),Path('/root/.fastai/data/mnist_sample/train/7/617.png'),Path('/root/.fastai/data/mnist_sample/train/7/51138.png'),Path('/root/.fastai/data/mnist_sample/train/7/56567.png'),Path('/root/.fastai/data/mnist_sample/train/7/37835.png')...]"
            ]
          },
          "metadata": {
            "tags": []
          },
          "execution_count": 6
        }
      ]
    },
    {
      "cell_type": "code",
      "metadata": {
        "id": "q4JQGp7Rtgi7",
        "outputId": "57edd4c8-efeb-405c-dde3-e9df5571f9c1",
        "colab": {
          "base_uri": "https://localhost:8080/",
          "height": 54
        }
      },
      "source": [
        "threes = (path/'train'/'3').ls().sorted()\n",
        "sevens = (path/'train'/'7').ls().sorted()\n",
        "threes"
      ],
      "execution_count": 7,
      "outputs": [
        {
          "output_type": "execute_result",
          "data": {
            "text/plain": [
              "(#6131) [Path('/root/.fastai/data/mnist_sample/train/3/10.png'),Path('/root/.fastai/data/mnist_sample/train/3/10000.png'),Path('/root/.fastai/data/mnist_sample/train/3/10011.png'),Path('/root/.fastai/data/mnist_sample/train/3/10031.png'),Path('/root/.fastai/data/mnist_sample/train/3/10034.png'),Path('/root/.fastai/data/mnist_sample/train/3/10042.png'),Path('/root/.fastai/data/mnist_sample/train/3/10052.png'),Path('/root/.fastai/data/mnist_sample/train/3/1007.png'),Path('/root/.fastai/data/mnist_sample/train/3/10074.png'),Path('/root/.fastai/data/mnist_sample/train/3/10091.png')...]"
            ]
          },
          "metadata": {
            "tags": []
          },
          "execution_count": 7
        }
      ]
    },
    {
      "cell_type": "code",
      "metadata": {
        "id": "Uc9jnJzssM_y",
        "outputId": "04c88768-3e34-46a3-8bc4-701ad486727d",
        "colab": {
          "base_uri": "https://localhost:8080/",
          "height": 119
        }
      },
      "source": [
        "tensor_threes = [tensor(Image.open(i)) for i in threes]\n",
        "tensor_sevens = [tensor(Image.open(i)) for i in sevens]\n",
        "tensor_threes[1][4:10,4:10]"
      ],
      "execution_count": 8,
      "outputs": [
        {
          "output_type": "execute_result",
          "data": {
            "text/plain": [
              "tensor([[  0,   0,   0,   0,   0,   0],\n",
              "        [  0,   0,   0,   0,   0,  29],\n",
              "        [  0,   0,   0,  48, 166, 224],\n",
              "        [  0,  93, 244, 249, 253, 187],\n",
              "        [  0, 107, 253, 253, 230,  48],\n",
              "        [  0,   3,  20,  20,  15,   0]], dtype=torch.uint8)"
            ]
          },
          "metadata": {
            "tags": []
          },
          "execution_count": 8
        }
      ]
    },
    {
      "cell_type": "code",
      "metadata": {
        "id": "zqm3TRwWtE7a",
        "outputId": "bc109744-e58d-4d02-d7e5-3266753f4bc2",
        "colab": {
          "base_uri": "https://localhost:8080/",
          "height": 102
        }
      },
      "source": [
        "show_image(tensor_sevens[1])"
      ],
      "execution_count": 9,
      "outputs": [
        {
          "output_type": "execute_result",
          "data": {
            "text/plain": [
              "<matplotlib.axes._subplots.AxesSubplot at 0x7f7b01235a20>"
            ]
          },
          "metadata": {
            "tags": []
          },
          "execution_count": 9
        },
        {
          "output_type": "display_data",
          "data": {
            "image/png": "[encoded data removed]",
            "text/plain": [
              "<Figure size 72x72 with 1 Axes>"
            ]
          },
          "metadata": {
            "tags": [],
            "needs_background": "light"
          }
        }
      ]
    },
    {
      "cell_type": "code",
      "metadata": {
        "id": "84qRS0M1u6Ww"
      },
      "source": [
        "stacked_threes = torch.stack(tensor_threes).float()/255\n",
        "stacked_sevens = torch.stack(tensor_sevens).float()/255"
      ],
      "execution_count": 10,
      "outputs": []
    },
    {
      "cell_type": "code",
      "metadata": {
        "id": "Zfx8uXM3wmQ7",
        "outputId": "78c896db-8498-4202-9ee9-3786b1f5b151",
        "colab": {
          "base_uri": "https://localhost:8080/",
          "height": 102
        }
      },
      "source": [
        "show_image(stacked_threes.mean(0))"
      ],
      "execution_count": 11,
      "outputs": [
        {
          "output_type": "execute_result",
          "data": {
            "text/plain": [
              "<matplotlib.axes._subplots.AxesSubplot at 0x7f7b00467908>"
            ]
          },
          "metadata": {
            "tags": []
          },
          "execution_count": 11
        },
        {
          "output_type": "display_data",
          "data": {
            "image/png": "[encoded data removed]",
            "text/plain": [
              "<Figure size 72x72 with 1 Axes>"
            ]
          },
          "metadata": {
            "tags": [],
            "needs_background": "light"
          }
        }
      ]
    },
    {
      "cell_type": "code",
      "metadata": {
        "id": "tFDnZoS0_xUP",
        "outputId": "b3dfd3cf-5194-4f90-bc86-51970cb66771",
        "colab": {
          "base_uri": "https://localhost:8080/",
          "height": 34
        }
      },
      "source": [
        "abs_three_tomeanthree = (stacked_threes.mean(0) - stacked_threes[1]).abs().mean()\n",
        "rmse_three_tomeanthree = ((stacked_threes.mean(0) - stacked_threes[1])**2).mean().sqrt()\n",
        "abs_three_tomeanthree, rmse_three_tomeanthree"
      ],
      "execution_count": 12,
      "outputs": [
        {
          "output_type": "execute_result",
          "data": {
            "text/plain": [
              "(tensor(0.1114), tensor(0.2021))"
            ]
          },
          "metadata": {
            "tags": []
          },
          "execution_count": 12
        }
      ]
    },
    {
      "cell_type": "code",
      "metadata": {
        "id": "oTDyRW0ZBDkX",
        "outputId": "135fd35c-113f-48f3-a2b5-6366a0d560cc",
        "colab": {
          "base_uri": "https://localhost:8080/",
          "height": 34
        }
      },
      "source": [
        "abs_three_tomeanseven = (stacked_sevens.mean(0) - stacked_threes[1]).abs().mean()\n",
        "rmse_three_tomeanseven = ((stacked_sevens.mean(0) - stacked_threes[1])**2).mean().sqrt()\n",
        "abs_three_tomeanseven, rmse_three_tomeanseven"
      ],
      "execution_count": 13,
      "outputs": [
        {
          "output_type": "execute_result",
          "data": {
            "text/plain": [
              "(tensor(0.1586), tensor(0.3021))"
            ]
          },
          "metadata": {
            "tags": []
          },
          "execution_count": 13
        }
      ]
    },
    {
      "cell_type": "code",
      "metadata": {
        "id": "cHkYStU4Et4U",
        "outputId": "64398ec4-066d-46c9-d25c-6607c6beb382",
        "colab": {
          "base_uri": "https://localhost:8080/",
          "height": 34
        }
      },
      "source": [
        "#in pytorch\n",
        "\n",
        "abs_three_tomeanseven = F.l1_loss(stacked_sevens.mean(0), stacked_threes[1])\n",
        "rmse_three_tomeanseven = F.mse_loss(stacked_sevens.mean(0) , stacked_threes[1]).sqrt()\n",
        "abs_three_tomeanseven, rmse_three_tomeanseven"
      ],
      "execution_count": 14,
      "outputs": [
        {
          "output_type": "execute_result",
          "data": {
            "text/plain": [
              "(tensor(0.1586), tensor(0.3021))"
            ]
          },
          "metadata": {
            "tags": []
          },
          "execution_count": 14
        }
      ]
    },
    {
      "cell_type": "markdown",
      "metadata": {
        "id": "qTI3FvuvVdtm"
      },
      "source": [
        "## **Validation set**"
      ]
    },
    {
      "cell_type": "code",
      "metadata": {
        "id": "VX_e6CJiVdAC",
        "outputId": "acfba8b4-2029-4709-ed1c-1ae0a415f218",
        "colab": {
          "base_uri": "https://localhost:8080/",
          "height": 54
        }
      },
      "source": [
        "(path/'valid').ls()"
      ],
      "execution_count": 15,
      "outputs": [
        {
          "output_type": "execute_result",
          "data": {
            "text/plain": [
              "(#2) [Path('/root/.fastai/data/mnist_sample/valid/7'),Path('/root/.fastai/data/mnist_sample/valid/3')]"
            ]
          },
          "metadata": {
            "tags": []
          },
          "execution_count": 15
        }
      ]
    },
    {
      "cell_type": "code",
      "metadata": {
        "id": "9Am4zjR1GuTi",
        "outputId": "2917cb48-dba8-4abd-d100-e59d47385843",
        "colab": {
          "base_uri": "https://localhost:8080/",
          "height": 34
        }
      },
      "source": [
        "valid_three = torch.stack([tensor(Image.open(i)) for i in (path/'valid'/'3').ls()])\n",
        "valid_three = valid_three.float()/255\n",
        "valid_seven = torch.stack([tensor(Image.open(i)) for i in (path/'valid'/'7').ls()])\n",
        "valid_seven = valid_seven.float()/225\n",
        "valid_three.shape,valid_seven.shape"
      ],
      "execution_count": 16,
      "outputs": [
        {
          "output_type": "execute_result",
          "data": {
            "text/plain": [
              "(torch.Size([1010, 28, 28]), torch.Size([1028, 28, 28]))"
            ]
          },
          "metadata": {
            "tags": []
          },
          "execution_count": 16
        }
      ]
    },
    {
      "cell_type": "code",
      "metadata": {
        "id": "E-908Z3DWEOh",
        "outputId": "ad95ce04-ac39-488f-d858-3cc2b5ba2837",
        "colab": {
          "base_uri": "https://localhost:8080/",
          "height": 51
        }
      },
      "source": [
        "mean_seven = stacked_sevens.mean(0)\n",
        "mean_three = stacked_threes.mean(0)\n",
        "#without broadcasting\n",
        "(valid_seven - mean_three).abs().mean(), (valid_seven - mean_three).abs().mean().shape\n",
        "\n",
        "#with broadcasting\n",
        "(valid_seven - mean_three).abs().mean((-1,-2)), (valid_seven - mean_three).abs().mean((-1,-2)).shape"
      ],
      "execution_count": 17,
      "outputs": [
        {
          "output_type": "execute_result",
          "data": {
            "text/plain": [
              "(tensor([0.1634, 0.1872, 0.1801,  ..., 0.1995, 0.1434, 0.1712]),\n",
              " torch.Size([1028]))"
            ]
          },
          "metadata": {
            "tags": []
          },
          "execution_count": 17
        }
      ]
    },
    {
      "cell_type": "code",
      "metadata": {
        "id": "MuR-A3yjXxn5",
        "outputId": "2867a143-6762-42ad-db9e-0fc0023afb13",
        "colab": {
          "base_uri": "https://localhost:8080/",
          "height": 51
        }
      },
      "source": [
        "def mnist_l1_loss(a, b):\n",
        "  return (a - b).abs().mean((-1, -2))\n",
        "\n",
        "mnist_l1_loss(valid_seven, mean_three,), mnist_l1_loss(valid_seven, mean_three).shape"
      ],
      "execution_count": 18,
      "outputs": [
        {
          "output_type": "execute_result",
          "data": {
            "text/plain": [
              "(tensor([0.1634, 0.1872, 0.1801,  ..., 0.1995, 0.1434, 0.1712]),\n",
              " torch.Size([1028]))"
            ]
          },
          "metadata": {
            "tags": []
          },
          "execution_count": 18
        }
      ]
    },
    {
      "cell_type": "code",
      "metadata": {
        "id": "E53lo5xSYm0-",
        "outputId": "2eaa0a36-3843-4cb5-f718-4cf753139d31",
        "colab": {
          "base_uri": "https://localhost:8080/",
          "height": 51
        }
      },
      "source": [
        "def is_three(x):\n",
        "  mean_seven = stacked_sevens.mean(0)\n",
        "  mean_three = stacked_threes.mean(0)\n",
        "  return mnist_l1_loss(x, mean_three) < mnist_l1_loss(x, mean_seven)\n",
        "\n",
        "is_three(valid_three), is_three(valid_three).float()"
      ],
      "execution_count": 19,
      "outputs": [
        {
          "output_type": "execute_result",
          "data": {
            "text/plain": [
              "(tensor([True, True, True,  ..., True, True, True]),\n",
              " tensor([1., 1., 1.,  ..., 1., 1., 1.]))"
            ]
          },
          "metadata": {
            "tags": []
          },
          "execution_count": 19
        }
      ]
    },
    {
      "cell_type": "code",
      "metadata": {
        "id": "DPsx1bBgbkJf",
        "outputId": "178cd34f-81c3-4b98-a072-04df28533db5",
        "colab": {
          "base_uri": "https://localhost:8080/",
          "height": 34
        }
      },
      "source": [
        "accuracy_3 = is_three(valid_three).float().mean()\n",
        "accuracy_7 = (1 - is_three(valid_seven).float()).mean()\n",
        "accuracy_3, accuracy_7"
      ],
      "execution_count": 20,
      "outputs": [
        {
          "output_type": "execute_result",
          "data": {
            "text/plain": [
              "(tensor(0.9168), tensor(0.9864))"
            ]
          },
          "metadata": {
            "tags": []
          },
          "execution_count": 20
        }
      ]
    },
    {
      "cell_type": "markdown",
      "metadata": {
        "id": "HUPXLHpaZuWC"
      },
      "source": [
        "## **Gradient descent**"
      ]
    },
    {
      "cell_type": "code",
      "metadata": {
        "id": "pAVhC76VdBrW",
        "outputId": "c0480a4f-f006-47e8-c78c-6299a7b584f4",
        "colab": {
          "base_uri": "https://localhost:8080/",
          "height": 279
        }
      },
      "source": [
        "def f(x):\n",
        "  return x**2\n",
        "\n",
        "def plot_function(f, tx=None, ty=None, title=None, min=-2, max=2, figsize=(6,4)):\n",
        "    x = torch.linspace(min,max)\n",
        "    fig,ax = plt.subplots(figsize=figsize)\n",
        "    ax.plot(x,f(x))\n",
        "    if tx is not None: ax.set_xlabel(tx)\n",
        "    if ty is not None: ax.set_ylabel(ty)\n",
        "    if title is not None: ax.set_title(title)\n",
        "\n",
        "plot_function(f,'x', 'x**2')"
      ],
      "execution_count": 21,
      "outputs": [
        {
          "output_type": "display_data",
          "data": {
            "image/png": "[encoded data removed]",
            "text/plain": [
              "<Figure size 432x288 with 1 Axes>"
            ]
          },
          "metadata": {
            "tags": [],
            "needs_background": "light"
          }
        }
      ]
    },
    {
      "cell_type": "code",
      "metadata": {
        "id": "qHX2fKcYZ_qE",
        "outputId": "0faebab7-b867-4090-d52d-ff6546880f04",
        "colab": {
          "base_uri": "https://localhost:8080/",
          "height": 296
        }
      },
      "source": [
        "plot_function(f,'x', 'x**2')\n",
        "plt.scatter(-1.5, f(-1.5), color='red')"
      ],
      "execution_count": 22,
      "outputs": [
        {
          "output_type": "execute_result",
          "data": {
            "text/plain": [
              "<matplotlib.collections.PathCollection at 0x7f7b0010f240>"
            ]
          },
          "metadata": {
            "tags": []
          },
          "execution_count": 22
        },
        {
          "output_type": "display_data",
          "data": {
            "image/png": "[encoded data removed]",
            "text/plain": [
              "<Figure size 432x288 with 1 Axes>"
            ]
          },
          "metadata": {
            "tags": [],
            "needs_background": "light"
          }
        }
      ]
    },
    {
      "cell_type": "code",
      "metadata": {
        "id": "EPo6mcWIbqEm"
      },
      "source": [
        "def f(x):\n",
        "  return x**2"
      ],
      "execution_count": 23,
      "outputs": []
    },
    {
      "cell_type": "code",
      "metadata": {
        "id": "HmXJgyQ9cbbc",
        "outputId": "10c04503-3b5c-4989-cff9-5b1a1e5bff93",
        "colab": {
          "base_uri": "https://localhost:8080/",
          "height": 34
        }
      },
      "source": [
        "der_x_3 = tensor(3.).requires_grad_()\n",
        "der_x_3"
      ],
      "execution_count": 24,
      "outputs": [
        {
          "output_type": "execute_result",
          "data": {
            "text/plain": [
              "tensor(3., requires_grad=True)"
            ]
          },
          "metadata": {
            "tags": []
          },
          "execution_count": 24
        }
      ]
    },
    {
      "cell_type": "code",
      "metadata": {
        "id": "iUVIXuSHc0xP",
        "outputId": "ffa95f78-b800-49a1-eff3-3b86972a37a9",
        "colab": {
          "base_uri": "https://localhost:8080/",
          "height": 34
        }
      },
      "source": [
        "der_f = f(der_x_3)\n",
        "der_f"
      ],
      "execution_count": 25,
      "outputs": [
        {
          "output_type": "execute_result",
          "data": {
            "text/plain": [
              "tensor(9., grad_fn=<PowBackward0>)"
            ]
          },
          "metadata": {
            "tags": []
          },
          "execution_count": 25
        }
      ]
    },
    {
      "cell_type": "code",
      "metadata": {
        "id": "vEcP5_DTc5yO",
        "outputId": "01a4d642-5726-40f8-e77e-c6c6f3a82bc7",
        "colab": {
          "base_uri": "https://localhost:8080/",
          "height": 34
        }
      },
      "source": [
        "der_f.backward()\n",
        "der_x_3.grad"
      ],
      "execution_count": 26,
      "outputs": [
        {
          "output_type": "execute_result",
          "data": {
            "text/plain": [
              "tensor(6.)"
            ]
          },
          "metadata": {
            "tags": []
          },
          "execution_count": 26
        }
      ]
    },
    {
      "cell_type": "markdown",
      "metadata": {
        "id": "vrApM218ouv6"
      },
      "source": [
        "## **Roller coaster**"
      ]
    },
    {
      "cell_type": "code",
      "metadata": {
        "id": "pLpKA0fjeLP1",
        "outputId": "a716044b-d3e0-4675-f254-aa10a776fa25",
        "colab": {
          "base_uri": "https://localhost:8080/",
          "height": 51
        }
      },
      "source": [
        "time = torch.arange(20.)\n",
        "time"
      ],
      "execution_count": 27,
      "outputs": [
        {
          "output_type": "execute_result",
          "data": {
            "text/plain": [
              "tensor([ 0.,  1.,  2.,  3.,  4.,  5.,  6.,  7.,  8.,  9., 10., 11., 12., 13.,\n",
              "        14., 15., 16., 17., 18., 19.])"
            ]
          },
          "metadata": {
            "tags": []
          },
          "execution_count": 27
        }
      ]
    },
    {
      "cell_type": "code",
      "metadata": {
        "id": "GwSF7m6UpU63",
        "outputId": "b2e4ab05-64a6-40ae-cdb5-c8cd6d3b0373",
        "colab": {
          "base_uri": "https://localhost:8080/",
          "height": 68
        }
      },
      "source": [
        "#original speed\n",
        "speed = torch.randn(20)*3 + 0.75*(time-9.5)**2 + 1\n",
        "speed"
      ],
      "execution_count": 28,
      "outputs": [
        {
          "output_type": "execute_result",
          "data": {
            "text/plain": [
              "tensor([71.5652, 49.4377, 38.4897, 33.4548, 29.7308, 18.9246, 11.1622,  8.0513,\n",
              "         2.4024, -0.1592,  1.6864,  1.1261,  6.1391,  7.6554, 13.5359, 23.2908,\n",
              "        34.0356, 42.7079, 53.5426, 69.2375])"
            ]
          },
          "metadata": {
            "tags": []
          },
          "execution_count": 28
        }
      ]
    },
    {
      "cell_type": "code",
      "metadata": {
        "id": "uKhOj2Uepk6R",
        "outputId": "5c0db4c6-b631-4ebe-8f2f-cd6ec8f7aa97",
        "colab": {
          "base_uri": "https://localhost:8080/",
          "height": 282
        }
      },
      "source": [
        "plt.scatter(time, speed)"
      ],
      "execution_count": 29,
      "outputs": [
        {
          "output_type": "execute_result",
          "data": {
            "text/plain": [
              "<matplotlib.collections.PathCollection at 0x7f7b000ad860>"
            ]
          },
          "metadata": {
            "tags": []
          },
          "execution_count": 29
        },
        {
          "output_type": "display_data",
          "data": {
            "image/png": "[encoded data removed]",
            "text/plain": [
              "<Figure size 432x288 with 1 Axes>"
            ]
          },
          "metadata": {
            "tags": [],
            "needs_background": "light"
          }
        }
      ]
    },
    {
      "cell_type": "code",
      "metadata": {
        "id": "RmElq5lApssO"
      },
      "source": [
        "#the equation\n",
        "def f(t, params):\n",
        "  a,b,c = params\n",
        "  return a*(t**2) + (b*t) + c"
      ],
      "execution_count": 30,
      "outputs": []
    },
    {
      "cell_type": "code",
      "metadata": {
        "id": "bG201HezqOkq",
        "outputId": "38344903-7c12-4f4b-e7c4-c2d53571fcf2",
        "colab": {
          "base_uri": "https://localhost:8080/",
          "height": 34
        }
      },
      "source": [
        "#initi the weights\n",
        "params = torch.randn(3).requires_grad_()\n",
        "params"
      ],
      "execution_count": 31,
      "outputs": [
        {
          "output_type": "execute_result",
          "data": {
            "text/plain": [
              "tensor([ 1.4671, -0.4666, -1.2547], requires_grad=True)"
            ]
          },
          "metadata": {
            "tags": []
          },
          "execution_count": 31
        }
      ]
    },
    {
      "cell_type": "code",
      "metadata": {
        "id": "Q_B-lSnfqbjb"
      },
      "source": [
        "#define loss function\n",
        "def mse(preds, targets):\n",
        "  return ((targets - preds)**2).mean()"
      ],
      "execution_count": 32,
      "outputs": []
    },
    {
      "cell_type": "code",
      "metadata": {
        "id": "JgceL3ybrFVd",
        "outputId": "2f2b1e80-621e-4f60-f9aa-177bf4f1ad27",
        "colab": {
          "base_uri": "https://localhost:8080/",
          "height": 102
        }
      },
      "source": [
        "#check the weights with function and lose function\n",
        "preds = f(time, params)\n",
        "preds"
      ],
      "execution_count": 33,
      "outputs": [
        {
          "output_type": "execute_result",
          "data": {
            "text/plain": [
              "tensor([-1.2547e+00, -2.5421e-01,  3.6805e+00,  1.0549e+01,  2.0352e+01,\n",
              "         3.3090e+01,  4.8761e+01,  6.7367e+01,  8.8907e+01,  1.1338e+02,\n",
              "         1.4079e+02,  1.7113e+02,  2.0441e+02,  2.4062e+02,  2.7976e+02,\n",
              "         3.2184e+02,  3.6686e+02,  4.1480e+02,  4.6568e+02,  5.1950e+02],\n",
              "       grad_fn=<AddBackward0>)"
            ]
          },
          "metadata": {
            "tags": []
          },
          "execution_count": 33
        }
      ]
    },
    {
      "cell_type": "code",
      "metadata": {
        "id": "nt9D4l0QsUW5",
        "outputId": "1647acce-2bf5-475f-eb13-f6e236ee5666",
        "colab": {
          "base_uri": "https://localhost:8080/",
          "height": 34
        }
      },
      "source": [
        "loss = mse(preds, speed)\n",
        "loss "
      ],
      "execution_count": 34,
      "outputs": [
        {
          "output_type": "execute_result",
          "data": {
            "text/plain": [
              "tensor(47938.4023, grad_fn=<MeanBackward0>)"
            ]
          },
          "metadata": {
            "tags": []
          },
          "execution_count": 34
        }
      ]
    },
    {
      "cell_type": "code",
      "metadata": {
        "id": "wre5I789t9f3",
        "outputId": "a7ff3084-51ab-4c7e-83c7-7024f007061e",
        "colab": {
          "base_uri": "https://localhost:8080/",
          "height": 269
        }
      },
      "source": [
        "def show_pred(preds, plot=None):\n",
        "  if plot is None:\n",
        "    plot = plt.subplots()[1]\n",
        "    plot.scatter(time, speed)\n",
        "    plot.scatter(time, to_np(preds), color ='red')\n",
        "    plot.set_ylim(-300, 100)\n",
        "\n",
        "show_pred(preds)"
      ],
      "execution_count": 35,
      "outputs": [
        {
          "output_type": "display_data",
          "data": {
            "image/png": "[encoded data removed]",
            "text/plain": [
              "<Figure size 432x288 with 1 Axes>"
            ]
          },
          "metadata": {
            "tags": [],
            "needs_background": "light"
          }
        }
      ]
    },
    {
      "cell_type": "code",
      "metadata": {
        "id": "GchC7y-jvV9x",
        "outputId": "dd0a2c48-affd-407e-b0e6-164dc85aad34",
        "colab": {
          "base_uri": "https://localhost:8080/",
          "height": 34
        }
      },
      "source": [
        "loss.backward()\n",
        "params.grad"
      ],
      "execution_count": 36,
      "outputs": [
        {
          "output_type": "execute_result",
          "data": {
            "text/plain": [
              "tensor([72937.5234,  4669.8540,   299.3956])"
            ]
          },
          "metadata": {
            "tags": []
          },
          "execution_count": 36
        }
      ]
    },
    {
      "cell_type": "code",
      "metadata": {
        "id": "0A6qzG0HwKpJ"
      },
      "source": [
        " lr = 1e-5\n",
        "params.data -= lr *params.grad.data\n",
        "params.grad = None"
      ],
      "execution_count": 37,
      "outputs": []
    },
    {
      "cell_type": "code",
      "metadata": {
        "id": "Q9lS0cYZw0dy",
        "outputId": "edcbafe4-50ae-4ebd-f180-eee089fc8702",
        "colab": {
          "base_uri": "https://localhost:8080/",
          "height": 34
        }
      },
      "source": [
        "preds = f(time, params)\n",
        "mse(preds, speed)"
      ],
      "execution_count": 38,
      "outputs": [
        {
          "output_type": "execute_result",
          "data": {
            "text/plain": [
              "tensor(9610.9668, grad_fn=<MeanBackward0>)"
            ]
          },
          "metadata": {
            "tags": []
          },
          "execution_count": 38
        }
      ]
    },
    {
      "cell_type": "code",
      "metadata": {
        "id": "lA946aqqxG6n",
        "outputId": "fb94bf1c-4af9-4152-be58-f222ed704634",
        "colab": {
          "base_uri": "https://localhost:8080/",
          "height": 269
        }
      },
      "source": [
        "show_pred(preds)"
      ],
      "execution_count": 39,
      "outputs": [
        {
          "output_type": "display_data",
          "data": {
            "image/png": "[encoded data removed]",
            "text/plain": [
              "<Figure size 432x288 with 1 Axes>"
            ]
          },
          "metadata": {
            "tags": [],
            "needs_background": "light"
          }
        }
      ]
    },
    {
      "cell_type": "code",
      "metadata": {
        "id": "Oa7M_4Ck1D7s",
        "outputId": "c45e1b7d-c862-42e0-8fc1-719c36e86ab1",
        "colab": {
          "base_uri": "https://localhost:8080/",
          "height": 34
        }
      },
      "source": [
        "params"
      ],
      "execution_count": 40,
      "outputs": [
        {
          "output_type": "execute_result",
          "data": {
            "text/plain": [
              "tensor([ 0.7377, -0.5133, -1.2577], requires_grad=True)"
            ]
          },
          "metadata": {
            "tags": []
          },
          "execution_count": 40
        }
      ]
    },
    {
      "cell_type": "code",
      "metadata": {
        "id": "7QohxomH6j6C",
        "outputId": "c1e453cb-a8cc-45a4-a603-a1a2896da166",
        "colab": {
          "base_uri": "https://localhost:8080/",
          "height": 34
        }
      },
      "source": [
        "params.data"
      ],
      "execution_count": 41,
      "outputs": [
        {
          "output_type": "execute_result",
          "data": {
            "text/plain": [
              "tensor([ 0.7377, -0.5133, -1.2577])"
            ]
          },
          "metadata": {
            "tags": []
          },
          "execution_count": 41
        }
      ]
    },
    {
      "cell_type": "code",
      "metadata": {
        "id": "3IYCJDly6l20"
      },
      "source": [
        "def apply_steps(params, prt=True):\n",
        "  preds = f(time, params)\n",
        "  loss = mse(preds, speed)\n",
        "  loss.backward()\n",
        "  lr = 1e-5\n",
        "  params.data -= lr * params.grad.data\n",
        "  params.grad = None\n",
        "  if prt:\n",
        "    print(loss.item())\n",
        "  return preds"
      ],
      "execution_count": 42,
      "outputs": []
    },
    {
      "cell_type": "code",
      "metadata": {
        "id": "iH0tKncy8wtv",
        "outputId": "a6cd5613-47d5-498a-be04-09b172d37fa1",
        "colab": {
          "base_uri": "https://localhost:8080/",
          "height": 187
        }
      },
      "source": [
        "for i in range(10):\n",
        "  apply_steps(params)"
      ],
      "execution_count": 43,
      "outputs": [
        {
          "output_type": "stream",
          "text": [
            "9610.966796875\n",
            "2358.242431640625\n",
            "985.8006591796875\n",
            "726.0885009765625\n",
            "676.9382934570312\n",
            "667.633056640625\n",
            "665.8674926757812\n",
            "665.5289916992188\n",
            "665.4603271484375\n",
            "665.44287109375\n"
          ],
          "name": "stdout"
        }
      ]
    },
    {
      "cell_type": "markdown",
      "metadata": {
        "id": "1NpCrr5pEwbF"
      },
      "source": [
        "## **The MNIST Loss Function**"
      ]
    },
    {
      "cell_type": "code",
      "metadata": {
        "id": "GGDJIhMv_WN9",
        "outputId": "01ea2457-9c38-4248-e297-a2e00a3b53ed",
        "colab": {
          "base_uri": "https://localhost:8080/",
          "height": 68
        }
      },
      "source": [
        "# make the training into vector\n",
        "train_x = torch.cat([stacked_threes, stacked_sevens]).view(-1, 28*28)\n",
        "train_x.shape, stacked_threes.shape, stacked_sevens.shape"
      ],
      "execution_count": 44,
      "outputs": [
        {
          "output_type": "execute_result",
          "data": {
            "text/plain": [
              "(torch.Size([12396, 784]),\n",
              " torch.Size([6131, 28, 28]),\n",
              " torch.Size([6265, 28, 28]))"
            ]
          },
          "metadata": {
            "tags": []
          },
          "execution_count": 44
        }
      ]
    },
    {
      "cell_type": "code",
      "metadata": {
        "id": "1jNaUDS4Fc3p",
        "outputId": "55423721-c69a-4729-9b36-797182f1768a",
        "colab": {
          "base_uri": "https://localhost:8080/",
          "height": 34
        }
      },
      "source": [
        "train_y = tensor([1]*len(threes) + [0]*len(sevens)).unsqueeze(1)\n",
        "train_y.shape"
      ],
      "execution_count": 45,
      "outputs": [
        {
          "output_type": "execute_result",
          "data": {
            "text/plain": [
              "torch.Size([12396, 1])"
            ]
          },
          "metadata": {
            "tags": []
          },
          "execution_count": 45
        }
      ]
    },
    {
      "cell_type": "code",
      "metadata": {
        "id": "ShRiY-hLG1tC",
        "outputId": "7c8ab0c9-491f-4952-8184-34fc30fa62b2",
        "colab": {
          "base_uri": "https://localhost:8080/",
          "height": 136
        }
      },
      "source": [
        "train_y"
      ],
      "execution_count": 46,
      "outputs": [
        {
          "output_type": "execute_result",
          "data": {
            "text/plain": [
              "tensor([[1],\n",
              "        [1],\n",
              "        [1],\n",
              "        ...,\n",
              "        [0],\n",
              "        [0],\n",
              "        [0]])"
            ]
          },
          "metadata": {
            "tags": []
          },
          "execution_count": 46
        }
      ]
    },
    {
      "cell_type": "code",
      "metadata": {
        "id": "rNWznu4bHdtU",
        "outputId": "5a905848-6a96-4fbf-b296-e682a0ca77e4",
        "colab": {
          "base_uri": "https://localhost:8080/",
          "height": 34
        }
      },
      "source": [
        "dset = list(zip(train_x, train_y))\n",
        "x,y = dset[0]\n",
        "x.shape, y.shape"
      ],
      "execution_count": 47,
      "outputs": [
        {
          "output_type": "execute_result",
          "data": {
            "text/plain": [
              "(torch.Size([784]), torch.Size([1]))"
            ]
          },
          "metadata": {
            "tags": []
          },
          "execution_count": 47
        }
      ]
    },
    {
      "cell_type": "code",
      "metadata": {
        "id": "F3gNP2GSJhVn",
        "outputId": "ad9c4945-e5b7-46ad-f0d8-770b8a102370",
        "colab": {
          "base_uri": "https://localhost:8080/",
          "height": 34
        }
      },
      "source": [
        "valid_x = torch.cat([valid_three, valid_seven]).view(-1, 28*28)\n",
        "valid_y = tensor([1]*len(valid_three) + [0]*len(valid_seven)).unsqueeze(1)\n",
        "valid_dset = list(zip(valid_x, valid_y))\n",
        "valid_x.shape, valid_y.shape"
      ],
      "execution_count": 48,
      "outputs": [
        {
          "output_type": "execute_result",
          "data": {
            "text/plain": [
              "(torch.Size([2038, 784]), torch.Size([2038, 1]))"
            ]
          },
          "metadata": {
            "tags": []
          },
          "execution_count": 48
        }
      ]
    },
    {
      "cell_type": "code",
      "metadata": {
        "id": "es3z8HAdRDBR"
      },
      "source": [
        "def init(size, sd=1):\n",
        "  return (torch.randn(size)*sd).requires_grad_()"
      ],
      "execution_count": 49,
      "outputs": []
    },
    {
      "cell_type": "code",
      "metadata": {
        "id": "d0jIj0TgR6Zb",
        "outputId": "ed5224e6-4b38-4c28-a8e8-576982d25e20",
        "colab": {
          "base_uri": "https://localhost:8080/",
          "height": 34
        }
      },
      "source": [
        "weights = init((28*28, 1))\n",
        "bias = init(1)\n",
        "weights.shape, bias.shape"
      ],
      "execution_count": 50,
      "outputs": [
        {
          "output_type": "execute_result",
          "data": {
            "text/plain": [
              "(torch.Size([784, 1]), torch.Size([1]))"
            ]
          },
          "metadata": {
            "tags": []
          },
          "execution_count": 50
        }
      ]
    },
    {
      "cell_type": "code",
      "metadata": {
        "id": "edtuJf8-SVzA",
        "outputId": "637d0fc4-aa3d-47d3-8364-112c3839dafa",
        "colab": {
          "base_uri": "https://localhost:8080/",
          "height": 34
        }
      },
      "source": [
        "pred = (train_x[0]*weights.T).sum() + bias\n",
        "pred"
      ],
      "execution_count": 51,
      "outputs": [
        {
          "output_type": "execute_result",
          "data": {
            "text/plain": [
              "tensor([0.3409], grad_fn=<AddBackward0>)"
            ]
          },
          "metadata": {
            "tags": []
          },
          "execution_count": 51
        }
      ]
    },
    {
      "cell_type": "code",
      "metadata": {
        "id": "ky3EweOQTRaS"
      },
      "source": [
        "def linear(train_x):\n",
        "  return train_x @ weights + bias\n",
        "\n",
        "pred = linear(train_x)"
      ],
      "execution_count": 52,
      "outputs": []
    },
    {
      "cell_type": "code",
      "metadata": {
        "id": "bRrJ-iT2bqyI",
        "outputId": "fbee7c9e-447c-4583-ff74-35960e1afde3",
        "colab": {
          "base_uri": "https://localhost:8080/",
          "height": 34
        }
      },
      "source": [
        "pred.shape"
      ],
      "execution_count": 53,
      "outputs": [
        {
          "output_type": "execute_result",
          "data": {
            "text/plain": [
              "torch.Size([12396, 1])"
            ]
          },
          "metadata": {
            "tags": []
          },
          "execution_count": 53
        }
      ]
    },
    {
      "cell_type": "code",
      "metadata": {
        "id": "IjbWLuDwbyi2",
        "outputId": "2836093a-bc0d-42ac-ee57-64fc93d00349",
        "colab": {
          "base_uri": "https://localhost:8080/",
          "height": 136
        }
      },
      "source": [
        "pred"
      ],
      "execution_count": 54,
      "outputs": [
        {
          "output_type": "execute_result",
          "data": {
            "text/plain": [
              "tensor([[ 0.3409],\n",
              "        [-1.6562],\n",
              "        [-5.2095],\n",
              "        ...,\n",
              "        [-6.7848],\n",
              "        [ 4.1437],\n",
              "        [-7.9648]], grad_fn=<AddBackward0>)"
            ]
          },
          "metadata": {
            "tags": []
          },
          "execution_count": 54
        }
      ]
    },
    {
      "cell_type": "code",
      "metadata": {
        "id": "QfuodXT8cA-Q",
        "outputId": "e969f9bd-66b4-4324-ee9f-007f21b6638a",
        "colab": {
          "base_uri": "https://localhost:8080/",
          "height": 136
        }
      },
      "source": [
        "train_y"
      ],
      "execution_count": 55,
      "outputs": [
        {
          "output_type": "execute_result",
          "data": {
            "text/plain": [
              "tensor([[1],\n",
              "        [1],\n",
              "        [1],\n",
              "        ...,\n",
              "        [0],\n",
              "        [0],\n",
              "        [0]])"
            ]
          },
          "metadata": {
            "tags": []
          },
          "execution_count": 55
        }
      ]
    },
    {
      "cell_type": "code",
      "metadata": {
        "id": "lF4PrWk2cRXY",
        "outputId": "61b4898c-48e9-4ebd-b8af-73d478d6a316",
        "colab": {
          "base_uri": "https://localhost:8080/",
          "height": 34
        }
      },
      "source": [
        "pred[1]"
      ],
      "execution_count": 56,
      "outputs": [
        {
          "output_type": "execute_result",
          "data": {
            "text/plain": [
              "tensor([-1.6562], grad_fn=<SelectBackward>)"
            ]
          },
          "metadata": {
            "tags": []
          },
          "execution_count": 56
        }
      ]
    },
    {
      "cell_type": "code",
      "metadata": {
        "id": "J3DesLDHcqx_",
        "outputId": "66d7b19e-6525-4e27-f062-902a26774aba",
        "colab": {
          "base_uri": "https://localhost:8080/",
          "height": 34
        }
      },
      "source": [
        "train_y[1]"
      ],
      "execution_count": 57,
      "outputs": [
        {
          "output_type": "execute_result",
          "data": {
            "text/plain": [
              "tensor([1])"
            ]
          },
          "metadata": {
            "tags": []
          },
          "execution_count": 57
        }
      ]
    },
    {
      "cell_type": "code",
      "metadata": {
        "id": "PynHsXCbctTo",
        "outputId": "928c1ab4-7ee3-47bb-91e9-ada3b614a771",
        "colab": {
          "base_uri": "https://localhost:8080/",
          "height": 136
        }
      },
      "source": [
        "correct_3 = (pred>0).float() == train_y\n",
        "correct_3"
      ],
      "execution_count": 58,
      "outputs": [
        {
          "output_type": "execute_result",
          "data": {
            "text/plain": [
              "tensor([[ True],\n",
              "        [False],\n",
              "        [False],\n",
              "        ...,\n",
              "        [ True],\n",
              "        [False],\n",
              "        [ True]])"
            ]
          },
          "metadata": {
            "tags": []
          },
          "execution_count": 58
        }
      ]
    },
    {
      "cell_type": "code",
      "metadata": {
        "id": "h5CYW3u_c7-P",
        "outputId": "c0f47e69-b861-439c-c2be-d7c18ae364e3",
        "colab": {
          "base_uri": "https://localhost:8080/",
          "height": 136
        }
      },
      "source": [
        "correct_7 = (pred<0).float() == train_y\n",
        "correct_7"
      ],
      "execution_count": 59,
      "outputs": [
        {
          "output_type": "execute_result",
          "data": {
            "text/plain": [
              "tensor([[False],\n",
              "        [ True],\n",
              "        [ True],\n",
              "        ...,\n",
              "        [False],\n",
              "        [ True],\n",
              "        [False]])"
            ]
          },
          "metadata": {
            "tags": []
          },
          "execution_count": 59
        }
      ]
    },
    {
      "cell_type": "code",
      "metadata": {
        "id": "VmujqY3XdLgN",
        "outputId": "131822c4-a566-4bd7-872a-a05047e05e0e",
        "colab": {
          "base_uri": "https://localhost:8080/",
          "height": 34
        }
      },
      "source": [
        "correct_3.float().mean().item()"
      ],
      "execution_count": 60,
      "outputs": [
        {
          "output_type": "execute_result",
          "data": {
            "text/plain": [
              "0.5048402547836304"
            ]
          },
          "metadata": {
            "tags": []
          },
          "execution_count": 60
        }
      ]
    },
    {
      "cell_type": "code",
      "metadata": {
        "id": "gCvaV8gidfWp",
        "outputId": "4a06d869-d04d-4c35-f038-e5bf6c8cc563",
        "colab": {
          "base_uri": "https://localhost:8080/",
          "height": 34
        }
      },
      "source": [
        "correct_7.float().mean().item()"
      ],
      "execution_count": 61,
      "outputs": [
        {
          "output_type": "execute_result",
          "data": {
            "text/plain": [
              "0.49515971541404724"
            ]
          },
          "metadata": {
            "tags": []
          },
          "execution_count": 61
        }
      ]
    },
    {
      "cell_type": "code",
      "metadata": {
        "id": "DTOtCXCbd2DM"
      },
      "source": [
        "#This is the same as running the list comprehension \n",
        "#[b[i] if a[i] else c[i] for i in range(len(a))], \n",
        "#except it works on tensors, at C/CUDA speed. \n",
        "def mnist_loss(train_y, pred):\n",
        "  pred = sigmoid(pred)\n",
        "  loss = torch.where(train_y == 1, 1 - pred, pred)"
      ],
      "execution_count": 62,
      "outputs": []
    },
    {
      "cell_type": "code",
      "metadata": {
        "id": "sGOMsZ77N3M8"
      },
      "source": [
        "# 1- init the weights, bias \n",
        "weights = init((28*28, 1))\n",
        "bias = init(1)\n",
        "\n",
        "# 2- lets define model \n",
        "def linear(train_x):\n",
        "  params = weights, bias\n",
        "  return (train_x @ weights) + bias\n",
        "\n",
        "# 3- loss function:\n",
        "def mnist_loss(pred, train_y):\n",
        "  pred = pred.sigmoid()\n",
        "  return torch.where(train_y ==1, 1-pred, pred).mean()\n",
        "\n",
        "# 4- create dataloader for tain_dset and valid_dset\n",
        "dl_train = DataLoader(dset, batch_size=256)\n",
        "dl_valid = DataLoader(valid_dset, batch_size=256)\n",
        "\n",
        "# 5- calculate gardient\n",
        "def calcu_gradient(model, train_x, train_y):\n",
        "  pred = model(train_x)\n",
        "  loss = mnist_loss(pred, train_y)\n",
        "  loss.backward()\n",
        "\n",
        "# 6- added zero grad to rest , weights.grad.zero_(), bias.grad.zero_() in function\n",
        "\n",
        "def train_epoch(model, lr, params, dset):\n",
        "  for train_x, train_y in dset:\n",
        "    calcu_gradient(model, train_x, train_y)\n",
        "    for p in params:\n",
        "      p.data -= p.grad *lr\n",
        "      p.grad.zero_()\n",
        "\n",
        "# 7- define accuracy function\n",
        "def mnist_accuracy(train_y, pred):\n",
        "  pred = linear(train_x)\n",
        "  pred = pred.sigmoid()\n",
        "  correct = (pred>0.5) == train_y\n",
        "  return correct.float().mean()\n",
        "\n",
        "# 8- define vlaidation function\n",
        "def validate_epch(model, valid_dset):\n",
        "  acc = [mnist_accuracy(yb ,linear(xb)) for xb, yb in valid_dset]\n",
        "  return round(torch.stack(acc).mean().item(),4)\n"
      ],
      "execution_count": 75,
      "outputs": []
    },
    {
      "cell_type": "code",
      "metadata": {
        "id": "5MoZUBGQkpUP"
      },
      "source": [
        "params = weights, bias\n",
        "train_epoch(linear, 1, params, dset)"
      ],
      "execution_count": 76,
      "outputs": []
    },
    {
      "cell_type": "code",
      "metadata": {
        "id": "oHfAgvcwN3j3",
        "outputId": "be8666c5-545f-491e-ceb9-27d86d326fbc",
        "colab": {
          "base_uri": "https://localhost:8080/",
          "height": 357
        }
      },
      "source": [
        "params = weights, bias\n",
        "for i in range(20):\n",
        "  train_epoch(linear, 0.01, params, dset[:20])\n",
        "  print(validate_epch(linear, dset[:20]), sep=\" \")\n"
      ],
      "execution_count": 83,
      "outputs": [
        {
          "output_type": "stream",
          "text": [
            "0.4101\n",
            "0.4105\n",
            "0.4106\n",
            "0.411\n",
            "0.4113\n",
            "0.4114\n",
            "0.4116\n",
            "0.412\n",
            "0.4121\n",
            "0.4126\n",
            "0.4131\n",
            "0.414\n",
            "0.4146\n",
            "0.4151\n",
            "0.4155\n",
            "0.4164\n",
            "0.4172\n",
            "0.4179\n",
            "0.4188\n",
            "0.4201\n"
          ],
          "name": "stdout"
        }
      ]
    },
    {
      "cell_type": "code",
      "metadata": {
        "id": "FhTBE_d6N3xk"
      },
      "source": [
        "train_y[:4]"
      ],
      "execution_count": null,
      "outputs": []
    },
    {
      "cell_type": "code",
      "metadata": {
        "id": "ZZSE0XqwN4EC"
      },
      "source": [
        "train_x[:4].shape"
      ],
      "execution_count": null,
      "outputs": []
    },
    {
      "cell_type": "code",
      "metadata": {
        "id": "rj2My68HVonO"
      },
      "source": [
        ""
      ],
      "execution_count": null,
      "outputs": []
    }
  ]
}