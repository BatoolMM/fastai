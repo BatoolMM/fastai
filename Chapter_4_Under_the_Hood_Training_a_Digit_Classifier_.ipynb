{
  "nbformat": 4,
  "nbformat_minor": 0,
  "metadata": {
    "colab": {
      "name": "Chapter 4. Under the Hood: Training a Digit Classifier .ipynb",
      "provenance": [],
      "authorship_tag": "ABX9TyPjPQS6cu84wzEfgmzzI5pP",
      "include_colab_link": true
    },
    "kernelspec": {
      "name": "python3",
      "display_name": "Python 3"
    },
    "accelerator": "GPU"
  },
  "cells": [
    {
      "cell_type": "markdown",
      "metadata": {
        "id": "view-in-github",
        "colab_type": "text"
      },
      "source": [
        "<a href=\"https://colab.research.google.com/github/BatoolMM/fastai/blob/master/Chapter_4_Under_the_Hood_Training_a_Digit_Classifier_.ipynb\" target=\"_parent\"><img src=\"https://colab.research.google.com/assets/colab-badge.svg\" alt=\"Open In Colab\"/></a>"
      ]
    },
    {
      "cell_type": "markdown",
      "metadata": {
        "id": "4jY9bfHsr8J2"
      },
      "source": [
        "# **Chapter 4. Under the Hood: Training a Digit Classifier**"
      ]
    },
    {
      "cell_type": "code",
      "metadata": {
        "id": "XIOrwrPaMSgu",
        "outputId": "57f421a6-f555-4976-8c59-5d567eb909a8",
        "colab": {
          "base_uri": "https://localhost:8080/",
          "height": 836
        }
      },
      "source": [
        "!pip install -Uqq fastbook\n",
        "!pip install fastcore\n",
        "!pip install fastai\n",
        "!pip install utils"
      ],
      "execution_count": 1,
      "outputs": [
        {
          "output_type": "stream",
          "text": [
            "Requirement already satisfied: fastcore in /usr/local/lib/python3.6/dist-packages (1.2.0)\n",
            "Requirement already satisfied: packaging in /usr/local/lib/python3.6/dist-packages (from fastcore) (20.4)\n",
            "Requirement already satisfied: pip in /usr/local/lib/python3.6/dist-packages (from fastcore) (19.3.1)\n",
            "Requirement already satisfied: six in /usr/local/lib/python3.6/dist-packages (from packaging->fastcore) (1.15.0)\n",
            "Requirement already satisfied: pyparsing>=2.0.2 in /usr/local/lib/python3.6/dist-packages (from packaging->fastcore) (2.4.7)\n",
            "Requirement already satisfied: fastai in /usr/local/lib/python3.6/dist-packages (2.0.16)\n",
            "Requirement already satisfied: pillow in /usr/local/lib/python3.6/dist-packages (from fastai) (7.0.0)\n",
            "Requirement already satisfied: fastcore>=1.1.0 in /usr/local/lib/python3.6/dist-packages (from fastai) (1.2.0)\n",
            "Requirement already satisfied: packaging in /usr/local/lib/python3.6/dist-packages (from fastai) (20.4)\n",
            "Requirement already satisfied: requests in /usr/local/lib/python3.6/dist-packages (from fastai) (2.23.0)\n",
            "Requirement already satisfied: scikit-learn in /usr/local/lib/python3.6/dist-packages (from fastai) (0.22.2.post1)\n",
            "Requirement already satisfied: pandas in /usr/local/lib/python3.6/dist-packages (from fastai) (1.1.2)\n",
            "Requirement already satisfied: torch>=1.6.0 in /usr/local/lib/python3.6/dist-packages (from fastai) (1.6.0+cu101)\n",
            "Requirement already satisfied: torchvision>=0.7 in /usr/local/lib/python3.6/dist-packages (from fastai) (0.7.0+cu101)\n",
            "Requirement already satisfied: matplotlib in /usr/local/lib/python3.6/dist-packages (from fastai) (3.2.2)\n",
            "Requirement already satisfied: pyyaml in /usr/local/lib/python3.6/dist-packages (from fastai) (3.13)\n",
            "Requirement already satisfied: scipy in /usr/local/lib/python3.6/dist-packages (from fastai) (1.4.1)\n",
            "Requirement already satisfied: pip in /usr/local/lib/python3.6/dist-packages (from fastai) (19.3.1)\n",
            "Requirement already satisfied: fastprogress>=0.2.4 in /usr/local/lib/python3.6/dist-packages (from fastai) (1.0.0)\n",
            "Requirement already satisfied: spacy in /usr/local/lib/python3.6/dist-packages (from fastai) (2.2.4)\n",
            "Requirement already satisfied: six in /usr/local/lib/python3.6/dist-packages (from packaging->fastai) (1.15.0)\n",
            "Requirement already satisfied: pyparsing>=2.0.2 in /usr/local/lib/python3.6/dist-packages (from packaging->fastai) (2.4.7)\n",
            "Requirement already satisfied: urllib3!=1.25.0,!=1.25.1,<1.26,>=1.21.1 in /usr/local/lib/python3.6/dist-packages (from requests->fastai) (1.24.3)\n",
            "Requirement already satisfied: chardet<4,>=3.0.2 in /usr/local/lib/python3.6/dist-packages (from requests->fastai) (3.0.4)\n",
            "Requirement already satisfied: certifi>=2017.4.17 in /usr/local/lib/python3.6/dist-packages (from requests->fastai) (2020.6.20)\n",
            "Requirement already satisfied: idna<3,>=2.5 in /usr/local/lib/python3.6/dist-packages (from requests->fastai) (2.10)\n",
            "Requirement already satisfied: numpy>=1.11.0 in /usr/local/lib/python3.6/dist-packages (from scikit-learn->fastai) (1.18.5)\n",
            "Requirement already satisfied: joblib>=0.11 in /usr/local/lib/python3.6/dist-packages (from scikit-learn->fastai) (0.16.0)\n",
            "Requirement already satisfied: python-dateutil>=2.7.3 in /usr/local/lib/python3.6/dist-packages (from pandas->fastai) (2.8.1)\n",
            "Requirement already satisfied: pytz>=2017.2 in /usr/local/lib/python3.6/dist-packages (from pandas->fastai) (2018.9)\n",
            "Requirement already satisfied: future in /usr/local/lib/python3.6/dist-packages (from torch>=1.6.0->fastai) (0.16.0)\n",
            "Requirement already satisfied: kiwisolver>=1.0.1 in /usr/local/lib/python3.6/dist-packages (from matplotlib->fastai) (1.2.0)\n",
            "Requirement already satisfied: cycler>=0.10 in /usr/local/lib/python3.6/dist-packages (from matplotlib->fastai) (0.10.0)\n",
            "Requirement already satisfied: blis<0.5.0,>=0.4.0 in /usr/local/lib/python3.6/dist-packages (from spacy->fastai) (0.4.1)\n",
            "Requirement already satisfied: thinc==7.4.0 in /usr/local/lib/python3.6/dist-packages (from spacy->fastai) (7.4.0)\n",
            "Requirement already satisfied: wasabi<1.1.0,>=0.4.0 in /usr/local/lib/python3.6/dist-packages (from spacy->fastai) (0.8.0)\n",
            "Requirement already satisfied: plac<1.2.0,>=0.9.6 in /usr/local/lib/python3.6/dist-packages (from spacy->fastai) (1.1.3)\n",
            "Requirement already satisfied: preshed<3.1.0,>=3.0.2 in /usr/local/lib/python3.6/dist-packages (from spacy->fastai) (3.0.2)\n",
            "Requirement already satisfied: srsly<1.1.0,>=1.0.2 in /usr/local/lib/python3.6/dist-packages (from spacy->fastai) (1.0.2)\n",
            "Requirement already satisfied: catalogue<1.1.0,>=0.0.7 in /usr/local/lib/python3.6/dist-packages (from spacy->fastai) (1.0.0)\n",
            "Requirement already satisfied: murmurhash<1.1.0,>=0.28.0 in /usr/local/lib/python3.6/dist-packages (from spacy->fastai) (1.0.2)\n",
            "Requirement already satisfied: setuptools in /usr/local/lib/python3.6/dist-packages (from spacy->fastai) (50.3.0)\n",
            "Requirement already satisfied: tqdm<5.0.0,>=4.38.0 in /usr/local/lib/python3.6/dist-packages (from spacy->fastai) (4.41.1)\n",
            "Requirement already satisfied: cymem<2.1.0,>=2.0.2 in /usr/local/lib/python3.6/dist-packages (from spacy->fastai) (2.0.3)\n",
            "Requirement already satisfied: importlib-metadata>=0.20; python_version < \"3.8\" in /usr/local/lib/python3.6/dist-packages (from catalogue<1.1.0,>=0.0.7->spacy->fastai) (2.0.0)\n",
            "Requirement already satisfied: zipp>=0.5 in /usr/local/lib/python3.6/dist-packages (from importlib-metadata>=0.20; python_version < \"3.8\"->catalogue<1.1.0,>=0.0.7->spacy->fastai) (3.2.0)\n",
            "Requirement already satisfied: utils in /usr/local/lib/python3.6/dist-packages (1.0.1)\n"
          ],
          "name": "stdout"
        }
      ]
    },
    {
      "cell_type": "code",
      "metadata": {
        "id": "8fTSPY9QMW-U"
      },
      "source": [
        "from utils import *\n",
        "from fastai.vision.all import *\n",
        "from fastai.vision.widgets import ImageClassifierCleaner"
      ],
      "execution_count": 2,
      "outputs": []
    },
    {
      "cell_type": "code",
      "metadata": {
        "id": "v9J8qOwNMv-N"
      },
      "source": [
        "?download_images"
      ],
      "execution_count": 3,
      "outputs": []
    },
    {
      "cell_type": "code",
      "metadata": {
        "id": "AiSIbvFHNW13"
      },
      "source": [
        "path = untar_data(URLs.MNIST_SAMPLE)"
      ],
      "execution_count": 4,
      "outputs": []
    },
    {
      "cell_type": "code",
      "metadata": {
        "id": "VXMpM0L_rzUt",
        "outputId": "4cc8835f-2e88-44dd-8f59-ede532487193",
        "colab": {
          "base_uri": "https://localhost:8080/",
          "height": 54
        }
      },
      "source": [
        "path.ls()"
      ],
      "execution_count": 5,
      "outputs": [
        {
          "output_type": "execute_result",
          "data": {
            "text/plain": [
              "(#3) [Path('/root/.fastai/data/mnist_sample/valid'),Path('/root/.fastai/data/mnist_sample/train'),Path('/root/.fastai/data/mnist_sample/labels.csv')]"
            ]
          },
          "metadata": {
            "tags": []
          },
          "execution_count": 5
        }
      ]
    },
    {
      "cell_type": "code",
      "metadata": {
        "id": "Vi3I9qVvr052",
        "outputId": "bddf36df-3a7f-4a18-f2e4-57ae8f93b1e3",
        "colab": {
          "base_uri": "https://localhost:8080/",
          "height": 54
        }
      },
      "source": [
        "(path/'train'/'7').ls()"
      ],
      "execution_count": 6,
      "outputs": [
        {
          "output_type": "execute_result",
          "data": {
            "text/plain": [
              "(#6265) [Path('/root/.fastai/data/mnist_sample/train/7/33681.png'),Path('/root/.fastai/data/mnist_sample/train/7/40214.png'),Path('/root/.fastai/data/mnist_sample/train/7/3788.png'),Path('/root/.fastai/data/mnist_sample/train/7/42544.png'),Path('/root/.fastai/data/mnist_sample/train/7/47325.png'),Path('/root/.fastai/data/mnist_sample/train/7/6147.png'),Path('/root/.fastai/data/mnist_sample/train/7/617.png'),Path('/root/.fastai/data/mnist_sample/train/7/51138.png'),Path('/root/.fastai/data/mnist_sample/train/7/56567.png'),Path('/root/.fastai/data/mnist_sample/train/7/37835.png')...]"
            ]
          },
          "metadata": {
            "tags": []
          },
          "execution_count": 6
        }
      ]
    },
    {
      "cell_type": "code",
      "metadata": {
        "id": "q4JQGp7Rtgi7",
        "outputId": "eed8730b-3064-472e-c0d6-92db27a5e586",
        "colab": {
          "base_uri": "https://localhost:8080/",
          "height": 54
        }
      },
      "source": [
        "threes = (path/'train'/'3').ls().sorted()\n",
        "sevens = (path/'train'/'7').ls().sorted()\n",
        "threes"
      ],
      "execution_count": 7,
      "outputs": [
        {
          "output_type": "execute_result",
          "data": {
            "text/plain": [
              "(#6131) [Path('/root/.fastai/data/mnist_sample/train/3/10.png'),Path('/root/.fastai/data/mnist_sample/train/3/10000.png'),Path('/root/.fastai/data/mnist_sample/train/3/10011.png'),Path('/root/.fastai/data/mnist_sample/train/3/10031.png'),Path('/root/.fastai/data/mnist_sample/train/3/10034.png'),Path('/root/.fastai/data/mnist_sample/train/3/10042.png'),Path('/root/.fastai/data/mnist_sample/train/3/10052.png'),Path('/root/.fastai/data/mnist_sample/train/3/1007.png'),Path('/root/.fastai/data/mnist_sample/train/3/10074.png'),Path('/root/.fastai/data/mnist_sample/train/3/10091.png')...]"
            ]
          },
          "metadata": {
            "tags": []
          },
          "execution_count": 7
        }
      ]
    },
    {
      "cell_type": "code",
      "metadata": {
        "id": "Uc9jnJzssM_y",
        "outputId": "64232152-1283-4baa-f980-be053450ddb7",
        "colab": {
          "base_uri": "https://localhost:8080/",
          "height": 119
        }
      },
      "source": [
        "tensor_threes = [tensor(Image.open(i)) for i in threes]\n",
        "tensor_sevens = [tensor(Image.open(i)) for i in sevens]\n",
        "tensor_threes[1][4:10,4:10]"
      ],
      "execution_count": 8,
      "outputs": [
        {
          "output_type": "execute_result",
          "data": {
            "text/plain": [
              "tensor([[  0,   0,   0,   0,   0,   0],\n",
              "        [  0,   0,   0,   0,   0,  29],\n",
              "        [  0,   0,   0,  48, 166, 224],\n",
              "        [  0,  93, 244, 249, 253, 187],\n",
              "        [  0, 107, 253, 253, 230,  48],\n",
              "        [  0,   3,  20,  20,  15,   0]], dtype=torch.uint8)"
            ]
          },
          "metadata": {
            "tags": []
          },
          "execution_count": 8
        }
      ]
    },
    {
      "cell_type": "code",
      "metadata": {
        "id": "zqm3TRwWtE7a",
        "outputId": "257fbc29-d881-4206-b19d-8d38d0e5b4b1",
        "colab": {
          "base_uri": "https://localhost:8080/",
          "height": 102
        }
      },
      "source": [
        "show_image(tensor_sevens[1])"
      ],
      "execution_count": 9,
      "outputs": [
        {
          "output_type": "execute_result",
          "data": {
            "text/plain": [
              "<matplotlib.axes._subplots.AxesSubplot at 0x7f1693d3e908>"
            ]
          },
          "metadata": {
            "tags": []
          },
          "execution_count": 9
        },
        {
          "output_type": "display_data",
          "data": {
            "image/png": "[encoded data removed]",
            "text/plain": [
              "<Figure size 72x72 with 1 Axes>"
            ]
          },
          "metadata": {
            "tags": [],
            "needs_background": "light"
          }
        }
      ]
    },
    {
      "cell_type": "code",
      "metadata": {
        "id": "84qRS0M1u6Ww"
      },
      "source": [
        "stacked_threes = torch.stack(tensor_threes).float()/255\n",
        "stacked_sevens = torch.stack(tensor_sevens).float()/255"
      ],
      "execution_count": 10,
      "outputs": []
    },
    {
      "cell_type": "code",
      "metadata": {
        "id": "Zfx8uXM3wmQ7",
        "outputId": "e809eda1-f774-429a-fc47-f25c507e79e8",
        "colab": {
          "base_uri": "https://localhost:8080/",
          "height": 102
        }
      },
      "source": [
        "show_image(stacked_threes.mean(0))"
      ],
      "execution_count": 11,
      "outputs": [
        {
          "output_type": "execute_result",
          "data": {
            "text/plain": [
              "<matplotlib.axes._subplots.AxesSubplot at 0x7f1693418fd0>"
            ]
          },
          "metadata": {
            "tags": []
          },
          "execution_count": 11
        },
        {
          "output_type": "display_data",
          "data": {
            "image/png": "[encoded data removed]",
            "text/plain": [
              "<Figure size 72x72 with 1 Axes>"
            ]
          },
          "metadata": {
            "tags": [],
            "needs_background": "light"
          }
        }
      ]
    },
    {
      "cell_type": "code",
      "metadata": {
        "id": "tFDnZoS0_xUP",
        "outputId": "433a75df-74e7-404a-ceec-6aab28bfb138",
        "colab": {
          "base_uri": "https://localhost:8080/",
          "height": 34
        }
      },
      "source": [
        "abs_three_tomeanthree = (stacked_threes.mean(0) - stacked_threes[1]).abs().mean()\n",
        "rmse_three_tomeanthree = ((stacked_threes.mean(0) - stacked_threes[1])**2).mean().sqrt()\n",
        "abs_three_tomeanthree, rmse_three_tomeanthree"
      ],
      "execution_count": 12,
      "outputs": [
        {
          "output_type": "execute_result",
          "data": {
            "text/plain": [
              "(tensor(0.1114), tensor(0.2021))"
            ]
          },
          "metadata": {
            "tags": []
          },
          "execution_count": 12
        }
      ]
    },
    {
      "cell_type": "code",
      "metadata": {
        "id": "oTDyRW0ZBDkX",
        "outputId": "6671edff-3ece-4fbb-dda6-9ae63ea81e93",
        "colab": {
          "base_uri": "https://localhost:8080/",
          "height": 34
        }
      },
      "source": [
        "abs_three_tomeanseven = (stacked_sevens.mean(0) - stacked_threes[1]).abs().mean()\n",
        "rmse_three_tomeanseven = ((stacked_sevens.mean(0) - stacked_threes[1])**2).mean().sqrt()\n",
        "abs_three_tomeanseven, rmse_three_tomeanseven"
      ],
      "execution_count": 13,
      "outputs": [
        {
          "output_type": "execute_result",
          "data": {
            "text/plain": [
              "(tensor(0.1586), tensor(0.3021))"
            ]
          },
          "metadata": {
            "tags": []
          },
          "execution_count": 13
        }
      ]
    },
    {
      "cell_type": "code",
      "metadata": {
        "id": "cHkYStU4Et4U",
        "outputId": "2a74cc17-e941-453a-d5a3-709e1f38b80e",
        "colab": {
          "base_uri": "https://localhost:8080/",
          "height": 34
        }
      },
      "source": [
        "#in pytorch\n",
        "\n",
        "abs_three_tomeanseven = F.l1_loss(stacked_sevens.mean(0), stacked_threes[1])\n",
        "rmse_three_tomeanseven = F.mse_loss(stacked_sevens.mean(0) , stacked_threes[1]).sqrt()\n",
        "abs_three_tomeanseven, rmse_three_tomeanseven"
      ],
      "execution_count": 14,
      "outputs": [
        {
          "output_type": "execute_result",
          "data": {
            "text/plain": [
              "(tensor(0.1586), tensor(0.3021))"
            ]
          },
          "metadata": {
            "tags": []
          },
          "execution_count": 14
        }
      ]
    },
    {
      "cell_type": "markdown",
      "metadata": {
        "id": "qTI3FvuvVdtm"
      },
      "source": [
        "## **Validation set**"
      ]
    },
    {
      "cell_type": "code",
      "metadata": {
        "id": "VX_e6CJiVdAC",
        "outputId": "55600140-81a4-49c8-d3e2-31962bd417f0",
        "colab": {
          "base_uri": "https://localhost:8080/",
          "height": 54
        }
      },
      "source": [
        "(path/'valid').ls()"
      ],
      "execution_count": 15,
      "outputs": [
        {
          "output_type": "execute_result",
          "data": {
            "text/plain": [
              "(#2) [Path('/root/.fastai/data/mnist_sample/valid/7'),Path('/root/.fastai/data/mnist_sample/valid/3')]"
            ]
          },
          "metadata": {
            "tags": []
          },
          "execution_count": 15
        }
      ]
    },
    {
      "cell_type": "code",
      "metadata": {
        "id": "9Am4zjR1GuTi",
        "outputId": "f15d652d-4752-493f-db82-58a94b95eb1d",
        "colab": {
          "base_uri": "https://localhost:8080/",
          "height": 34
        }
      },
      "source": [
        "valid_three = torch.stack([tensor(Image.open(i)) for i in (path/'valid'/'3').ls()])\n",
        "valid_three = valid_three.float()/255\n",
        "valid_seven = torch.stack([tensor(Image.open(i)) for i in (path/'valid'/'7').ls()])\n",
        "valid_seven = valid_seven.float()/225\n",
        "valid_three.shape,valid_seven.shape"
      ],
      "execution_count": 16,
      "outputs": [
        {
          "output_type": "execute_result",
          "data": {
            "text/plain": [
              "(torch.Size([1010, 28, 28]), torch.Size([1028, 28, 28]))"
            ]
          },
          "metadata": {
            "tags": []
          },
          "execution_count": 16
        }
      ]
    },
    {
      "cell_type": "code",
      "metadata": {
        "id": "E-908Z3DWEOh",
        "outputId": "ef90925d-8e51-4ee2-9777-1a635e5f4785",
        "colab": {
          "base_uri": "https://localhost:8080/",
          "height": 51
        }
      },
      "source": [
        "mean_seven = stacked_sevens.mean(0)\n",
        "mean_three = stacked_threes.mean(0)\n",
        "#without broadcasting\n",
        "(valid_seven - mean_three).abs().mean(), (valid_seven - mean_three).abs().mean().shape\n",
        "\n",
        "#with broadcasting\n",
        "(valid_seven - mean_three).abs().mean((-1,-2)), (valid_seven - mean_three).abs().mean((-1,-2)).shape"
      ],
      "execution_count": 17,
      "outputs": [
        {
          "output_type": "execute_result",
          "data": {
            "text/plain": [
              "(tensor([0.1634, 0.1872, 0.1801,  ..., 0.1995, 0.1434, 0.1712]),\n",
              " torch.Size([1028]))"
            ]
          },
          "metadata": {
            "tags": []
          },
          "execution_count": 17
        }
      ]
    },
    {
      "cell_type": "code",
      "metadata": {
        "id": "MuR-A3yjXxn5",
        "outputId": "03695695-5f81-4ebe-a547-72365039af46",
        "colab": {
          "base_uri": "https://localhost:8080/",
          "height": 51
        }
      },
      "source": [
        "def mnist_l1_loss(a, b):\n",
        "  return (a - b).abs().mean((-1, -2))\n",
        "\n",
        "mnist_l1_loss(valid_seven, mean_three,), mnist_l1_loss(valid_seven, mean_three).shape"
      ],
      "execution_count": 18,
      "outputs": [
        {
          "output_type": "execute_result",
          "data": {
            "text/plain": [
              "(tensor([0.1634, 0.1872, 0.1801,  ..., 0.1995, 0.1434, 0.1712]),\n",
              " torch.Size([1028]))"
            ]
          },
          "metadata": {
            "tags": []
          },
          "execution_count": 18
        }
      ]
    },
    {
      "cell_type": "code",
      "metadata": {
        "id": "E53lo5xSYm0-",
        "outputId": "bc760266-60c8-429f-bc40-93d54f025593",
        "colab": {
          "base_uri": "https://localhost:8080/",
          "height": 51
        }
      },
      "source": [
        "def is_three(x):\n",
        "  mean_seven = stacked_sevens.mean(0)\n",
        "  mean_three = stacked_threes.mean(0)\n",
        "  return mnist_l1_loss(x, mean_three) < mnist_l1_loss(x, mean_seven)\n",
        "\n",
        "is_three(valid_three), is_three(valid_three).float()"
      ],
      "execution_count": 19,
      "outputs": [
        {
          "output_type": "execute_result",
          "data": {
            "text/plain": [
              "(tensor([True, True, True,  ..., True, True, True]),\n",
              " tensor([1., 1., 1.,  ..., 1., 1., 1.]))"
            ]
          },
          "metadata": {
            "tags": []
          },
          "execution_count": 19
        }
      ]
    },
    {
      "cell_type": "code",
      "metadata": {
        "id": "DPsx1bBgbkJf",
        "outputId": "9e413d69-d534-4615-b601-bb68d965b400",
        "colab": {
          "base_uri": "https://localhost:8080/",
          "height": 34
        }
      },
      "source": [
        "accuracy_3 = is_three(valid_three).float().mean()\n",
        "accuracy_7 = (1 - is_three(valid_seven).float()).mean()\n",
        "accuracy_3, accuracy_7"
      ],
      "execution_count": 20,
      "outputs": [
        {
          "output_type": "execute_result",
          "data": {
            "text/plain": [
              "(tensor(0.9168), tensor(0.9864))"
            ]
          },
          "metadata": {
            "tags": []
          },
          "execution_count": 20
        }
      ]
    },
    {
      "cell_type": "markdown",
      "metadata": {
        "id": "HUPXLHpaZuWC"
      },
      "source": [
        "## **Gradient descent**"
      ]
    },
    {
      "cell_type": "code",
      "metadata": {
        "id": "pAVhC76VdBrW",
        "outputId": "08fb090c-c5af-432f-e6e2-fce1566a8700",
        "colab": {
          "base_uri": "https://localhost:8080/",
          "height": 279
        }
      },
      "source": [
        "def f(x):\n",
        "  return x**2\n",
        "\n",
        "def plot_function(f, tx=None, ty=None, title=None, min=-2, max=2, figsize=(6,4)):\n",
        "    x = torch.linspace(min,max)\n",
        "    fig,ax = plt.subplots(figsize=figsize)\n",
        "    ax.plot(x,f(x))\n",
        "    if tx is not None: ax.set_xlabel(tx)\n",
        "    if ty is not None: ax.set_ylabel(ty)\n",
        "    if title is not None: ax.set_title(title)\n",
        "\n",
        "plot_function(f,'x', 'x**2')"
      ],
      "execution_count": 21,
      "outputs": [
        {
          "output_type": "display_data",
          "data": {
            "image/png": "[encoded data removed]",
            "text/plain": [
              "<Figure size 432x288 with 1 Axes>"
            ]
          },
          "metadata": {
            "tags": [],
            "needs_background": "light"
          }
        }
      ]
    },
    {
      "cell_type": "code",
      "metadata": {
        "id": "qHX2fKcYZ_qE",
        "outputId": "4a75d4a6-3d5d-431c-a3b3-3d558c12bb5e",
        "colab": {
          "base_uri": "https://localhost:8080/",
          "height": 296
        }
      },
      "source": [
        "plot_function(f,'x', 'x**2')\n",
        "plt.scatter(-1.5, f(-1.5), color='red')"
      ],
      "execution_count": 22,
      "outputs": [
        {
          "output_type": "execute_result",
          "data": {
            "text/plain": [
              "<matplotlib.collections.PathCollection at 0x7f1692e9e048>"
            ]
          },
          "metadata": {
            "tags": []
          },
          "execution_count": 22
        },
        {
          "output_type": "display_data",
          "data": {
            "image/png": "[encoded data removed]",
            "text/plain": [
              "<Figure size 432x288 with 1 Axes>"
            ]
          },
          "metadata": {
            "tags": [],
            "needs_background": "light"
          }
        }
      ]
    },
    {
      "cell_type": "code",
      "metadata": {
        "id": "EPo6mcWIbqEm"
      },
      "source": [
        "def f(x):\n",
        "  return x**2"
      ],
      "execution_count": 23,
      "outputs": []
    },
    {
      "cell_type": "code",
      "metadata": {
        "id": "HmXJgyQ9cbbc",
        "outputId": "87b66692-73a1-4985-9492-0efd30654464",
        "colab": {
          "base_uri": "https://localhost:8080/",
          "height": 34
        }
      },
      "source": [
        "der_x_3 = tensor(3.).requires_grad_()\n",
        "der_x_3"
      ],
      "execution_count": 24,
      "outputs": [
        {
          "output_type": "execute_result",
          "data": {
            "text/plain": [
              "tensor(3., requires_grad=True)"
            ]
          },
          "metadata": {
            "tags": []
          },
          "execution_count": 24
        }
      ]
    },
    {
      "cell_type": "code",
      "metadata": {
        "id": "iUVIXuSHc0xP",
        "outputId": "df3bb50d-0e0a-4df3-fd4f-e2c251a65fd1",
        "colab": {
          "base_uri": "https://localhost:8080/",
          "height": 34
        }
      },
      "source": [
        "der_f = f(der_x_3)\n",
        "der_f"
      ],
      "execution_count": 25,
      "outputs": [
        {
          "output_type": "execute_result",
          "data": {
            "text/plain": [
              "tensor(9., grad_fn=<PowBackward0>)"
            ]
          },
          "metadata": {
            "tags": []
          },
          "execution_count": 25
        }
      ]
    },
    {
      "cell_type": "code",
      "metadata": {
        "id": "vEcP5_DTc5yO",
        "outputId": "c1fbba78-fc1c-42ed-d118-a1fca520d578",
        "colab": {
          "base_uri": "https://localhost:8080/",
          "height": 34
        }
      },
      "source": [
        "der_f.backward()\n",
        "der_x_3.grad"
      ],
      "execution_count": 26,
      "outputs": [
        {
          "output_type": "execute_result",
          "data": {
            "text/plain": [
              "tensor(6.)"
            ]
          },
          "metadata": {
            "tags": []
          },
          "execution_count": 26
        }
      ]
    },
    {
      "cell_type": "markdown",
      "metadata": {
        "id": "vrApM218ouv6"
      },
      "source": [
        "## **Roller coaster**"
      ]
    },
    {
      "cell_type": "code",
      "metadata": {
        "id": "pLpKA0fjeLP1",
        "outputId": "04fcf0d9-e777-420f-d9a9-796e9c44c827",
        "colab": {
          "base_uri": "https://localhost:8080/",
          "height": 51
        }
      },
      "source": [
        "time = torch.arange(20.)\n",
        "time"
      ],
      "execution_count": 27,
      "outputs": [
        {
          "output_type": "execute_result",
          "data": {
            "text/plain": [
              "tensor([ 0.,  1.,  2.,  3.,  4.,  5.,  6.,  7.,  8.,  9., 10., 11., 12., 13.,\n",
              "        14., 15., 16., 17., 18., 19.])"
            ]
          },
          "metadata": {
            "tags": []
          },
          "execution_count": 27
        }
      ]
    },
    {
      "cell_type": "code",
      "metadata": {
        "id": "GwSF7m6UpU63",
        "outputId": "09996ab8-f227-4c7c-cdd1-573db086549f",
        "colab": {
          "base_uri": "https://localhost:8080/",
          "height": 68
        }
      },
      "source": [
        "#original speed\n",
        "speed = torch.randn(20)*3 + 0.75*(time-9.5)**2 + 1\n",
        "speed"
      ],
      "execution_count": 28,
      "outputs": [
        {
          "output_type": "execute_result",
          "data": {
            "text/plain": [
              "tensor([65.2930, 55.6609, 40.9316, 36.0454, 24.1571, 15.5124, 13.5039,  5.6749,\n",
              "         5.7631,  2.2235, -0.8903,  2.7407, 12.7846, 12.8611, 13.5199, 22.8580,\n",
              "        25.8174, 41.9646, 57.3803, 68.0018])"
            ]
          },
          "metadata": {
            "tags": []
          },
          "execution_count": 28
        }
      ]
    },
    {
      "cell_type": "code",
      "metadata": {
        "id": "uKhOj2Uepk6R",
        "outputId": "35d912c7-44b9-4cd8-d291-314d08b99931",
        "colab": {
          "base_uri": "https://localhost:8080/",
          "height": 282
        }
      },
      "source": [
        "plt.scatter(time, speed)"
      ],
      "execution_count": 29,
      "outputs": [
        {
          "output_type": "execute_result",
          "data": {
            "text/plain": [
              "<matplotlib.collections.PathCollection at 0x7f1692e13c88>"
            ]
          },
          "metadata": {
            "tags": []
          },
          "execution_count": 29
        },
        {
          "output_type": "display_data",
          "data": {
            "image/png": "[encoded data removed]",
            "text/plain": [
              "<Figure size 432x288 with 1 Axes>"
            ]
          },
          "metadata": {
            "tags": [],
            "needs_background": "light"
          }
        }
      ]
    },
    {
      "cell_type": "code",
      "metadata": {
        "id": "RmElq5lApssO"
      },
      "source": [
        "#the equation\n",
        "def f(t, params):\n",
        "  a,b,c = params\n",
        "  return a*(t**2) + (b*t) + c"
      ],
      "execution_count": 30,
      "outputs": []
    },
    {
      "cell_type": "code",
      "metadata": {
        "id": "bG201HezqOkq",
        "outputId": "743e5f08-a8b2-4a90-a7d5-48d449c9dc43",
        "colab": {
          "base_uri": "https://localhost:8080/",
          "height": 34
        }
      },
      "source": [
        "#initi the weights\n",
        "params = torch.randn(3).requires_grad_()\n",
        "params"
      ],
      "execution_count": 31,
      "outputs": [
        {
          "output_type": "execute_result",
          "data": {
            "text/plain": [
              "tensor([ 0.4424, -0.2848, -1.0394], requires_grad=True)"
            ]
          },
          "metadata": {
            "tags": []
          },
          "execution_count": 31
        }
      ]
    },
    {
      "cell_type": "code",
      "metadata": {
        "id": "Q_B-lSnfqbjb"
      },
      "source": [
        "#define loss function\n",
        "def mse(preds, targets):\n",
        "  return ((targets - preds)**2).mean()"
      ],
      "execution_count": 32,
      "outputs": []
    },
    {
      "cell_type": "code",
      "metadata": {
        "id": "JgceL3ybrFVd",
        "outputId": "b3dec67e-f09b-402d-85ff-4f1293ac2b9b",
        "colab": {
          "base_uri": "https://localhost:8080/",
          "height": 85
        }
      },
      "source": [
        "#check the weights with function and lose function\n",
        "preds = f(time, params)\n",
        "preds"
      ],
      "execution_count": 33,
      "outputs": [
        {
          "output_type": "execute_result",
          "data": {
            "text/plain": [
              "tensor([ -1.0394,  -0.8818,   0.1606,   2.0879,   4.8999,   8.5968,  13.1785,\n",
              "         18.6450,  24.9963,  32.2325,  40.3534,  49.3592,  59.2498,  70.0251,\n",
              "         81.6853,  94.2304, 107.6602, 121.9748, 137.1743, 153.2585],\n",
              "       grad_fn=<AddBackward0>)"
            ]
          },
          "metadata": {
            "tags": []
          },
          "execution_count": 33
        }
      ]
    },
    {
      "cell_type": "code",
      "metadata": {
        "id": "nt9D4l0QsUW5",
        "outputId": "3d1cd38b-59a8-432a-d6fb-48e7b278bce3",
        "colab": {
          "base_uri": "https://localhost:8080/",
          "height": 34
        }
      },
      "source": [
        "loss = mse(preds, speed)\n",
        "loss "
      ],
      "execution_count": 34,
      "outputs": [
        {
          "output_type": "execute_result",
          "data": {
            "text/plain": [
              "tensor(2902.3596, grad_fn=<MeanBackward0>)"
            ]
          },
          "metadata": {
            "tags": []
          },
          "execution_count": 34
        }
      ]
    },
    {
      "cell_type": "code",
      "metadata": {
        "id": "wre5I789t9f3",
        "outputId": "790ce0ac-8a0c-412b-e78f-308f60c8a207",
        "colab": {
          "base_uri": "https://localhost:8080/",
          "height": 269
        }
      },
      "source": [
        "def show_pred(preds, plot=None):\n",
        "  if plot is None:\n",
        "    plot = plt.subplots()[1]\n",
        "    plot.scatter(time, speed)\n",
        "    plot.scatter(time, to_np(preds), color ='red')\n",
        "    plot.set_ylim(-300, 100)\n",
        "\n",
        "show_pred(preds)"
      ],
      "execution_count": 35,
      "outputs": [
        {
          "output_type": "display_data",
          "data": {
            "image/png": "[encoded data removed]",
            "text/plain": [
              "<Figure size 432x288 with 1 Axes>"
            ]
          },
          "metadata": {
            "tags": [],
            "needs_background": "light"
          }
        }
      ]
    },
    {
      "cell_type": "code",
      "metadata": {
        "id": "GchC7y-jvV9x",
        "outputId": "429e5531-ad47-42f3-95ec-22a3f33d604e",
        "colab": {
          "base_uri": "https://localhost:8080/",
          "height": 34
        }
      },
      "source": [
        "loss.backward()\n",
        "params.grad"
      ],
      "execution_count": 36,
      "outputs": [
        {
          "output_type": "execute_result",
          "data": {
            "text/plain": [
              "tensor([15952.1016,  1013.7906,    49.6043])"
            ]
          },
          "metadata": {
            "tags": []
          },
          "execution_count": 36
        }
      ]
    },
    {
      "cell_type": "code",
      "metadata": {
        "id": "0A6qzG0HwKpJ"
      },
      "source": [
        " lr = 1e-5\n",
        "params.data -= lr *params.grad.data\n",
        "params.grad = None"
      ],
      "execution_count": 37,
      "outputs": []
    },
    {
      "cell_type": "code",
      "metadata": {
        "id": "Q9lS0cYZw0dy",
        "outputId": "0426e712-7582-4456-dfe2-92769acf2312",
        "colab": {
          "base_uri": "https://localhost:8080/",
          "height": 34
        }
      },
      "source": [
        "preds = f(time, params)\n",
        "mse(preds, speed)"
      ],
      "execution_count": 38,
      "outputs": [
        {
          "output_type": "execute_result",
          "data": {
            "text/plain": [
              "tensor(1069.1389, grad_fn=<MeanBackward0>)"
            ]
          },
          "metadata": {
            "tags": []
          },
          "execution_count": 38
        }
      ]
    },
    {
      "cell_type": "code",
      "metadata": {
        "id": "lA946aqqxG6n",
        "outputId": "e4cefb46-6fc1-4077-9cc8-b100b7667f06",
        "colab": {
          "base_uri": "https://localhost:8080/",
          "height": 269
        }
      },
      "source": [
        "show_pred(preds)"
      ],
      "execution_count": 39,
      "outputs": [
        {
          "output_type": "display_data",
          "data": {
            "image/png": "[encoded data removed]",
            "text/plain": [
              "<Figure size 432x288 with 1 Axes>"
            ]
          },
          "metadata": {
            "tags": [],
            "needs_background": "light"
          }
        }
      ]
    },
    {
      "cell_type": "code",
      "metadata": {
        "id": "Oa7M_4Ck1D7s",
        "outputId": "8e573608-7572-4c77-a0de-a62f811a90c7",
        "colab": {
          "base_uri": "https://localhost:8080/",
          "height": 34
        }
      },
      "source": [
        "params"
      ],
      "execution_count": 40,
      "outputs": [
        {
          "output_type": "execute_result",
          "data": {
            "text/plain": [
              "tensor([ 0.2829, -0.2949, -1.0399], requires_grad=True)"
            ]
          },
          "metadata": {
            "tags": []
          },
          "execution_count": 40
        }
      ]
    },
    {
      "cell_type": "code",
      "metadata": {
        "id": "7QohxomH6j6C",
        "outputId": "5844d313-4521-4f07-bcd8-8bef58376abd",
        "colab": {
          "base_uri": "https://localhost:8080/",
          "height": 34
        }
      },
      "source": [
        "params.data"
      ],
      "execution_count": 41,
      "outputs": [
        {
          "output_type": "execute_result",
          "data": {
            "text/plain": [
              "tensor([ 0.2829, -0.2949, -1.0399])"
            ]
          },
          "metadata": {
            "tags": []
          },
          "execution_count": 41
        }
      ]
    },
    {
      "cell_type": "code",
      "metadata": {
        "id": "3IYCJDly6l20"
      },
      "source": [
        "def apply_steps(params, prt=True):\n",
        "  preds = f(time, params)\n",
        "  loss = mse(preds, speed)\n",
        "  loss.backward()\n",
        "  lr = 1e-5\n",
        "  params.data -= lr * params.grad.data\n",
        "  params.grad = None\n",
        "  if prt:\n",
        "    print(loss.item())\n",
        "  return preds"
      ],
      "execution_count": 42,
      "outputs": []
    },
    {
      "cell_type": "code",
      "metadata": {
        "id": "iH0tKncy8wtv",
        "outputId": "8ac06902-73d2-4083-f245-469e4d4e7a31",
        "colab": {
          "base_uri": "https://localhost:8080/",
          "height": 187
        }
      },
      "source": [
        "for i in range(10):\n",
        "  apply_steps(params)"
      ],
      "execution_count": 43,
      "outputs": [
        {
          "output_type": "stream",
          "text": [
            "1069.138916015625\n",
            "722.233642578125\n",
            "656.5842895507812\n",
            "644.1573486328125\n",
            "641.801513671875\n",
            "641.3515625\n",
            "641.2621459960938\n",
            "641.2410888671875\n",
            "641.2327880859375\n",
            "641.2271118164062\n"
          ],
          "name": "stdout"
        }
      ]
    },
    {
      "cell_type": "markdown",
      "metadata": {
        "id": "1NpCrr5pEwbF"
      },
      "source": [
        "## **The MNIST Loss Function**"
      ]
    },
    {
      "cell_type": "code",
      "metadata": {
        "id": "GGDJIhMv_WN9",
        "outputId": "bea4d782-1e79-4152-81c7-94cdc3c3cc11",
        "colab": {
          "base_uri": "https://localhost:8080/",
          "height": 68
        }
      },
      "source": [
        "# make the training into vector\n",
        "train_x = torch.cat([stacked_threes, stacked_sevens]).view(-1, 28*28)\n",
        "train_x.shape, stacked_threes.shape, stacked_sevens.shape"
      ],
      "execution_count": 44,
      "outputs": [
        {
          "output_type": "execute_result",
          "data": {
            "text/plain": [
              "(torch.Size([12396, 784]),\n",
              " torch.Size([6131, 28, 28]),\n",
              " torch.Size([6265, 28, 28]))"
            ]
          },
          "metadata": {
            "tags": []
          },
          "execution_count": 44
        }
      ]
    },
    {
      "cell_type": "code",
      "metadata": {
        "id": "1jNaUDS4Fc3p",
        "outputId": "885bcdc6-9535-4aa0-d1fd-4e30276ee48e",
        "colab": {
          "base_uri": "https://localhost:8080/",
          "height": 34
        }
      },
      "source": [
        "train_y = tensor([1]*len(threes) + [0]*len(sevens)).unsqueeze(1)\n",
        "train_y.shape"
      ],
      "execution_count": 45,
      "outputs": [
        {
          "output_type": "execute_result",
          "data": {
            "text/plain": [
              "torch.Size([12396, 1])"
            ]
          },
          "metadata": {
            "tags": []
          },
          "execution_count": 45
        }
      ]
    },
    {
      "cell_type": "code",
      "metadata": {
        "id": "ShRiY-hLG1tC",
        "outputId": "a74d1a16-7d68-4211-933a-594477ee8b7d",
        "colab": {
          "base_uri": "https://localhost:8080/",
          "height": 136
        }
      },
      "source": [
        "train_y"
      ],
      "execution_count": 46,
      "outputs": [
        {
          "output_type": "execute_result",
          "data": {
            "text/plain": [
              "tensor([[1],\n",
              "        [1],\n",
              "        [1],\n",
              "        ...,\n",
              "        [0],\n",
              "        [0],\n",
              "        [0]])"
            ]
          },
          "metadata": {
            "tags": []
          },
          "execution_count": 46
        }
      ]
    },
    {
      "cell_type": "code",
      "metadata": {
        "id": "rNWznu4bHdtU",
        "outputId": "b58811a5-2a12-4377-8c0c-516ff05a6f8b",
        "colab": {
          "base_uri": "https://localhost:8080/",
          "height": 34
        }
      },
      "source": [
        "dset = list(zip(train_x, train_y))\n",
        "x,y = dset[0]\n",
        "x.shape, y.shape"
      ],
      "execution_count": 47,
      "outputs": [
        {
          "output_type": "execute_result",
          "data": {
            "text/plain": [
              "(torch.Size([784]), torch.Size([1]))"
            ]
          },
          "metadata": {
            "tags": []
          },
          "execution_count": 47
        }
      ]
    },
    {
      "cell_type": "code",
      "metadata": {
        "id": "F3gNP2GSJhVn",
        "outputId": "99b4c6e2-1a75-468f-9248-bb111f8e0893",
        "colab": {
          "base_uri": "https://localhost:8080/",
          "height": 34
        }
      },
      "source": [
        "valid_x = torch.cat([valid_three, valid_seven]).view(-1, 28*28)\n",
        "valid_y = tensor([1]*len(valid_three) + [0]*len(valid_seven)).unsqueeze(1)\n",
        "valid_dset = list(zip(valid_x, valid_y))\n",
        "valid_x.shape, valid_y.shape"
      ],
      "execution_count": 48,
      "outputs": [
        {
          "output_type": "execute_result",
          "data": {
            "text/plain": [
              "(torch.Size([2038, 784]), torch.Size([2038, 1]))"
            ]
          },
          "metadata": {
            "tags": []
          },
          "execution_count": 48
        }
      ]
    },
    {
      "cell_type": "code",
      "metadata": {
        "id": "es3z8HAdRDBR"
      },
      "source": [
        "def init(size, sd=1):\n",
        "  return (torch.randn(size)*sd).requires_grad_()"
      ],
      "execution_count": 49,
      "outputs": []
    },
    {
      "cell_type": "code",
      "metadata": {
        "id": "d0jIj0TgR6Zb",
        "outputId": "1182b933-6bb0-462c-ca83-2d41f6a3e69c",
        "colab": {
          "base_uri": "https://localhost:8080/",
          "height": 34
        }
      },
      "source": [
        "weights = init((28*28, 1))\n",
        "bias = init(1)\n",
        "weights.shape, bias.shape"
      ],
      "execution_count": 50,
      "outputs": [
        {
          "output_type": "execute_result",
          "data": {
            "text/plain": [
              "(torch.Size([784, 1]), torch.Size([1]))"
            ]
          },
          "metadata": {
            "tags": []
          },
          "execution_count": 50
        }
      ]
    },
    {
      "cell_type": "code",
      "metadata": {
        "id": "edtuJf8-SVzA",
        "outputId": "9a3b817b-3712-43e1-fd60-33bba5084406",
        "colab": {
          "base_uri": "https://localhost:8080/",
          "height": 34
        }
      },
      "source": [
        "pred = (train_x[0]*weights.T).sum() + bias\n",
        "pred"
      ],
      "execution_count": 51,
      "outputs": [
        {
          "output_type": "execute_result",
          "data": {
            "text/plain": [
              "tensor([7.7482], grad_fn=<AddBackward0>)"
            ]
          },
          "metadata": {
            "tags": []
          },
          "execution_count": 51
        }
      ]
    },
    {
      "cell_type": "code",
      "metadata": {
        "id": "ky3EweOQTRaS"
      },
      "source": [
        "def linear(train_x):\n",
        "  return train_x @ weights + bias\n",
        "\n",
        "pred = linear(train_x)"
      ],
      "execution_count": 52,
      "outputs": []
    },
    {
      "cell_type": "code",
      "metadata": {
        "id": "bRrJ-iT2bqyI",
        "outputId": "2ecda518-24ca-474b-caa3-cf60124b4452",
        "colab": {
          "base_uri": "https://localhost:8080/",
          "height": 34
        }
      },
      "source": [
        "pred.shape"
      ],
      "execution_count": 53,
      "outputs": [
        {
          "output_type": "execute_result",
          "data": {
            "text/plain": [
              "torch.Size([12396, 1])"
            ]
          },
          "metadata": {
            "tags": []
          },
          "execution_count": 53
        }
      ]
    },
    {
      "cell_type": "code",
      "metadata": {
        "id": "IjbWLuDwbyi2",
        "outputId": "577fba05-b125-4338-cd07-2af69eeb2a67",
        "colab": {
          "base_uri": "https://localhost:8080/",
          "height": 136
        }
      },
      "source": [
        "pred"
      ],
      "execution_count": 54,
      "outputs": [
        {
          "output_type": "execute_result",
          "data": {
            "text/plain": [
              "tensor([[ 7.7482],\n",
              "        [ 5.6285],\n",
              "        [-1.1311],\n",
              "        ...,\n",
              "        [15.9972],\n",
              "        [ 3.2327],\n",
              "        [18.4177]], grad_fn=<AddBackward0>)"
            ]
          },
          "metadata": {
            "tags": []
          },
          "execution_count": 54
        }
      ]
    },
    {
      "cell_type": "code",
      "metadata": {
        "id": "QfuodXT8cA-Q",
        "outputId": "4eac1425-3923-4efe-8a26-a437437d5f3f",
        "colab": {
          "base_uri": "https://localhost:8080/",
          "height": 136
        }
      },
      "source": [
        "train_y"
      ],
      "execution_count": 55,
      "outputs": [
        {
          "output_type": "execute_result",
          "data": {
            "text/plain": [
              "tensor([[1],\n",
              "        [1],\n",
              "        [1],\n",
              "        ...,\n",
              "        [0],\n",
              "        [0],\n",
              "        [0]])"
            ]
          },
          "metadata": {
            "tags": []
          },
          "execution_count": 55
        }
      ]
    },
    {
      "cell_type": "code",
      "metadata": {
        "id": "lF4PrWk2cRXY",
        "outputId": "d47b1b00-fef5-466e-c0e4-a34f561a85e7",
        "colab": {
          "base_uri": "https://localhost:8080/",
          "height": 34
        }
      },
      "source": [
        "pred[1]"
      ],
      "execution_count": 56,
      "outputs": [
        {
          "output_type": "execute_result",
          "data": {
            "text/plain": [
              "tensor([5.6285], grad_fn=<SelectBackward>)"
            ]
          },
          "metadata": {
            "tags": []
          },
          "execution_count": 56
        }
      ]
    },
    {
      "cell_type": "code",
      "metadata": {
        "id": "J3DesLDHcqx_",
        "outputId": "64fcaf0d-0eef-4c9d-e1e0-44f1559c615b",
        "colab": {
          "base_uri": "https://localhost:8080/",
          "height": 34
        }
      },
      "source": [
        "train_y[1]"
      ],
      "execution_count": 57,
      "outputs": [
        {
          "output_type": "execute_result",
          "data": {
            "text/plain": [
              "tensor([1])"
            ]
          },
          "metadata": {
            "tags": []
          },
          "execution_count": 57
        }
      ]
    },
    {
      "cell_type": "code",
      "metadata": {
        "id": "PynHsXCbctTo",
        "outputId": "1ab21a3c-b09f-4f2e-a9f2-65d329c64111",
        "colab": {
          "base_uri": "https://localhost:8080/",
          "height": 136
        }
      },
      "source": [
        "correct_3 = (pred>0).float() == train_y\n",
        "correct_3"
      ],
      "execution_count": 58,
      "outputs": [
        {
          "output_type": "execute_result",
          "data": {
            "text/plain": [
              "tensor([[ True],\n",
              "        [ True],\n",
              "        [False],\n",
              "        ...,\n",
              "        [False],\n",
              "        [False],\n",
              "        [False]])"
            ]
          },
          "metadata": {
            "tags": []
          },
          "execution_count": 58
        }
      ]
    },
    {
      "cell_type": "code",
      "metadata": {
        "id": "h5CYW3u_c7-P",
        "outputId": "62488afe-0566-46d9-e50d-fa07c3c5b996",
        "colab": {
          "base_uri": "https://localhost:8080/",
          "height": 136
        }
      },
      "source": [
        "correct_7 = (pred<0).float() == train_y\n",
        "correct_7"
      ],
      "execution_count": 59,
      "outputs": [
        {
          "output_type": "execute_result",
          "data": {
            "text/plain": [
              "tensor([[False],\n",
              "        [False],\n",
              "        [ True],\n",
              "        ...,\n",
              "        [ True],\n",
              "        [ True],\n",
              "        [ True]])"
            ]
          },
          "metadata": {
            "tags": []
          },
          "execution_count": 59
        }
      ]
    },
    {
      "cell_type": "code",
      "metadata": {
        "id": "VmujqY3XdLgN",
        "outputId": "13efc4f3-f81a-4b30-ac5e-9e207210b9c8",
        "colab": {
          "base_uri": "https://localhost:8080/",
          "height": 34
        }
      },
      "source": [
        "correct_3.float().mean().item()"
      ],
      "execution_count": 60,
      "outputs": [
        {
          "output_type": "execute_result",
          "data": {
            "text/plain": [
              "0.48596322536468506"
            ]
          },
          "metadata": {
            "tags": []
          },
          "execution_count": 60
        }
      ]
    },
    {
      "cell_type": "code",
      "metadata": {
        "id": "gCvaV8gidfWp",
        "outputId": "538eeecf-5428-4068-d9f6-2782093e97ab",
        "colab": {
          "base_uri": "https://localhost:8080/",
          "height": 34
        }
      },
      "source": [
        "correct_7.float().mean().item()"
      ],
      "execution_count": 61,
      "outputs": [
        {
          "output_type": "execute_result",
          "data": {
            "text/plain": [
              "0.5140367746353149"
            ]
          },
          "metadata": {
            "tags": []
          },
          "execution_count": 61
        }
      ]
    },
    {
      "cell_type": "code",
      "metadata": {
        "id": "DTOtCXCbd2DM"
      },
      "source": [
        "#This is the same as running the list comprehension \n",
        "#[b[i] if a[i] else c[i] for i in range(len(a))], \n",
        "#except it works on tensors, at C/CUDA speed. \n",
        "def mnist_loss(train_y, pred):\n",
        "  pred = sigmoid(pred)\n",
        "  loss = torch.where(train_y == 1, 1 - pred, pred)"
      ],
      "execution_count": 62,
      "outputs": []
    },
    {
      "cell_type": "code",
      "metadata": {
        "id": "sGOMsZ77N3M8"
      },
      "source": [
        "# 1- init the weights, bias \n",
        "weights = init((28*28, 1))\n",
        "bias = init(1)\n",
        "\n",
        "# 2- lets define model \n",
        "def linear(train_x):\n",
        "  params = weights, bias\n",
        "  return (train_x @ weights) + bias\n",
        "\n",
        "# 3- loss function:\n",
        "def mnist_loss(pred, train_y):\n",
        "  pred = pred.sigmoid()\n",
        "  return torch.where(train_y ==1, 1-pred, pred).mean()\n",
        "\n",
        "# 4- create dataloader for tain_dset and valid_dset\n",
        "dl_train = DataLoader(dset, batch_size=256)\n",
        "dl_valid = DataLoader(valid_dset, batch_size=256)\n",
        "\n",
        "# 5- calculate gardient\n",
        "def calcu_gradient(model, train_x, train_y):\n",
        "  pred = model(train_x)\n",
        "  loss = mnist_loss(pred, train_y)\n",
        "  loss.backward()\n",
        "\n",
        "# 6- added zero grad to rest , weights.grad.zero_(), bias.grad.zero_() in function\n",
        "\n",
        "def train_epoch(model, lr, params, dset):\n",
        "  for train_x, train_y in dset:\n",
        "    calcu_gradient(model, train_x, train_y)\n",
        "    for p in params:\n",
        "      p.data -= p.grad *lr\n",
        "      p.grad.zero_()\n",
        "\n",
        "# 7- define accuracy function\n",
        "def mnist_accuracy(train_y, pred):\n",
        "  pred = linear(train_x)\n",
        "  pred = pred.sigmoid()\n",
        "  correct = (pred>0.5) == train_y\n",
        "  return correct.float().mean()\n",
        "\n",
        "# 8- define vlaidation function\n",
        "def validate_epch(model, valid_dset):\n",
        "  acc = [mnist_accuracy(yb ,linear(xb)) for xb, yb in valid_dset]\n",
        "  return round(torch.stack(acc).mean().item(),4)\n"
      ],
      "execution_count": 63,
      "outputs": []
    },
    {
      "cell_type": "code",
      "metadata": {
        "id": "5MoZUBGQkpUP"
      },
      "source": [
        "params = weights, bias\n",
        "train_epoch(linear, 1, params, dset)"
      ],
      "execution_count": 64,
      "outputs": []
    },
    {
      "cell_type": "code",
      "metadata": {
        "id": "oHfAgvcwN3j3",
        "outputId": "472a8ed1-1e3f-454f-8eb5-938c4a487748",
        "colab": {
          "base_uri": "https://localhost:8080/",
          "height": 357
        }
      },
      "source": [
        "params = weights, bias\n",
        "for i in range(20):\n",
        "  train_epoch(linear, 0.01, params, dset[:20])\n",
        "  print(validate_epch(linear, dset[:20]), sep=\" \")\n"
      ],
      "execution_count": 65,
      "outputs": [
        {
          "output_type": "stream",
          "text": [
            "0.0031\n",
            "0.0031\n",
            "0.0031\n",
            "0.0031\n",
            "0.0031\n",
            "0.0031\n",
            "0.0031\n",
            "0.0031\n",
            "0.0031\n",
            "0.0031\n",
            "0.0031\n",
            "0.0031\n",
            "0.0031\n",
            "0.0031\n",
            "0.0031\n",
            "0.0031\n",
            "0.0031\n",
            "0.0031\n",
            "0.0031\n",
            "0.0031\n"
          ],
          "name": "stdout"
        }
      ]
    },
    {
      "cell_type": "code",
      "metadata": {
        "id": "FhTBE_d6N3xk",
        "outputId": "ce3502c8-2327-4536-f363-e512e190237f",
        "colab": {
          "base_uri": "https://localhost:8080/",
          "height": 34
        }
      },
      "source": [
        "# refactoring our code:\n",
        "# nn.Linear does the same thing as our init_params and linear together\n",
        "linear_py = nn.Linear(28*28,1)\n",
        "w, b = linear_py.parameters()\n",
        "w.shape, b.shape"
      ],
      "execution_count": 67,
      "outputs": [
        {
          "output_type": "execute_result",
          "data": {
            "text/plain": [
              "(torch.Size([1, 784]), torch.Size([1]))"
            ]
          },
          "metadata": {
            "tags": []
          },
          "execution_count": 67
        }
      ]
    },
    {
      "cell_type": "code",
      "metadata": {
        "id": "ZZSE0XqwN4EC",
        "outputId": "ba90af35-545a-47e1-9867-b22d2ccf5197",
        "colab": {
          "base_uri": "https://localhost:8080/",
          "height": 34
        }
      },
      "source": [
        "# We can create our optimizer by passing in the model’s parameters\n",
        "class BasicOptim:\n",
        "  def __init__(self, params, lr):\n",
        "    self.params = params\n",
        "    self.lr = lr\n",
        "  def step(self, *args, **kwargs):\n",
        "    for p in self.params:\n",
        "      p.data -= p.grad.data * self.lr\n",
        "  def zero_grad(self, *args, **kwargs):\n",
        "    for p in self.params:\n",
        "      p.grad._zero()\n",
        "\n",
        "opt = BasicOptim(linear_py.parameters(),1)\n",
        "opt"
      ],
      "execution_count": 68,
      "outputs": [
        {
          "output_type": "execute_result",
          "data": {
            "text/plain": [
              "<__main__.BasicOptim at 0x7f1692529e10>"
            ]
          },
          "metadata": {
            "tags": []
          },
          "execution_count": 68
        }
      ]
    },
    {
      "cell_type": "code",
      "metadata": {
        "id": "rj2My68HVonO",
        "outputId": "2257c504-6939-4191-f34d-d0abece2fcb9",
        "colab": {
          "base_uri": "https://localhost:8080/",
          "height": 34
        }
      },
      "source": [
        "def train_epoch(model, dset):\n",
        "  for train_x, train_y in dset:\n",
        "    calcu_gradient(model, train_x, train_y)\n",
        "    opt.step()\n",
        "    opt.zero_grad()\n",
        "\n",
        "def train_model(model, epoch, dset):\n",
        "  for i in range(epoch):\n",
        "    train_epoch(model, dset)\n",
        "    return print(validate_epch(model, dset), end=\" \")\n",
        "\n",
        "train_model(linear_py, 20, dset[:30])\n"
      ],
      "execution_count": 69,
      "outputs": [
        {
          "output_type": "stream",
          "text": [
            "0.0031 "
          ],
          "name": "stdout"
        }
      ]
    },
    {
      "cell_type": "code",
      "metadata": {
        "id": "Mwlq8ffelMOM",
        "outputId": "bea6b9bb-c702-4a98-eaea-a7e5e69f9620",
        "colab": {
          "base_uri": "https://localhost:8080/",
          "height": 34
        }
      },
      "source": [
        "# fastai provides the SGD class that, by default, does the same thing as our BasicOptim\n",
        "linear_model = nn.Linear(28*28, 1)\n",
        "opt = SGD(linear_model.parameters(), 1)\n",
        "train_model(linear_model, 20, dset[:50])"
      ],
      "execution_count": 72,
      "outputs": [
        {
          "output_type": "stream",
          "text": [
            "0.0031 "
          ],
          "name": "stdout"
        }
      ]
    },
    {
      "cell_type": "code",
      "metadata": {
        "id": "tqkI2FJrmPTg"
      },
      "source": [
        "#fastai also provides Learner.fit, which we can use instead of train_model.\n",
        "valid_dl = DataLoader(valid_dset, batch_size=256)\n",
        "\n",
        "dls = DataLoaders(dl, valid_dl)"
      ],
      "execution_count": null,
      "outputs": []
    }
  ]
}