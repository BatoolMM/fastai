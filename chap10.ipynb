{
  "nbformat": 4,
  "nbformat_minor": 0,
  "metadata": {
    "colab": {
      "name": "chap10.ipynb",
      "provenance": [],
      "authorship_tag": "ABX9TyNjXdLgmLpgWxpotYZDHT+o",
      "include_colab_link": true
    },
    "kernelspec": {
      "name": "python3",
      "display_name": "Python 3"
    },
    "accelerator": "GPU"
  },
  "cells": [
    {
      "cell_type": "markdown",
      "metadata": {
        "id": "view-in-github",
        "colab_type": "text"
      },
      "source": [
        "<a href=\"https://colab.research.google.com/github/BatoolMM/fastai/blob/master/chap10.ipynb\" target=\"_parent\"><img src=\"https://colab.research.google.com/assets/colab-badge.svg\" alt=\"Open In Colab\"/></a>"
      ]
    },
    {
      "cell_type": "code",
      "metadata": {
        "id": "q8SPB7fUxjdM"
      },
      "source": [
        "!pip install fastcore\n",
        "!pip install fastai\n",
        "!pip install fastai --upgrade\n",
        "!pip install kaggle"
      ],
      "execution_count": null,
      "outputs": []
    },
    {
      "cell_type": "code",
      "metadata": {
        "id": "DQ5tx1P4xocR"
      },
      "source": [
        "from fastai.tabular.all import *\n",
        "\n",
        "creds = '{\"username\":\"xxx\",\"key\":\"xxx\"}'\n",
        "\n",
        "cred_path = Path('~/.kaggle/kaggle.json').expanduser()\n",
        "if not cred_path.exists():\n",
        "    cred_path.parent.mkdir(exist_ok=True)\n",
        "    cred_path.mk_write(creds)\n",
        "    cred_path.chmod(0o600)"
      ],
      "execution_count": 2,
      "outputs": []
    }
  ]
}